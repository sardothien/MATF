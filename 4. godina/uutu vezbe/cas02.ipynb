{
  "nbformat": 4,
  "nbformat_minor": 0,
  "metadata": {
    "colab": {
      "name": "cas02.ipynb",
      "provenance": [],
      "collapsed_sections": []
    },
    "kernelspec": {
      "name": "python3",
      "display_name": "Python 3"
    },
    "language_info": {
      "name": "python"
    }
  },
  "cells": [
    {
      "cell_type": "markdown",
      "metadata": {
        "id": "bKDF2taQ3EOb"
      },
      "source": [
        "**1. U restoranu se sluze cetiri vrste kolaca - baklave, tulumbe, ekleri i sampite. Desetoro ljudi je kupilo baklavu, dvadesetoro tulumbu, dvadeset i petoro ekler, a petnaestoro sampitu. Na slucajan nacin se odaberu 2 razlicite vrste kolaca i belezi se broj ljudi koji su kupili tu vrstu. \\\\\n",
        "a) Oceniti ukupan broj osoba koje su kupile kolac, a zatim  ispitati nepristrasnost ocene koja se koristi. \\\\\n",
        "b) Ispitati da li je uzoracka disperzija nepristrasna ocena disperzije na citavoj populaciji.** "
      ]
    },
    {
      "cell_type": "code",
      "metadata": {
        "id": "KaSPb-3y4FLC"
      },
      "source": [
        "import random\n",
        "import statistics\n",
        "from itertools import combinations"
      ],
      "execution_count": 1,
      "outputs": []
    },
    {
      "cell_type": "code",
      "metadata": {
        "id": "768zzsOaz6JF"
      },
      "source": [
        "populacija = [1, 2, 3, 4] # baklava, tulumbe, ekleri, sampita\n",
        "Y = [10, 20, 25, 15]"
      ],
      "execution_count": 2,
      "outputs": []
    },
    {
      "cell_type": "code",
      "metadata": {
        "id": "tZSxQKIG3tuv"
      },
      "source": [
        "N = len(populacija)\n",
        "n = 2"
      ],
      "execution_count": 3,
      "outputs": []
    },
    {
      "cell_type": "code",
      "metadata": {
        "id": "XkiprKIY4Csj"
      },
      "source": [
        "uzorak = random.sample(populacija, n)"
      ],
      "execution_count": 4,
      "outputs": []
    },
    {
      "cell_type": "code",
      "metadata": {
        "colab": {
          "base_uri": "https://localhost:8080/"
        },
        "id": "EMuw900y4Kii",
        "outputId": "b903a13d-bbe3-4281-ccd9-c3f75ed8ce63"
      },
      "source": [
        "t_ocena = N*statistics.mean([Y[uzorak[0]-1], Y[uzorak[1]-1]])\n",
        "print(t_ocena)"
      ],
      "execution_count": 5,
      "outputs": [
        {
          "output_type": "stream",
          "text": [
            "80\n"
          ],
          "name": "stdout"
        }
      ]
    },
    {
      "cell_type": "markdown",
      "metadata": {
        "id": "sShqip635iPv"
      },
      "source": [
        "**(a)**"
      ]
    },
    {
      "cell_type": "code",
      "metadata": {
        "colab": {
          "base_uri": "https://localhost:8080/"
        },
        "id": "VwwUjX-F4otH",
        "outputId": "d3e9add3-7af0-4bba-cc53-98986c3e9b36"
      },
      "source": [
        "M = combinations(populacija, n)\n",
        "M = list(M)\n",
        "print(M)"
      ],
      "execution_count": 6,
      "outputs": [
        {
          "output_type": "stream",
          "text": [
            "[(1, 2), (1, 3), (1, 4), (2, 3), (2, 4), (3, 4)]\n"
          ],
          "name": "stdout"
        }
      ]
    },
    {
      "cell_type": "code",
      "metadata": {
        "colab": {
          "base_uri": "https://localhost:8080/"
        },
        "id": "G05gN6hB5u4g",
        "outputId": "65b1ae62-2185-496d-bd71-a50632f766dd"
      },
      "source": [
        "P_uzorka = [1/6 for _ in range(len(M))]\n",
        "print(P_uzorka)"
      ],
      "execution_count": 7,
      "outputs": [
        {
          "output_type": "stream",
          "text": [
            "[0.16666666666666666, 0.16666666666666666, 0.16666666666666666, 0.16666666666666666, 0.16666666666666666, 0.16666666666666666]\n"
          ],
          "name": "stdout"
        }
      ]
    },
    {
      "cell_type": "code",
      "metadata": {
        "colab": {
          "base_uri": "https://localhost:8080/"
        },
        "id": "E3aSiPPr54LZ",
        "outputId": "4565965e-fc48-4fd8-f05e-da007eadfe66"
      },
      "source": [
        "Y_sr = []\n",
        "for i in range(len(M)):\n",
        "    Y_sr.append(statistics.mean([Y[M[i][0]-1], Y[M[i][1]-1]]))\n",
        "print(Y_sr)"
      ],
      "execution_count": 8,
      "outputs": [
        {
          "output_type": "stream",
          "text": [
            "[15, 17.5, 12.5, 22.5, 17.5, 20]\n"
          ],
          "name": "stdout"
        }
      ]
    },
    {
      "cell_type": "code",
      "metadata": {
        "colab": {
          "base_uri": "https://localhost:8080/"
        },
        "id": "ZW2M9ykn6X8k",
        "outputId": "b09d7a38-88a6-4eff-c23e-9fc7ae60fda7"
      },
      "source": [
        "E_t_ocena = N * sum([ y*p for y,p in zip(Y_sr, P_uzorka) ])\n",
        "print(E_t_ocena)"
      ],
      "execution_count": 9,
      "outputs": [
        {
          "output_type": "stream",
          "text": [
            "70.0\n"
          ],
          "name": "stdout"
        }
      ]
    },
    {
      "cell_type": "code",
      "metadata": {
        "colab": {
          "base_uri": "https://localhost:8080/"
        },
        "id": "o1-Vur7x6miH",
        "outputId": "b3046f96-42a8-4223-b0fe-3113baf8a437"
      },
      "source": [
        "t = sum(Y)\n",
        "print(t)"
      ],
      "execution_count": 10,
      "outputs": [
        {
          "output_type": "stream",
          "text": [
            "70\n"
          ],
          "name": "stdout"
        }
      ]
    },
    {
      "cell_type": "code",
      "metadata": {
        "colab": {
          "base_uri": "https://localhost:8080/"
        },
        "id": "SdHJoLrm6oeQ",
        "outputId": "252fbd05-da5e-4f7f-bde9-2281c883eaa5"
      },
      "source": [
        "E_t_ocena == t # True -> ocena je nepristrasna"
      ],
      "execution_count": 11,
      "outputs": [
        {
          "output_type": "execute_result",
          "data": {
            "text/plain": [
              "True"
            ]
          },
          "metadata": {
            "tags": []
          },
          "execution_count": 11
        }
      ]
    },
    {
      "cell_type": "markdown",
      "metadata": {
        "id": "iKY_bcxg6uNh"
      },
      "source": [
        "**(b)**"
      ]
    },
    {
      "cell_type": "code",
      "metadata": {
        "colab": {
          "base_uri": "https://localhost:8080/"
        },
        "id": "fMnipbAn6vzm",
        "outputId": "c8501ef5-17fa-4657-fd1a-7a52376033c4"
      },
      "source": [
        "sigma_2 = statistics.variance(Y)\n",
        "print(sigma_2)"
      ],
      "execution_count": 12,
      "outputs": [
        {
          "output_type": "stream",
          "text": [
            "41.666666666666664\n"
          ],
          "name": "stdout"
        }
      ]
    },
    {
      "cell_type": "code",
      "metadata": {
        "colab": {
          "base_uri": "https://localhost:8080/"
        },
        "id": "x2KXkNFn7R-T",
        "outputId": "3a7f6999-5381-4c7b-f926-0424befea718"
      },
      "source": [
        "S_2 = []\n",
        "for i in range(len(M)):\n",
        "    S_2.append(statistics.variance([Y[M[i][0]-1], Y[M[i][1]-1]]))\n",
        "\n",
        "print(S_2)"
      ],
      "execution_count": 13,
      "outputs": [
        {
          "output_type": "stream",
          "text": [
            "[50, 112.5, 12.5, 12.5, 12.5, 50]\n"
          ],
          "name": "stdout"
        }
      ]
    },
    {
      "cell_type": "code",
      "metadata": {
        "colab": {
          "base_uri": "https://localhost:8080/"
        },
        "id": "JEN-OfZh7hsS",
        "outputId": "62e4f66e-25cb-466f-dd13-314cd3900809"
      },
      "source": [
        "E_S_2 = sum([ s*p for s,p in zip(S_2, P_uzorka) ])\n",
        "print(E_S_2)"
      ],
      "execution_count": 14,
      "outputs": [
        {
          "output_type": "stream",
          "text": [
            "41.66666666666666\n"
          ],
          "name": "stdout"
        }
      ]
    },
    {
      "cell_type": "code",
      "metadata": {
        "colab": {
          "base_uri": "https://localhost:8080/"
        },
        "id": "7lksq2nR7rrp",
        "outputId": "2b264b32-78f7-4b82-f675-2a03ad1b1e22"
      },
      "source": [
        "round(sigma_2, 5) == round(E_S_2, 5) # True -> ocena je nepristrasna"
      ],
      "execution_count": 15,
      "outputs": [
        {
          "output_type": "execute_result",
          "data": {
            "text/plain": [
              "True"
            ]
          },
          "metadata": {
            "tags": []
          },
          "execution_count": 15
        }
      ]
    },
    {
      "cell_type": "markdown",
      "metadata": {
        "id": "5coSO62C8HBY"
      },
      "source": [
        "**2. Uzet je prost slucajan uzorak bez ponavljanja od 10 ucenika od 100 ucenika treceg razreda i belezene su njihove ocene iz matematike. Zabelezeni su rezultati: (4,5,5,2,3,1,3,4,4,5). Oceniti prosecnu ocenu iz matematike, a zatim izracunati ocenu disperzije te ocene.**"
      ]
    },
    {
      "cell_type": "code",
      "metadata": {
        "id": "x_3P5ucc8NYQ"
      },
      "source": [
        "N = 100\n",
        "n = 10"
      ],
      "execution_count": 16,
      "outputs": []
    },
    {
      "cell_type": "code",
      "metadata": {
        "id": "mRrpNOGN88GE"
      },
      "source": [
        "Y = [4, 5, 5, 2, 3, 1, 3, 4, 4, 5]"
      ],
      "execution_count": 17,
      "outputs": []
    },
    {
      "cell_type": "code",
      "metadata": {
        "colab": {
          "base_uri": "https://localhost:8080/"
        },
        "id": "SDu_25_w9ARL",
        "outputId": "1277a0d3-d194-4c7b-fad0-98d68d83ca2b"
      },
      "source": [
        "Y_sr = statistics.mean(Y)\n",
        "print(Y_sr)"
      ],
      "execution_count": 18,
      "outputs": [
        {
          "output_type": "stream",
          "text": [
            "3.6\n"
          ],
          "name": "stdout"
        }
      ]
    },
    {
      "cell_type": "code",
      "metadata": {
        "colab": {
          "base_uri": "https://localhost:8080/"
        },
        "id": "G4H580gR9FvJ",
        "outputId": "f6c73671-1382-4749-c7b6-c868f9cf775b"
      },
      "source": [
        "ocena_D_Y_sr = (statistics.variance(Y) / n) * (1 - n/N) \n",
        "print(ocena_D_Y_sr)"
      ],
      "execution_count": 19,
      "outputs": [
        {
          "output_type": "stream",
          "text": [
            "0.164\n"
          ],
          "name": "stdout"
        }
      ]
    },
    {
      "cell_type": "markdown",
      "metadata": {
        "id": "2vRf6CVy9aVr"
      },
      "source": [
        "**3. Uzet je prost slucajan uzorak od 10 razlicitih kuca od  100 kuca koje se nalaze u jednom naselju. Broj stanovnika u kucama iz uzorka je 2,5,1,4,4,3,2,5,2,3. \\\\\n",
        "a) Oceniti ukupan broj stanovnika u tom naselju i oceniti disperziju te ocene. \\\\\n",
        "b) Oceniti prosecan broj stanovnika po kuci i oceniti disperziju te ocene. \\\\\n",
        "c) Naci priblizni 90%-ni interval poverenja za ukupan broj stanovnika.**"
      ]
    },
    {
      "cell_type": "code",
      "metadata": {
        "id": "Y7x67zdY9hin"
      },
      "source": [
        "N = 100\n",
        "n = 10"
      ],
      "execution_count": 20,
      "outputs": []
    },
    {
      "cell_type": "code",
      "metadata": {
        "id": "XFCrC7wi9tVe"
      },
      "source": [
        "Y = [2, 5, 1, 4, 4, 3, 2, 5, 2, 3]"
      ],
      "execution_count": 21,
      "outputs": []
    },
    {
      "cell_type": "markdown",
      "metadata": {
        "id": "f0ygEaKQ-I9v"
      },
      "source": [
        "**(a)**"
      ]
    },
    {
      "cell_type": "code",
      "metadata": {
        "colab": {
          "base_uri": "https://localhost:8080/"
        },
        "id": "X8fXmom39wLm",
        "outputId": "29a3ed8d-243a-43b5-c827-aea212812ae8"
      },
      "source": [
        "t_ocena = N * statistics.mean(Y)\n",
        "print(t_ocena)"
      ],
      "execution_count": 22,
      "outputs": [
        {
          "output_type": "stream",
          "text": [
            "310.0\n"
          ],
          "name": "stdout"
        }
      ]
    },
    {
      "cell_type": "code",
      "metadata": {
        "colab": {
          "base_uri": "https://localhost:8080/"
        },
        "id": "4IxF0d3c91VF",
        "outputId": "e506b589-ee1c-4af8-e0e4-9f24f3b326b6"
      },
      "source": [
        "ocena_D_t_ocena = (statistics.variance(Y)/n) * (1-n/N) * N**2\n",
        "print(ocena_D_t_ocena)"
      ],
      "execution_count": 23,
      "outputs": [
        {
          "output_type": "stream",
          "text": [
            "1689.9999999999998\n"
          ],
          "name": "stdout"
        }
      ]
    },
    {
      "cell_type": "markdown",
      "metadata": {
        "id": "j-nNhgj_-LQA"
      },
      "source": [
        "**(b)**"
      ]
    },
    {
      "cell_type": "code",
      "metadata": {
        "colab": {
          "base_uri": "https://localhost:8080/"
        },
        "id": "bW_MnbdX-ALs",
        "outputId": "ce7c19cf-2cd8-4d21-f4bf-393a152c2d3c"
      },
      "source": [
        "Y_sr = statistics.mean(Y)\n",
        "print(Y_sr)"
      ],
      "execution_count": 24,
      "outputs": [
        {
          "output_type": "stream",
          "text": [
            "3.1\n"
          ],
          "name": "stdout"
        }
      ]
    },
    {
      "cell_type": "code",
      "metadata": {
        "colab": {
          "base_uri": "https://localhost:8080/"
        },
        "id": "W02L6Ch0-QcU",
        "outputId": "48408f48-9342-4a40-fc38-b4b03854f1ed"
      },
      "source": [
        "ocena_D_Y_sr = (statistics.variance(Y)/n) * (1-n/N)\n",
        "print(ocena_D_Y_sr)"
      ],
      "execution_count": 25,
      "outputs": [
        {
          "output_type": "stream",
          "text": [
            "0.16899999999999998\n"
          ],
          "name": "stdout"
        }
      ]
    },
    {
      "cell_type": "markdown",
      "metadata": {
        "id": "nMjWwnJW-2cI"
      },
      "source": [
        "**(c)**"
      ]
    },
    {
      "cell_type": "code",
      "metadata": {
        "id": "VPjp8HUJ_dar"
      },
      "source": [
        "from scipy.stats import t\n",
        "import math"
      ],
      "execution_count": 26,
      "outputs": []
    },
    {
      "cell_type": "code",
      "metadata": {
        "id": "gnl8bSHU-3rq"
      },
      "source": [
        "alpha = 1 - 0.9"
      ],
      "execution_count": 27,
      "outputs": []
    },
    {
      "cell_type": "code",
      "metadata": {
        "colab": {
          "base_uri": "https://localhost:8080/"
        },
        "id": "LgBLZblr_DvI",
        "outputId": "f73d8e55-e198-4d2f-d727-1a7aa86a74c3"
      },
      "source": [
        "# n < 30 -> studentova raspodela\n",
        "z_student = t.ppf(1-alpha/2, n-1)\n",
        "print(z_student)"
      ],
      "execution_count": 28,
      "outputs": [
        {
          "output_type": "stream",
          "text": [
            "1.8331129326536335\n"
          ],
          "name": "stdout"
        }
      ]
    },
    {
      "cell_type": "code",
      "metadata": {
        "colab": {
          "base_uri": "https://localhost:8080/"
        },
        "id": "SBd_iI70_5_i",
        "outputId": "c74dbefb-e19b-457d-b2a2-14bc6e4849e7"
      },
      "source": [
        "koren = math.sqrt( (statistics.variance(Y)/n) * (1-n/N) * N**2 )\n",
        "interval = [t_ocena - z_student * koren, t_ocena + z_student * koren]\n",
        "print(interval)"
      ],
      "execution_count": 29,
      "outputs": [
        {
          "output_type": "stream",
          "text": [
            "[234.64144301854773, 385.35855698145224]\n"
          ],
          "name": "stdout"
        }
      ]
    },
    {
      "cell_type": "markdown",
      "metadata": {
        "id": "OACv7nWDAYlp"
      },
      "source": [
        "**4. Botanicar zeli da oceni broj stabala breze u nekoj oblasti. Oblast je podeljena na 1000 delova. Poznato je iz prethodnih ispitivanja da je disperzija broja stabala po oblasti priblizno 45. Odrediti velicinu prostog slucajnog uzorka bez ponavljanja, potrebnu da sa verovatnocom 0.95 odstupanje ne bude vece od 500 stabala.**"
      ]
    },
    {
      "cell_type": "code",
      "metadata": {
        "id": "503D1KHFA4RX"
      },
      "source": [
        "from scipy.stats import norm"
      ],
      "execution_count": 30,
      "outputs": []
    },
    {
      "cell_type": "code",
      "metadata": {
        "id": "cX0oUPVYAkcS"
      },
      "source": [
        "N = 1000\n",
        "sigma_2 = 45\n",
        "alpha = 1-0.95\n",
        "delta = 500"
      ],
      "execution_count": 31,
      "outputs": []
    },
    {
      "cell_type": "code",
      "metadata": {
        "colab": {
          "base_uri": "https://localhost:8080/"
        },
        "id": "0gI3dgbEArEv",
        "outputId": "42fa11c8-2c1f-4c9d-9114-cc123881d925"
      },
      "source": [
        "z = norm.ppf(1-alpha/2)\n",
        "print(z)"
      ],
      "execution_count": 32,
      "outputs": [
        {
          "output_type": "stream",
          "text": [
            "1.959963984540054\n"
          ],
          "name": "stdout"
        }
      ]
    },
    {
      "cell_type": "code",
      "metadata": {
        "colab": {
          "base_uri": "https://localhost:8080/"
        },
        "id": "X3gVvossA_yr",
        "outputId": "d62c3767-0047-4478-8afa-af1feb08903c"
      },
      "source": [
        "n = (delta**2 / (z**2 * sigma_2 * N**2) + 1/N)**(-1)\n",
        "n = math.ceil(n)\n",
        "print(n)"
      ],
      "execution_count": 33,
      "outputs": [
        {
          "output_type": "stream",
          "text": [
            "409\n"
          ],
          "name": "stdout"
        }
      ]
    },
    {
      "cell_type": "markdown",
      "metadata": {
        "id": "_OKUB3PIDpWJ"
      },
      "source": [
        "**5. Posmatramo populaciju obima 5, ciji su elementi oznaceni brojevima 1,2,3,4,5, a vrednosti obelezja su redom 3,1,0,1,5. Razmotrimo princip prostog slucajnog uzorkovanja bez ponavljanja za uzorak obima 3. Pokazati da je srednja vrednost obelezja na uzorku nepristrasna ocena srednje\n",
        "vrednosti obelezja populacije.**"
      ]
    },
    {
      "cell_type": "code",
      "metadata": {
        "id": "qixEFDdgCleO"
      },
      "source": [
        "N = 5\n",
        "n = 3"
      ],
      "execution_count": 34,
      "outputs": []
    },
    {
      "cell_type": "code",
      "metadata": {
        "id": "Xmdf8gXJEayd"
      },
      "source": [
        "populacija = list(range(1,6))\n",
        "Y = [3, 1, 0, 1, 5]"
      ],
      "execution_count": 35,
      "outputs": []
    },
    {
      "cell_type": "code",
      "metadata": {
        "colab": {
          "base_uri": "https://localhost:8080/"
        },
        "id": "R-tMzW9pEhjd",
        "outputId": "3de3f0f2-ad38-4cf1-e282-3155e106450a"
      },
      "source": [
        "M = combinations(populacija, n)\n",
        "M = list(M)\n",
        "print(M)"
      ],
      "execution_count": 36,
      "outputs": [
        {
          "output_type": "stream",
          "text": [
            "[(1, 2, 3), (1, 2, 4), (1, 2, 5), (1, 3, 4), (1, 3, 5), (1, 4, 5), (2, 3, 4), (2, 3, 5), (2, 4, 5), (3, 4, 5)]\n"
          ],
          "name": "stdout"
        }
      ]
    },
    {
      "cell_type": "code",
      "metadata": {
        "colab": {
          "base_uri": "https://localhost:8080/"
        },
        "id": "1y3kWumjEnhE",
        "outputId": "f168285f-1196-4a6c-e6a1-6b47fe2678ee"
      },
      "source": [
        "P_uzorka = [1/len(M) for _ in range(len(M))]\n",
        "print(P_uzorka)"
      ],
      "execution_count": 37,
      "outputs": [
        {
          "output_type": "stream",
          "text": [
            "[0.1, 0.1, 0.1, 0.1, 0.1, 0.1, 0.1, 0.1, 0.1, 0.1]\n"
          ],
          "name": "stdout"
        }
      ]
    },
    {
      "cell_type": "code",
      "metadata": {
        "colab": {
          "base_uri": "https://localhost:8080/"
        },
        "id": "ACbrXJOHEy4r",
        "outputId": "82957f41-58cc-47bd-e71d-28328535fae8"
      },
      "source": [
        "Y_sr = []\n",
        "for i in range(len(M)):\n",
        "    Y_sr.append(statistics.mean([ Y[M[i][0]-1], Y[M[i][1]-1], Y[M[i][2]-1] ]))\n",
        "\n",
        "print(Y_sr)"
      ],
      "execution_count": 38,
      "outputs": [
        {
          "output_type": "stream",
          "text": [
            "[1.3333333333333333, 1.6666666666666667, 3, 1.3333333333333333, 2.6666666666666665, 3, 0.6666666666666666, 2, 2.3333333333333335, 2]\n"
          ],
          "name": "stdout"
        }
      ]
    },
    {
      "cell_type": "code",
      "metadata": {
        "colab": {
          "base_uri": "https://localhost:8080/"
        },
        "id": "yTf43VrxFHdb",
        "outputId": "d8c8bd16-5301-4cdf-84ed-30013d62b2ad"
      },
      "source": [
        "E_Y_sr = sum([ y*p for y,p in zip(Y_sr, P_uzorka) ])\n",
        "print(E_Y_sr)"
      ],
      "execution_count": 39,
      "outputs": [
        {
          "output_type": "stream",
          "text": [
            "2.0\n"
          ],
          "name": "stdout"
        }
      ]
    },
    {
      "cell_type": "code",
      "metadata": {
        "colab": {
          "base_uri": "https://localhost:8080/"
        },
        "id": "dSmFxTplFOcZ",
        "outputId": "b03c7f94-c07f-46a4-b282-2433bd607f9c"
      },
      "source": [
        "E_Y_sr == statistics.mean(Y) # True -> ocena je nepristrasna"
      ],
      "execution_count": 40,
      "outputs": [
        {
          "output_type": "execute_result",
          "data": {
            "text/plain": [
              "True"
            ]
          },
          "metadata": {
            "tags": []
          },
          "execution_count": 40
        }
      ]
    },
    {
      "cell_type": "markdown",
      "metadata": {
        "id": "SjSffd2cFgYa"
      },
      "source": [
        "**6. U datoteci deca.txt dati su podaci o broju dece u svakoj od 512 ulica u nekom gradu. Naci 95%-ni interval poverenja za ukupan broj dece u tom gradu koristeci prost slucajan uzorak bez ponavljanja obima 200.**"
      ]
    },
    {
      "cell_type": "code",
      "metadata": {
        "id": "w2Q0yik0G_yR"
      },
      "source": [
        "import pandas as pd"
      ],
      "execution_count": 41,
      "outputs": []
    },
    {
      "cell_type": "code",
      "metadata": {
        "id": "YEy1hDsAGLHe"
      },
      "source": [
        "N = 512\n",
        "n = 200"
      ],
      "execution_count": 42,
      "outputs": []
    },
    {
      "cell_type": "code",
      "metadata": {
        "colab": {
          "base_uri": "https://localhost:8080/"
        },
        "id": "1feTJKSIHPE8",
        "outputId": "503560c4-d534-4e88-c040-cf05d31cd321"
      },
      "source": [
        "deca = pd.read_csv(\"deca.txt\", sep=\" \")\n",
        "print(deca.head())"
      ],
      "execution_count": 43,
      "outputs": [
        {
          "output_type": "stream",
          "text": [
            "   ulica  br_dece\n",
            "1      1       21\n",
            "2      2       76\n",
            "3      3       50\n",
            "4      4       85\n",
            "5      5       37\n"
          ],
          "name": "stdout"
        }
      ]
    },
    {
      "cell_type": "code",
      "metadata": {
        "id": "a3THiUR-Ixrw"
      },
      "source": [
        "uzorak = random.sample(list(deca['ulica']), n)"
      ],
      "execution_count": 44,
      "outputs": []
    },
    {
      "cell_type": "code",
      "metadata": {
        "colab": {
          "base_uri": "https://localhost:8080/"
        },
        "id": "qwgdnT8BJ_Zi",
        "outputId": "1b91f30a-9888-4bfe-b899-02c1532354a4"
      },
      "source": [
        "t_ocena = N * statistics.mean( deca['br_dece'][uzorak] )\n",
        "print(t_ocena)"
      ],
      "execution_count": 45,
      "outputs": [
        {
          "output_type": "stream",
          "text": [
            "24473.6\n"
          ],
          "name": "stdout"
        }
      ]
    },
    {
      "cell_type": "code",
      "metadata": {
        "id": "bPk-NrsWKXXz"
      },
      "source": [
        "alpha = 1 - 0.95"
      ],
      "execution_count": 46,
      "outputs": []
    },
    {
      "cell_type": "code",
      "metadata": {
        "id": "qdS83DBAKc0X"
      },
      "source": [
        "z = norm.ppf(1-alpha/2)"
      ],
      "execution_count": 47,
      "outputs": []
    },
    {
      "cell_type": "code",
      "metadata": {
        "colab": {
          "base_uri": "https://localhost:8080/"
        },
        "id": "DeTz1BGoKi2A",
        "outputId": "f6f00e3e-447c-47e5-f551-0752755b2eeb"
      },
      "source": [
        "# n > 30 pa mozemo da koristimo normalnu raspodelu\n",
        "S_2 = statistics.variance(deca['br_dece'][uzorak])\n",
        "print(S_2)"
      ],
      "execution_count": 48,
      "outputs": [
        {
          "output_type": "stream",
          "text": [
            "883.4572864321608\n"
          ],
          "name": "stdout"
        }
      ]
    },
    {
      "cell_type": "code",
      "metadata": {
        "colab": {
          "base_uri": "https://localhost:8080/"
        },
        "id": "GKzv2rM9KufW",
        "outputId": "0cdf2028-496c-4225-d726-3b800f60de85"
      },
      "source": [
        "koren = math.sqrt( (S_2/n) * (1-n/N) * N**2 )\n",
        "interval = [t_ocena - z * koren, t_ocena + z * koren]\n",
        "print(interval)"
      ],
      "execution_count": 49,
      "outputs": [
        {
          "output_type": "stream",
          "text": [
            "[22827.18941645427, 26120.01058354573]\n"
          ],
          "name": "stdout"
        }
      ]
    },
    {
      "cell_type": "markdown",
      "metadata": {
        "id": "eK4ZzENXK_VB"
      },
      "source": [
        "**7. Za koji od sledecih planova prostog slucajnog uzorkovanja bez ponavljanja ce biti dobijena najpreciznija ocena srednje vrednosti obelezja na populaciji? Pretpostavimo da obelezje na svakoj od populacija ima disperziju 100. \\\\\n",
        "a) uzorak obima 400, dobijen iz populacije obima 4000 \\\\\n",
        "b) uzorak obima 30, dobijen iz populacije obima 300 \\\\\n",
        "c) uzorak obima 3000, dobijen iz populacije obima 300000000.**"
      ]
    },
    {
      "cell_type": "code",
      "metadata": {
        "id": "7_jqM06qLM0h"
      },
      "source": [
        "sigma_2 = 100"
      ],
      "execution_count": 50,
      "outputs": []
    },
    {
      "cell_type": "code",
      "metadata": {
        "id": "bsXbnz0wLR_E"
      },
      "source": [
        "D_Y_sr_1 = (sigma_2 / 400) * (1 - 400/4000)\n",
        "D_Y_sr_2 = (sigma_2 / 30) * (1-30/300)\n",
        "D_Y_sr_3 = (sigma_2 / 3000) * (1-3000/300000000)"
      ],
      "execution_count": 51,
      "outputs": []
    },
    {
      "cell_type": "code",
      "metadata": {
        "colab": {
          "base_uri": "https://localhost:8080/"
        },
        "id": "zRtczWAPLgMs",
        "outputId": "993d59af-d349-4c5e-e7b2-151373f3d49a"
      },
      "source": [
        "D_Y_sr = [D_Y_sr_1, D_Y_sr_2, D_Y_sr_3]\n",
        "res = D_Y_sr.index(min(D_Y_sr))\n",
        "print(res) # 2 -> D_Y_sr_3"
      ],
      "execution_count": 52,
      "outputs": [
        {
          "output_type": "stream",
          "text": [
            "2\n"
          ],
          "name": "stdout"
        }
      ]
    }
  ]
}