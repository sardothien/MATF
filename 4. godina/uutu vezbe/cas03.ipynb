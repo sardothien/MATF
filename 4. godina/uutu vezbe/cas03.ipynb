{
  "nbformat": 4,
  "nbformat_minor": 0,
  "metadata": {
    "colab": {
      "name": "cas03.ipynb",
      "provenance": [],
      "collapsed_sections": []
    },
    "kernelspec": {
      "name": "python3",
      "display_name": "Python 3"
    },
    "language_info": {
      "name": "python"
    }
  },
  "cells": [
    {
      "cell_type": "markdown",
      "metadata": {
        "id": "Brt0cQYXGo-X"
      },
      "source": [
        "**1. Izabran je uzorak sa verovatnoćama proporcionalnim veličini, sa ponavǉaǌem, obima 3 iz populacije veličine 10. Date su vrednosti obeležja izabranih elemenata i verovatnoće izbora:**"
      ]
    },
    {
      "cell_type": "markdown",
      "metadata": {
        "id": "eTQJhfa8IH1_"
      },
      "source": [
        "| i | $y_i$ | $\\psi_i$ |\n",
        "|---|-------|----------|\n",
        "| 1 |   3   |   0.06   |\n",
        "| 2 |   10  |   0.2    |\n",
        "| 3 |   7   |   0.1    |"
      ]
    },
    {
      "cell_type": "markdown",
      "metadata": {
        "id": "Q32mOcqeIosx"
      },
      "source": [
        "**a) Naći ocenu ukupne sume obeležja populacije koristeći Hansen−Hurwitz-ovu ocenu.**"
      ]
    },
    {
      "cell_type": "code",
      "metadata": {
        "id": "y1VA7tl7KBtc"
      },
      "source": [
        "import statistics"
      ],
      "execution_count": 1,
      "outputs": []
    },
    {
      "cell_type": "code",
      "metadata": {
        "id": "qrPgyVUSI2j3"
      },
      "source": [
        "n = 3\n",
        "N = 10"
      ],
      "execution_count": 2,
      "outputs": []
    },
    {
      "cell_type": "code",
      "metadata": {
        "id": "9mt6Y-NqJy7J"
      },
      "source": [
        "Y = [3, 10, 7]\n",
        "psi = [0.06, 0.2, 0.1]"
      ],
      "execution_count": 3,
      "outputs": []
    },
    {
      "cell_type": "code",
      "metadata": {
        "colab": {
          "base_uri": "https://localhost:8080/"
        },
        "id": "LRHme3vaJ5u4",
        "outputId": "86e94fa1-3a87-4790-f93e-962dacef8a94"
      },
      "source": [
        "t_HH = statistics.mean([ y/p for y,p in zip(Y, psi)])\n",
        "print(t_HH)"
      ],
      "execution_count": 4,
      "outputs": [
        {
          "output_type": "stream",
          "text": [
            "56.666666666666664\n"
          ],
          "name": "stdout"
        }
      ]
    },
    {
      "cell_type": "markdown",
      "metadata": {
        "id": "ZbVmwvq1JeIU"
      },
      "source": [
        "**b) Oceniti disperziju te ocene.**"
      ]
    },
    {
      "cell_type": "code",
      "metadata": {
        "colab": {
          "base_uri": "https://localhost:8080/"
        },
        "id": "JyFZeN2nJejG",
        "outputId": "b8a57145-5790-40ea-a522-521a5fb14815"
      },
      "source": [
        "ocena_D_t_HH = 1/(n*(n-1)) * sum([ (y/p - t_HH)**2 for y,p in zip(Y, psi) ])\n",
        "print(ocena_D_t_HH)"
      ],
      "execution_count": 5,
      "outputs": [
        {
          "output_type": "stream",
          "text": [
            "44.444444444444436\n"
          ],
          "name": "stdout"
        }
      ]
    },
    {
      "cell_type": "markdown",
      "metadata": {
        "id": "9jpKprrEJex-"
      },
      "source": [
        "**c) Naći ocenu ukupne sume obeležja populacije koristeći Horvitz−Thompson-ovu ocenu.**"
      ]
    },
    {
      "cell_type": "code",
      "metadata": {
        "colab": {
          "base_uri": "https://localhost:8080/"
        },
        "id": "_ShRmi9xJjw_",
        "outputId": "60fce3f1-d310-449d-d342-6d8aa2bad45c"
      },
      "source": [
        "# verovatnoce ukljucenja i-te jedinki\n",
        "pi_i = [ 1-(1-p)**n for p in psi ]\n",
        "print(pi_i)"
      ],
      "execution_count": 6,
      "outputs": [
        {
          "output_type": "stream",
          "text": [
            "[0.16941600000000012, 0.4879999999999999, 0.2709999999999999]\n"
          ],
          "name": "stdout"
        }
      ]
    },
    {
      "cell_type": "code",
      "metadata": {
        "colab": {
          "base_uri": "https://localhost:8080/"
        },
        "id": "8ypRnL3iLKkx",
        "outputId": "89d7bb14-9a1b-451f-8fba-626ae95dd598"
      },
      "source": [
        "t_HT = sum([ y/pi for y,pi in zip(Y, pi_i) ])\n",
        "print(t_HT)"
      ],
      "execution_count": 7,
      "outputs": [
        {
          "output_type": "stream",
          "text": [
            "64.02995221733897\n"
          ],
          "name": "stdout"
        }
      ]
    },
    {
      "cell_type": "markdown",
      "metadata": {
        "id": "Qs0QWsxQJkHA"
      },
      "source": [
        "**d) Oceniti disperziju te ocene.**"
      ]
    },
    {
      "cell_type": "code",
      "metadata": {
        "colab": {
          "base_uri": "https://localhost:8080/"
        },
        "id": "i-zGN0k_JnMn",
        "outputId": "792b62c0-9062-4209-c99b-1df21687edf2"
      },
      "source": [
        "sum1 = sum([ ((1/pi**2 - 1/pi) * y**2) for y,pi in zip(Y, pi_i) ])\n",
        "\n",
        "sum2 = 0.0\n",
        "for i in range(n):\n",
        "    for j in range(n):\n",
        "        if i != j:\n",
        "            pi_ij = pi_i[i] + pi_i[j] - 1 + (1 - psi[i] - psi[j])**n\n",
        "            sum2 += (1/(pi_i[i]*pi_i[j]) - (1/pi_ij)) * Y[i]*Y[j]\n",
        "\n",
        "ocena_D_t_HT = sum1 + sum2\n",
        "print(ocena_D_t_HT)"
      ],
      "execution_count": 8,
      "outputs": [
        {
          "output_type": "stream",
          "text": [
            "62.461900374446145\n"
          ],
          "name": "stdout"
        }
      ]
    },
    {
      "cell_type": "markdown",
      "metadata": {
        "id": "19VpHzc9Pft6"
      },
      "source": [
        "**2. Za ispitivaǌe zagađenosti 320 jezera ukupne površine $80km^2$ izabran je uzorak sa ponavǉaǌem obima 4 sa verovatnoćama proporcionalnim površini jezera. Prvo jezero iz uzorka birano je dva puta, a drugo i treće po jednom. Koncentracija zagađenosti u ta tri jezera u uzorku je redom 2,5 i 10(mg/l), a površine tih jezera (u $km^2$) su redom 1.2,0.2 i 0.5. Naći Hansen− Hurwitz-ovu ocenu sredǌeg zagađeǌa po jezeru u posmatranoj populaciji, kao i ocenu disperzije dobijene ocene.**"
      ]
    },
    {
      "cell_type": "code",
      "metadata": {
        "id": "ydsk8xasMI1H"
      },
      "source": [
        "N = 320\n",
        "n = 4\n",
        "M = 80"
      ],
      "execution_count": 9,
      "outputs": []
    },
    {
      "cell_type": "code",
      "metadata": {
        "id": "7EC9f2npQETz"
      },
      "source": [
        "uzorak = [1, 1, 2, 3] # prvo je birano dva puta"
      ],
      "execution_count": 10,
      "outputs": []
    },
    {
      "cell_type": "code",
      "metadata": {
        "id": "vgMzUV_PQJpJ"
      },
      "source": [
        "Y = [2, 2, 5, 10] "
      ],
      "execution_count": 11,
      "outputs": []
    },
    {
      "cell_type": "code",
      "metadata": {
        "id": "jwmT_XcaQR4J"
      },
      "source": [
        "Mi = [1.2, 1.2, 0.2, 0.5]"
      ],
      "execution_count": 12,
      "outputs": []
    },
    {
      "cell_type": "code",
      "metadata": {
        "colab": {
          "base_uri": "https://localhost:8080/"
        },
        "id": "i2W-VIFPQUnI",
        "outputId": "67af8f10-e0da-4c6b-b71f-73202c46ddf8"
      },
      "source": [
        "psi = [ m / M for m in Mi ]\n",
        "print(psi)"
      ],
      "execution_count": 13,
      "outputs": [
        {
          "output_type": "stream",
          "text": [
            "[0.015, 0.015, 0.0025, 0.00625]\n"
          ],
          "name": "stdout"
        }
      ]
    },
    {
      "cell_type": "code",
      "metadata": {
        "colab": {
          "base_uri": "https://localhost:8080/"
        },
        "id": "cg5C2lkOQife",
        "outputId": "4f4b826a-bc9c-4cbb-fa85-5932bcc512b9"
      },
      "source": [
        "m_HH = statistics.mean([ y/p for y,p in zip(Y, psi) ]) / N\n",
        "print(m_HH)"
      ],
      "execution_count": 14,
      "outputs": [
        {
          "output_type": "stream",
          "text": [
            "3.020833333333333\n"
          ],
          "name": "stdout"
        }
      ]
    },
    {
      "cell_type": "code",
      "metadata": {
        "colab": {
          "base_uri": "https://localhost:8080/"
        },
        "id": "P69XMCFaSYNG",
        "outputId": "645460ba-298b-4d4d-c40c-c5e31554d9c8"
      },
      "source": [
        "t_HH = statistics.mean([ y/p for y,p in zip(Y,psi) ])\n",
        "ocena_D_t_HH = 1/(n*(n-1)) * sum([ (y/p - t_HH)**2 for y,p in zip(Y, psi)])\n",
        "\n",
        "ocena_D_m_HH = ocena_D_t_HH / N**2\n",
        "print(ocena_D_m_HH)"
      ],
      "execution_count": 15,
      "outputs": [
        {
          "output_type": "stream",
          "text": [
            "2.325665509259259\n"
          ],
          "name": "stdout"
        }
      ]
    },
    {
      "cell_type": "markdown",
      "metadata": {
        "id": "-vVY1kRrTRqZ"
      },
      "source": [
        "**3. Iz populacije koju čine tri poǉa na kojima se uzgaja pšenica bira se uzorak obima 2 sa verovatnoćama proporcionalnim veličinama, sa ponavǉaǌem. U sledećoj tabeli su dati podaci o količini proizvedene pšenice na svakom poǉu i verovatnoće izbora svakog poǉa.**"
      ]
    },
    {
      "cell_type": "markdown",
      "metadata": {
        "id": "9-47dDRLTXRA"
      },
      "source": [
        "| i | $y_i$ | $\\psi_i$ |\n",
        "|---|-------|----------|\n",
        "| 1 |   11  |   0.3    |\n",
        "| 2 |   6   |   0.2    |\n",
        "| 3 |  25   |   0.5    |"
      ]
    },
    {
      "cell_type": "markdown",
      "metadata": {
        "id": "302Oe97uTgTc"
      },
      "source": [
        "**Naći Hansen−Hurwitz-ovu i Horvitz−Thompson-ovu ocenu za ukupnu proizvodǌu pšenice za svaki uzorak.**"
      ]
    },
    {
      "cell_type": "code",
      "metadata": {
        "id": "zj3EXdOzTW4Z"
      },
      "source": [
        "N = 3\n",
        "n = 2"
      ],
      "execution_count": 16,
      "outputs": []
    },
    {
      "cell_type": "code",
      "metadata": {
        "id": "4fu9_XOzUBOe"
      },
      "source": [
        "populacija = [1, 2, 3]\n",
        "Y = [11, 6, 25]\n",
        "psi = [0.3, 0.2, 0.5]"
      ],
      "execution_count": 17,
      "outputs": []
    },
    {
      "cell_type": "code",
      "metadata": {
        "colab": {
          "base_uri": "https://localhost:8080/"
        },
        "id": "40b_oFUOUJ1t",
        "outputId": "3eb3a3da-070a-426d-c367-a7bc648520eb"
      },
      "source": [
        "# svi uzorci ponavljanja obima 2\n",
        "uzorci = []\n",
        "for i in range(1,N+1):\n",
        "    for j in range(1,N+1):\n",
        "        uzorci.append([i,j])\n",
        "\n",
        "print(len(uzorci))\n",
        "print(uzorci)"
      ],
      "execution_count": 18,
      "outputs": [
        {
          "output_type": "stream",
          "text": [
            "9\n",
            "[[1, 1], [1, 2], [1, 3], [2, 1], [2, 2], [2, 3], [3, 1], [3, 2], [3, 3]]\n"
          ],
          "name": "stdout"
        }
      ]
    },
    {
      "cell_type": "code",
      "metadata": {
        "colab": {
          "base_uri": "https://localhost:8080/"
        },
        "id": "lIfr-jUrUinU",
        "outputId": "3f030bf8-c016-4a62-dc3d-5e7ea3a85aa6"
      },
      "source": [
        "# t_HH za svaki uzorak\n",
        "t_HH = []\n",
        "for i in range(len(uzorci)):\n",
        "    t_HH.append( (Y[uzorci[i][0]-1]/psi[uzorci[i][0]-1] + Y[uzorci[i][1]-1]/psi[uzorci[i][1]-1]) / n )\n",
        "\n",
        "print(t_HH)"
      ],
      "execution_count": 19,
      "outputs": [
        {
          "output_type": "stream",
          "text": [
            "[36.66666666666667, 33.333333333333336, 43.333333333333336, 33.333333333333336, 30.0, 40.0, 43.333333333333336, 40.0, 50.0]\n"
          ],
          "name": "stdout"
        }
      ]
    },
    {
      "cell_type": "code",
      "metadata": {
        "colab": {
          "base_uri": "https://localhost:8080/"
        },
        "id": "BlQnlRFoW2xA",
        "outputId": "47feba42-e0d3-4108-b316-bc3a39325ec3"
      },
      "source": [
        "pi_i = [ 1-(1-p)**n for p in psi ]\n",
        "print(pi_i)"
      ],
      "execution_count": 20,
      "outputs": [
        {
          "output_type": "stream",
          "text": [
            "[0.51, 0.3599999999999999, 0.75]\n"
          ],
          "name": "stdout"
        }
      ]
    },
    {
      "cell_type": "code",
      "metadata": {
        "colab": {
          "base_uri": "https://localhost:8080/"
        },
        "id": "PcdVnWynXC4u",
        "outputId": "e0664772-4e07-4b2c-8708-a49ed73a5a68"
      },
      "source": [
        "t_HT = []\n",
        "for i in range(len(uzorci)):\n",
        "    if uzorci[i][0] == uzorci[i][1]:\n",
        "        t_HT.append( Y[uzorci[i][0]-1]/pi_i[uzorci[i][0]-1] )\n",
        "    else:    \n",
        "        t_HT.append( (Y[uzorci[i][0]-1]/pi_i[uzorci[i][0]-1] + Y[uzorci[i][1]-1]/pi_i[uzorci[i][1]-1]) )\n",
        "\n",
        "print(t_HT)"
      ],
      "execution_count": 21,
      "outputs": [
        {
          "output_type": "stream",
          "text": [
            "[21.56862745098039, 38.23529411764706, 54.90196078431373, 38.23529411764706, 16.66666666666667, 50.00000000000001, 54.90196078431373, 50.00000000000001, 33.333333333333336]\n"
          ],
          "name": "stdout"
        }
      ]
    },
    {
      "cell_type": "markdown",
      "metadata": {
        "id": "Z7Uz8e3_ZDfN"
      },
      "source": [
        "**4. U datoteci radnici.txt dati su podaci o broju radnika i proizvodǌi u 10 fabrika u industrijskoj zoni. Izabrati uzorak obima 3 sa ponavǉaǌem sa verovatnoćama izbora proporcionalnim broju radnika u fabrici. Koristeći dobijeni uzorak odrediti Hansen−Hurwitz-ovu ocenu ukupne proizvodǌe.**"
      ]
    },
    {
      "cell_type": "code",
      "metadata": {
        "id": "LKieOnvAaAta"
      },
      "source": [
        "import pandas as pd\n",
        "import random"
      ],
      "execution_count": 22,
      "outputs": []
    },
    {
      "cell_type": "code",
      "metadata": {
        "id": "pScpmtu4Y9Sv"
      },
      "source": [
        "n = 3\n",
        "N = 10"
      ],
      "execution_count": 23,
      "outputs": []
    },
    {
      "cell_type": "code",
      "metadata": {
        "colab": {
          "base_uri": "https://localhost:8080/",
          "height": 363
        },
        "id": "KI0MEiHnZ_fX",
        "outputId": "abc3af8c-8dd1-4022-dbf1-3b1e033ec84c"
      },
      "source": [
        "dat = pd.read_csv(\"radnici.txt\", sep=\" \")\n",
        "dat"
      ],
      "execution_count": 24,
      "outputs": [
        {
          "output_type": "execute_result",
          "data": {
            "text/html": [
              "<div>\n",
              "<style scoped>\n",
              "    .dataframe tbody tr th:only-of-type {\n",
              "        vertical-align: middle;\n",
              "    }\n",
              "\n",
              "    .dataframe tbody tr th {\n",
              "        vertical-align: top;\n",
              "    }\n",
              "\n",
              "    .dataframe thead th {\n",
              "        text-align: right;\n",
              "    }\n",
              "</style>\n",
              "<table border=\"1\" class=\"dataframe\">\n",
              "  <thead>\n",
              "    <tr style=\"text-align: right;\">\n",
              "      <th></th>\n",
              "      <th>br_radnika</th>\n",
              "      <th>proizvodnja</th>\n",
              "    </tr>\n",
              "  </thead>\n",
              "  <tbody>\n",
              "    <tr>\n",
              "      <th>1</th>\n",
              "      <td>25</td>\n",
              "      <td>47.3</td>\n",
              "    </tr>\n",
              "    <tr>\n",
              "      <th>2</th>\n",
              "      <td>30</td>\n",
              "      <td>58.3</td>\n",
              "    </tr>\n",
              "    <tr>\n",
              "      <th>3</th>\n",
              "      <td>18</td>\n",
              "      <td>27.6</td>\n",
              "    </tr>\n",
              "    <tr>\n",
              "      <th>4</th>\n",
              "      <td>42</td>\n",
              "      <td>84.7</td>\n",
              "    </tr>\n",
              "    <tr>\n",
              "      <th>5</th>\n",
              "      <td>11</td>\n",
              "      <td>39.7</td>\n",
              "    </tr>\n",
              "    <tr>\n",
              "      <th>6</th>\n",
              "      <td>45</td>\n",
              "      <td>101.1</td>\n",
              "    </tr>\n",
              "    <tr>\n",
              "      <th>7</th>\n",
              "      <td>15</td>\n",
              "      <td>28.4</td>\n",
              "    </tr>\n",
              "    <tr>\n",
              "      <th>8</th>\n",
              "      <td>55</td>\n",
              "      <td>120.7</td>\n",
              "    </tr>\n",
              "    <tr>\n",
              "      <th>9</th>\n",
              "      <td>7</td>\n",
              "      <td>27.1</td>\n",
              "    </tr>\n",
              "    <tr>\n",
              "      <th>10</th>\n",
              "      <td>32</td>\n",
              "      <td>61.7</td>\n",
              "    </tr>\n",
              "  </tbody>\n",
              "</table>\n",
              "</div>"
            ],
            "text/plain": [
              "    br_radnika  proizvodnja\n",
              "1           25         47.3\n",
              "2           30         58.3\n",
              "3           18         27.6\n",
              "4           42         84.7\n",
              "5           11         39.7\n",
              "6           45        101.1\n",
              "7           15         28.4\n",
              "8           55        120.7\n",
              "9            7         27.1\n",
              "10          32         61.7"
            ]
          },
          "metadata": {
            "tags": []
          },
          "execution_count": 24
        }
      ]
    },
    {
      "cell_type": "code",
      "metadata": {
        "id": "pjq6bW9kaN4W"
      },
      "source": [
        "populacija = list(range(1,11))\n",
        "Mi = dat[\"br_radnika\"]\n",
        "M = sum(Mi)"
      ],
      "execution_count": 25,
      "outputs": []
    },
    {
      "cell_type": "code",
      "metadata": {
        "colab": {
          "base_uri": "https://localhost:8080/"
        },
        "id": "OgnLIIaJavFE",
        "outputId": "639ca2c8-d374-4654-833e-2c5ce604db4e"
      },
      "source": [
        "psi = [ m/M for m in Mi ]\n",
        "print(psi)"
      ],
      "execution_count": 26,
      "outputs": [
        {
          "output_type": "stream",
          "text": [
            "[0.08928571428571429, 0.10714285714285714, 0.06428571428571428, 0.15, 0.039285714285714285, 0.16071428571428573, 0.05357142857142857, 0.19642857142857142, 0.025, 0.11428571428571428]\n"
          ],
          "name": "stdout"
        }
      ]
    },
    {
      "cell_type": "code",
      "metadata": {
        "colab": {
          "base_uri": "https://localhost:8080/"
        },
        "id": "6tfVDottbC1l",
        "outputId": "e225840b-9ee4-406e-91ff-5eafee6d2f47"
      },
      "source": [
        "uzorak = random.choices(populacija, k=n, weights=psi)\n",
        "uzorak"
      ],
      "execution_count": 27,
      "outputs": [
        {
          "output_type": "execute_result",
          "data": {
            "text/plain": [
              "[4, 2, 10]"
            ]
          },
          "metadata": {
            "tags": []
          },
          "execution_count": 27
        }
      ]
    },
    {
      "cell_type": "code",
      "metadata": {
        "colab": {
          "base_uri": "https://localhost:8080/"
        },
        "id": "sp6TWR_9cCd_",
        "outputId": "40976fad-43e7-44ed-a4b9-909df39302b6"
      },
      "source": [
        "Y = dat[\"proizvodnja\"]\n",
        "print(Y)"
      ],
      "execution_count": 28,
      "outputs": [
        {
          "output_type": "stream",
          "text": [
            "1      47.3\n",
            "2      58.3\n",
            "3      27.6\n",
            "4      84.7\n",
            "5      39.7\n",
            "6     101.1\n",
            "7      28.4\n",
            "8     120.7\n",
            "9      27.1\n",
            "10     61.7\n",
            "Name: proizvodnja, dtype: float64\n"
          ],
          "name": "stdout"
        }
      ]
    },
    {
      "cell_type": "code",
      "metadata": {
        "colab": {
          "base_uri": "https://localhost:8080/"
        },
        "id": "Oq0TZfNobYqC",
        "outputId": "3e10c5a5-70aa-4480-caf9-c6351437fbe8"
      },
      "source": [
        "pom = []\n",
        "for i in range(len(uzorak)):\n",
        "    pom.append(Y[uzorak[i]] / psi[uzorak[i]-1])\n",
        "\n",
        "t_HH = statistics.mean(pom)\n",
        "t_HH"
      ],
      "execution_count": 29,
      "outputs": [
        {
          "output_type": "execute_result",
          "data": {
            "text/plain": [
              "549.5583333333334"
            ]
          },
          "metadata": {
            "tags": []
          },
          "execution_count": 29
        }
      ]
    },
    {
      "cell_type": "markdown",
      "metadata": {
        "id": "4HnhYuo4duZM"
      },
      "source": [
        "**5. Data je populacija od četiri prašume, ǌihove površine i brojevi tigrova koji žive u ǌima:**"
      ]
    },
    {
      "cell_type": "markdown",
      "metadata": {
        "id": "JwCzlDrjdy5l"
      },
      "source": [
        "| prašuma | površina u $km^2$ | broj tigrova |\n",
        "|---------|-------------------|--------------|\n",
        "|     1   |         100       |      11      |\n",
        "|     2   |         200       |      20      |\n",
        "|     3   |         300       |      23      |\n",
        "|     4   |         500       |      54      |"
      ]
    },
    {
      "cell_type": "markdown",
      "metadata": {
        "id": "g7eOGb9deeLh"
      },
      "source": [
        "**Na osnovu uzorka (1,2) oceniti ukupan broj tigrova, odrediti disperziju te ocene i naći ocenu te disperzije ako je uzorkovaǌe vršeno sa ponavljanjem sa verovatnoćama proporcionalnim površini prašume. Koristiti Hansen−Hurwitz-ovu ocenu.**"
      ]
    },
    {
      "cell_type": "code",
      "metadata": {
        "id": "0TEQVKCGdd1m"
      },
      "source": [
        "N = 4\n",
        "n = 2"
      ],
      "execution_count": 30,
      "outputs": []
    },
    {
      "cell_type": "code",
      "metadata": {
        "id": "qzXGDjinfM1-"
      },
      "source": [
        "Y = [11, 20, 23, 54]\n",
        "Mi = [100, 200, 300, 500]\n",
        "M = sum(Mi)"
      ],
      "execution_count": 31,
      "outputs": []
    },
    {
      "cell_type": "code",
      "metadata": {
        "colab": {
          "base_uri": "https://localhost:8080/"
        },
        "id": "y2OGZs6afT02",
        "outputId": "d3d93436-1b71-4cba-90cc-3405ea68f314"
      },
      "source": [
        "psi = [ m/M for m in Mi ]\n",
        "print(psi)"
      ],
      "execution_count": 32,
      "outputs": [
        {
          "output_type": "stream",
          "text": [
            "[0.09090909090909091, 0.18181818181818182, 0.2727272727272727, 0.45454545454545453]\n"
          ],
          "name": "stdout"
        }
      ]
    },
    {
      "cell_type": "code",
      "metadata": {
        "id": "6jG5EujffZpy"
      },
      "source": [
        "uzorak = [1,2]"
      ],
      "execution_count": 33,
      "outputs": []
    },
    {
      "cell_type": "code",
      "metadata": {
        "colab": {
          "base_uri": "https://localhost:8080/"
        },
        "id": "RREgAURzfbmE",
        "outputId": "c9734303-f440-40bb-d5f1-13bd67b575c0"
      },
      "source": [
        "t_HH = (Y[uzorak[0]-1]/psi[uzorak[0]-1] + Y[uzorak[1]-1]/psi[uzorak[1]-1]) / n\n",
        "print(t_HH)"
      ],
      "execution_count": 34,
      "outputs": [
        {
          "output_type": "stream",
          "text": [
            "115.5\n"
          ],
          "name": "stdout"
        }
      ]
    },
    {
      "cell_type": "code",
      "metadata": {
        "colab": {
          "base_uri": "https://localhost:8080/"
        },
        "id": "_sXy3Roxf4LK",
        "outputId": "2ccdd73e-8396-4251-c170-beb2a86fe380"
      },
      "source": [
        "t = sum(Y)\n",
        "print(t)"
      ],
      "execution_count": 35,
      "outputs": [
        {
          "output_type": "stream",
          "text": [
            "108\n"
          ],
          "name": "stdout"
        }
      ]
    },
    {
      "cell_type": "code",
      "metadata": {
        "colab": {
          "base_uri": "https://localhost:8080/"
        },
        "id": "fYfFYyQ-f6D1",
        "outputId": "5239b1d1-0690-47e7-f8ec-3545768af40a"
      },
      "source": [
        "D_t_HH = 1/n * sum([ p*(y/p - t)**2 for y,p in zip(Y, psi) ])\n",
        "print(D_t_HH)"
      ],
      "execution_count": 36,
      "outputs": [
        {
          "output_type": "stream",
          "text": [
            "110.93333333333325\n"
          ],
          "name": "stdout"
        }
      ]
    },
    {
      "cell_type": "code",
      "metadata": {
        "colab": {
          "base_uri": "https://localhost:8080/"
        },
        "id": "zoI7qWw4gGCY",
        "outputId": "e18a490b-3d11-4ecb-9596-bafdcab77e16"
      },
      "source": [
        "ocena_D_t_HH = ((Y[uzorak[0]-1]/psi[uzorak[0]-1] - t_HH)**2 + (Y[uzorak[1]-1]/psi[uzorak[1]-1] - t_HH)**2) / (n*(n-1))\n",
        "print(ocena_D_t_HH)"
      ],
      "execution_count": 37,
      "outputs": [
        {
          "output_type": "stream",
          "text": [
            "30.25\n"
          ],
          "name": "stdout"
        }
      ]
    },
    {
      "cell_type": "markdown",
      "metadata": {
        "id": "F5St8BBch2FW"
      },
      "source": [
        "**6. Populaciju čini baza trees koja sadrži podatke o 31 drvetu. Izabrati uzorak sa ponavǉaǌem obima 10 sa verovatnoćama proporcionalnim obimu stabla (promenǉiva Girth) i oceniti sredǌu vrednost obeležja Volume koristeći Hansen−Hurwitz-ovu ocenu.**"
      ]
    },
    {
      "cell_type": "code",
      "metadata": {
        "colab": {
          "base_uri": "https://localhost:8080/",
          "height": 206
        },
        "id": "0txHh_UJh41R",
        "outputId": "35efb32a-7867-47e5-fed5-84b2790b8afd"
      },
      "source": [
        "dat = pd.read_csv(\"trees.txt\", sep=\" \")\n",
        "dat.head()"
      ],
      "execution_count": 38,
      "outputs": [
        {
          "output_type": "execute_result",
          "data": {
            "text/html": [
              "<div>\n",
              "<style scoped>\n",
              "    .dataframe tbody tr th:only-of-type {\n",
              "        vertical-align: middle;\n",
              "    }\n",
              "\n",
              "    .dataframe tbody tr th {\n",
              "        vertical-align: top;\n",
              "    }\n",
              "\n",
              "    .dataframe thead th {\n",
              "        text-align: right;\n",
              "    }\n",
              "</style>\n",
              "<table border=\"1\" class=\"dataframe\">\n",
              "  <thead>\n",
              "    <tr style=\"text-align: right;\">\n",
              "      <th></th>\n",
              "      <th>Girth</th>\n",
              "      <th>Height</th>\n",
              "      <th>Volume</th>\n",
              "    </tr>\n",
              "  </thead>\n",
              "  <tbody>\n",
              "    <tr>\n",
              "      <th>1</th>\n",
              "      <td>8.3</td>\n",
              "      <td>70</td>\n",
              "      <td>10.3</td>\n",
              "    </tr>\n",
              "    <tr>\n",
              "      <th>2</th>\n",
              "      <td>8.6</td>\n",
              "      <td>65</td>\n",
              "      <td>10.3</td>\n",
              "    </tr>\n",
              "    <tr>\n",
              "      <th>3</th>\n",
              "      <td>8.8</td>\n",
              "      <td>63</td>\n",
              "      <td>10.2</td>\n",
              "    </tr>\n",
              "    <tr>\n",
              "      <th>4</th>\n",
              "      <td>10.5</td>\n",
              "      <td>72</td>\n",
              "      <td>16.4</td>\n",
              "    </tr>\n",
              "    <tr>\n",
              "      <th>5</th>\n",
              "      <td>10.7</td>\n",
              "      <td>81</td>\n",
              "      <td>18.8</td>\n",
              "    </tr>\n",
              "  </tbody>\n",
              "</table>\n",
              "</div>"
            ],
            "text/plain": [
              "   Girth  Height  Volume\n",
              "1    8.3      70    10.3\n",
              "2    8.6      65    10.3\n",
              "3    8.8      63    10.2\n",
              "4   10.5      72    16.4\n",
              "5   10.7      81    18.8"
            ]
          },
          "metadata": {
            "tags": []
          },
          "execution_count": 38
        }
      ]
    },
    {
      "cell_type": "code",
      "metadata": {
        "id": "43ZyUpp_j7D5"
      },
      "source": [
        "N = 31\n",
        "n = 10"
      ],
      "execution_count": 39,
      "outputs": []
    },
    {
      "cell_type": "code",
      "metadata": {
        "id": "7xVfzYaFj-W2"
      },
      "source": [
        "populacija = list(range(1, 32))\n",
        "Y = dat[\"Volume\"]"
      ],
      "execution_count": 40,
      "outputs": []
    },
    {
      "cell_type": "code",
      "metadata": {
        "colab": {
          "base_uri": "https://localhost:8080/"
        },
        "id": "CaIMMpHwkMDM",
        "outputId": "8e33b372-8f53-4631-a59e-d5a815435152"
      },
      "source": [
        "Mi = dat[\"Girth\"]\n",
        "M = sum(Mi)\n",
        "psi = [ m/M for m in Mi ]\n",
        "print(psi)"
      ],
      "execution_count": 41,
      "outputs": [
        {
          "output_type": "stream",
          "text": [
            "[0.020209398587776966, 0.02093985877769661, 0.021426832237643047, 0.025566106647187725, 0.026053080107134155, 0.026296566837107377, 0.026783540297053807, 0.026783540297053807, 0.02702702702702702, 0.02727051375700024, 0.02751400048697346, 0.027757487216946673, 0.027757487216946673, 0.02848794740686632, 0.029218407596785973, 0.03140978816654492, 0.03140978816654492, 0.032383735086437784, 0.03335768200633065, 0.03360116873630387, 0.0340881421962503, 0.03457511565619673, 0.035305575846116384, 0.03895787679571463, 0.03968833698563428, 0.04212320428536644, 0.04261017774531287, 0.04358412466520574, 0.043827611395178954, 0.043827611395178954, 0.05015826637448259]\n"
          ],
          "name": "stdout"
        }
      ]
    },
    {
      "cell_type": "code",
      "metadata": {
        "colab": {
          "base_uri": "https://localhost:8080/"
        },
        "id": "yohymq2YkMps",
        "outputId": "b8245a92-158e-4018-c7d0-b9271e10c5dd"
      },
      "source": [
        "uzorak = random.choices(populacija, k=n, weights=psi)\n",
        "uzorak"
      ],
      "execution_count": 42,
      "outputs": [
        {
          "output_type": "execute_result",
          "data": {
            "text/plain": [
              "[21, 1, 26, 7, 8, 12, 25, 21, 16, 3]"
            ]
          },
          "metadata": {
            "tags": []
          },
          "execution_count": 42
        }
      ]
    },
    {
      "cell_type": "code",
      "metadata": {
        "colab": {
          "base_uri": "https://localhost:8080/"
        },
        "id": "MdG60jqVkhmj",
        "outputId": "c83d6860-d327-481b-9ecc-3739692371be"
      },
      "source": [
        "suma = 0.0\n",
        "for i in range(len(uzorak)):\n",
        "    suma += Y[uzorak[i]] / psi[uzorak[i]-1]\n",
        "\n",
        "m_HH = suma / (N*n)\n",
        "print(m_HH)"
      ],
      "execution_count": 43,
      "outputs": [
        {
          "output_type": "stream",
          "text": [
            "26.20557203890015\n"
          ],
          "name": "stdout"
        }
      ]
    }
  ]
}