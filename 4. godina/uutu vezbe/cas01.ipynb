{
  "nbformat": 4,
  "nbformat_minor": 0,
  "metadata": {
    "colab": {
      "name": "cas01.ipynb",
      "provenance": [],
      "collapsed_sections": []
    },
    "kernelspec": {
      "name": "python3",
      "display_name": "Python 3"
    },
    "language_info": {
      "name": "python"
    }
  },
  "cells": [
    {
      "cell_type": "code",
      "metadata": {
        "id": "5lLxoTTIoatH"
      },
      "source": [
        "import math\n",
        "import statistics\n",
        "from itertools import combinations"
      ],
      "execution_count": 1,
      "outputs": []
    },
    {
      "cell_type": "markdown",
      "metadata": {
        "id": "ki6SxVjvngAG"
      },
      "source": [
        "**1. Koliko ima prostih slučajnih uzoraka bez ponavljanja, a koliko sa ponavljanjem, ako se vadi uzorak obima 7 iz populacije koja sadrži 20 jediniki?**"
      ]
    },
    {
      "cell_type": "code",
      "metadata": {
        "id": "qlaBLLyJneUm"
      },
      "source": [
        "n = 7\n",
        "N = 20"
      ],
      "execution_count": 2,
      "outputs": []
    },
    {
      "cell_type": "code",
      "metadata": {
        "colab": {
          "base_uri": "https://localhost:8080/"
        },
        "id": "HkzlT7jRnwA4",
        "outputId": "7eacfbcd-00ef-4563-bc5d-bf9537b372e5"
      },
      "source": [
        "# bez ponavljanja\n",
        "f = math.factorial\n",
        "f(N) / f(n) / f(N-n) # N nad n"
      ],
      "execution_count": 3,
      "outputs": [
        {
          "output_type": "execute_result",
          "data": {
            "text/plain": [
              "77520.0"
            ]
          },
          "metadata": {
            "tags": []
          },
          "execution_count": 3
        }
      ]
    },
    {
      "cell_type": "code",
      "metadata": {
        "colab": {
          "base_uri": "https://localhost:8080/"
        },
        "id": "L8l0d4VanyVU",
        "outputId": "1f2e031b-44cf-4e91-d6da-1b7ea274480c"
      },
      "source": [
        "# sa ponavljanjem\n",
        "N**n"
      ],
      "execution_count": 4,
      "outputs": [
        {
          "output_type": "execute_result",
          "data": {
            "text/plain": [
              "1280000000"
            ]
          },
          "metadata": {
            "tags": []
          },
          "execution_count": 4
        }
      ]
    },
    {
      "cell_type": "markdown",
      "metadata": {
        "id": "14tufRBJo3kX"
      },
      "source": [
        "**2. Marko ima 7 jabuka, Petar 2, Jovan 2 i Saša 6. Da li je ocena ukupnog broja jabuka nepristrasna, ako se uzorak obima 2 bira tako da je verovatnoća da su Marko i Petar u uzorku 1/3, verovatnoća da su Marko i Jovan u uzorku 1/2, verovatnoća da su Petar i Jovan 1/6, dok je verovatnoća izbora svih ostalih uzoraka jednaka 0. (Kao ocena ukupnog broja jabuka koristi se statistika t = NY).**"
      ]
    },
    {
      "cell_type": "code",
      "metadata": {
        "id": "dJ3Fin8SpEby"
      },
      "source": [
        "populacija = [1, 2, 3, 4] # Marko, Petar, Jovan, Sasa\n",
        "Y = [7, 2, 2, 6]"
      ],
      "execution_count": 5,
      "outputs": []
    },
    {
      "cell_type": "code",
      "metadata": {
        "id": "eN39KkpDpN3-"
      },
      "source": [
        "N = len(populacija)"
      ],
      "execution_count": 6,
      "outputs": []
    },
    {
      "cell_type": "code",
      "metadata": {
        "id": "xYGtNm0ypRGN"
      },
      "source": [
        "uzorci = [[1, 2], [1, 3], [2, 3]]\n",
        "P_uzorka = [1/3, 1/2, 1/6]"
      ],
      "execution_count": 7,
      "outputs": []
    },
    {
      "cell_type": "code",
      "metadata": {
        "colab": {
          "base_uri": "https://localhost:8080/"
        },
        "id": "a18qCANppXmA",
        "outputId": "2d546309-5b6a-46f2-ccf7-e78baa0b4b0b"
      },
      "source": [
        "Y_sr = []\n",
        "for i in range(0, len(uzorci)):\n",
        "    Y_sr.append(statistics.mean([Y[uzorci[i][0]-1], Y[uzorci[i][1]-1]]))\n",
        "\n",
        "print(Y_sr)"
      ],
      "execution_count": 8,
      "outputs": [
        {
          "output_type": "stream",
          "text": [
            "[4.5, 4.5, 2]\n"
          ],
          "name": "stdout"
        }
      ]
    },
    {
      "cell_type": "code",
      "metadata": {
        "colab": {
          "base_uri": "https://localhost:8080/"
        },
        "id": "txqxssr1rsVg",
        "outputId": "a5f7c5eb-8573-4f56-b3de-e61e287c2183"
      },
      "source": [
        "t_ocena = []\n",
        "for i in range(len(Y_sr)):\n",
        "    t_ocena.append(N*Y_sr[i])\n",
        "\n",
        "print(t_ocena)"
      ],
      "execution_count": 9,
      "outputs": [
        {
          "output_type": "stream",
          "text": [
            "[18.0, 18.0, 8]\n"
          ],
          "name": "stdout"
        }
      ]
    },
    {
      "cell_type": "code",
      "metadata": {
        "colab": {
          "base_uri": "https://localhost:8080/"
        },
        "id": "UDHIsWFUsuxy",
        "outputId": "cbf26240-a1e9-4f3f-c3d7-651fa94eb85c"
      },
      "source": [
        "E_t_ocena = sum([x*y for x, y in zip(t_ocena, P_uzorka)])\n",
        "print(E_t_ocena)"
      ],
      "execution_count": 10,
      "outputs": [
        {
          "output_type": "stream",
          "text": [
            "16.333333333333332\n"
          ],
          "name": "stdout"
        }
      ]
    },
    {
      "cell_type": "code",
      "metadata": {
        "colab": {
          "base_uri": "https://localhost:8080/"
        },
        "id": "5vCM63y7tEL8",
        "outputId": "ae06c5a6-dfcc-4a43-c531-767a346a5320"
      },
      "source": [
        "t = sum(Y)\n",
        "print(t)"
      ],
      "execution_count": 11,
      "outputs": [
        {
          "output_type": "stream",
          "text": [
            "17\n"
          ],
          "name": "stdout"
        }
      ]
    },
    {
      "cell_type": "code",
      "metadata": {
        "colab": {
          "base_uri": "https://localhost:8080/"
        },
        "id": "G8HU701VtKG6",
        "outputId": "aaff8c6c-1017-49f7-f2db-c240e2aab541"
      },
      "source": [
        "t == E_t_ocena # False -> ocena nije nepristrasna"
      ],
      "execution_count": 12,
      "outputs": [
        {
          "output_type": "execute_result",
          "data": {
            "text/plain": [
              "False"
            ]
          },
          "metadata": {
            "tags": []
          },
          "execution_count": 12
        }
      ]
    },
    {
      "cell_type": "markdown",
      "metadata": {
        "id": "z-JoseeguQfL"
      },
      "source": [
        "**3. Ispitati da li je bolja (u srednjekvadratnom smislu) ocena ukupne sume obeležja (t=NY) na osnovu uzorka obima 2, ili na osnovu uzorka obima 3, iz populacije {1,2,3,4} ako se koristi prost slučajan uzorak bez ponavljanja. Obeležje populacije je redni broj jedinke.**"
      ]
    },
    {
      "cell_type": "code",
      "metadata": {
        "id": "oeElffKauZJG"
      },
      "source": [
        "n1 = 2\n",
        "n2 = 3"
      ],
      "execution_count": 13,
      "outputs": []
    },
    {
      "cell_type": "code",
      "metadata": {
        "id": "MolcBc4Pue3X"
      },
      "source": [
        "populacija = [1, 2, 3, 4]\n",
        "Y = [1, 2, 3, 4]"
      ],
      "execution_count": 14,
      "outputs": []
    },
    {
      "cell_type": "code",
      "metadata": {
        "id": "ZnQjBXdFui14"
      },
      "source": [
        "N = len(populacija)"
      ],
      "execution_count": 15,
      "outputs": []
    },
    {
      "cell_type": "code",
      "metadata": {
        "id": "GidtjIGiukDH"
      },
      "source": [
        "def helperFunction(n):\n",
        "    M = combinations(populacija, n)\n",
        "    M = list(M)\n",
        "\n",
        "    f = math.factorial\n",
        "    broj_kombinacija = f(N) / f(n) / f(N-n)\n",
        "\n",
        "    P_uzorka = [1/broj_kombinacija for _ in range(int(broj_kombinacija))]\n",
        "\n",
        "    return M, P_uzorka"
      ],
      "execution_count": 16,
      "outputs": []
    },
    {
      "cell_type": "code",
      "metadata": {
        "id": "mUAMbSFDxhBO"
      },
      "source": [
        "psu_1, P_uzorka_1 = helperFunction(n1)\n",
        "psu_2, P_uzorka_2 = helperFunction(n2)"
      ],
      "execution_count": 17,
      "outputs": []
    },
    {
      "cell_type": "code",
      "metadata": {
        "colab": {
          "base_uri": "https://localhost:8080/"
        },
        "id": "ayPC45NgyDB5",
        "outputId": "b1fc533a-3801-4941-b001-e1e730fac9c3"
      },
      "source": [
        "Y_sr_1 = []\n",
        "for i in range(len(psu_1)):\n",
        "    Y_sr_1.append(statistics.mean([Y[psu_1[i][0]-1], Y[psu_1[i][1]-1]]))\n",
        "\n",
        "print(Y_sr_1)"
      ],
      "execution_count": 18,
      "outputs": [
        {
          "output_type": "stream",
          "text": [
            "[1.5, 2, 2.5, 2.5, 3, 3.5]\n"
          ],
          "name": "stdout"
        }
      ]
    },
    {
      "cell_type": "code",
      "metadata": {
        "colab": {
          "base_uri": "https://localhost:8080/"
        },
        "id": "BINKklEGyciI",
        "outputId": "79b8251d-822c-4838-a369-f8ef7687e4a2"
      },
      "source": [
        "Y_sr_2 = []\n",
        "for i in range(len(psu_2)):\n",
        "    Y_sr_2.append(statistics.mean([Y[psu_2[i][0]-1], Y[psu_2[i][1]-1], Y[psu_2[i][2]-1]]))\n",
        "\n",
        "print(Y_sr_2)"
      ],
      "execution_count": 19,
      "outputs": [
        {
          "output_type": "stream",
          "text": [
            "[2, 2.3333333333333335, 2.6666666666666665, 3]\n"
          ],
          "name": "stdout"
        }
      ]
    },
    {
      "cell_type": "code",
      "metadata": {
        "colab": {
          "base_uri": "https://localhost:8080/"
        },
        "id": "NRCqtLRHyr3D",
        "outputId": "969252ac-b784-4acd-c2d1-03a33a0fcf53"
      },
      "source": [
        "t = sum(Y)\n",
        "print(t)"
      ],
      "execution_count": 20,
      "outputs": [
        {
          "output_type": "stream",
          "text": [
            "10\n"
          ],
          "name": "stdout"
        }
      ]
    },
    {
      "cell_type": "code",
      "metadata": {
        "colab": {
          "base_uri": "https://localhost:8080/"
        },
        "id": "XQ5PUVZJyxZy",
        "outputId": "4ca8d748-b2c6-40fe-877d-111fbc667136"
      },
      "source": [
        "MSE_1 = sum([ (N*x-t)**2 * y for x,y in zip(Y_sr_1, P_uzorka_1) ])\n",
        "MSE_2 = sum([ (N*x-t)**2 * y for x,y in zip(Y_sr_2, P_uzorka_2) ])\n",
        "\n",
        "print(MSE_1)\n",
        "print(MSE_2)\n",
        "# MSE2 < MSE1 -> bolja je ocena za n = 3"
      ],
      "execution_count": 21,
      "outputs": [
        {
          "output_type": "stream",
          "text": [
            "6.666666666666666\n",
            "2.222222222222222\n"
          ],
          "name": "stdout"
        }
      ]
    },
    {
      "cell_type": "markdown",
      "metadata": {
        "id": "xo3Egglq0Dap"
      },
      "source": [
        "**4. Iz skupa {1,2,3,4,5,6,7,8} vade se uzorci bez ponavljanja obima 2, tako da svaki koji sadrži neparan broj ima verovatnoću 0. Oni uzorci koji sadrže 2 imaju verovatnoću obrnuto proporcionalnu  drugom elementu uzorka, a oni koji sadrže 4, a ne sadrže 2, imaju verovatnoću 1/8. Ispitati nepristrasnost ocene srednje vrednosti i odrediti njenu srednjekvadratnu grešku.**"
      ]
    },
    {
      "cell_type": "code",
      "metadata": {
        "id": "N3AnLGQd0zko"
      },
      "source": [
        "populacija = [1, 2, 3, 4, 5, 6, 7, 8]\n",
        "Y = populacija"
      ],
      "execution_count": 22,
      "outputs": []
    },
    {
      "cell_type": "code",
      "metadata": {
        "id": "yqMolbk23Um9"
      },
      "source": [
        "N = len(populacija)\n",
        "n = 2"
      ],
      "execution_count": 23,
      "outputs": []
    },
    {
      "cell_type": "code",
      "metadata": {
        "id": "5O2ifYbA3Wtj"
      },
      "source": [
        "uzorci = combinations(populacija, n)\n",
        "uzorci = list(uzorci)"
      ],
      "execution_count": 24,
      "outputs": []
    },
    {
      "cell_type": "code",
      "metadata": {
        "id": "ug5zO58u3fFg"
      },
      "source": [
        "f = math.factorial\n",
        "broj_kombinacija = int(f(N) / f(n) / f(N-n))"
      ],
      "execution_count": 25,
      "outputs": []
    },
    {
      "cell_type": "code",
      "metadata": {
        "id": "VMgwDhp43n16"
      },
      "source": [
        "def verovatnoca(x):\n",
        "    if x[0]%2 or x[1]%2:\n",
        "        return 0\n",
        "    elif x[0]==2 or x[1]==2:\n",
        "        return 1 / max(x[0], x[1])\n",
        "    elif x[0]==4 or x[1]==4:\n",
        "        return 1/8\n",
        "    else:\n",
        "        return 1 - (1/4 + 1/6 + 1/8 + 1/8 + 1/8)"
      ],
      "execution_count": 26,
      "outputs": []
    },
    {
      "cell_type": "code",
      "metadata": {
        "colab": {
          "base_uri": "https://localhost:8080/"
        },
        "id": "MB3hdI3R4JQf",
        "outputId": "f62edfd6-11a3-4415-d1f0-c7993d8ce549"
      },
      "source": [
        "P_uzorka = []\n",
        "for i in range(len(uzorci)):\n",
        "    P_uzorka.append(verovatnoca(uzorci[i]))\n",
        "\n",
        "print(P_uzorka)"
      ],
      "execution_count": 27,
      "outputs": [
        {
          "output_type": "stream",
          "text": [
            "[0, 0, 0, 0, 0, 0, 0, 0, 0.25, 0, 0.16666666666666666, 0, 0.125, 0, 0, 0, 0, 0, 0, 0.125, 0, 0.125, 0, 0, 0, 0, 0.20833333333333337, 0]\n"
          ],
          "name": "stdout"
        }
      ]
    },
    {
      "cell_type": "code",
      "metadata": {
        "colab": {
          "base_uri": "https://localhost:8080/"
        },
        "id": "vOYAXLNY40xB",
        "outputId": "93bf329a-4d24-43ff-c744-2fe3004898d2"
      },
      "source": [
        "sum(P_uzorka) # == 1 ?"
      ],
      "execution_count": 28,
      "outputs": [
        {
          "output_type": "execute_result",
          "data": {
            "text/plain": [
              "1.0"
            ]
          },
          "metadata": {
            "tags": []
          },
          "execution_count": 28
        }
      ]
    },
    {
      "cell_type": "code",
      "metadata": {
        "colab": {
          "base_uri": "https://localhost:8080/"
        },
        "id": "fmSctSdl5qKU",
        "outputId": "f30870a7-4afd-4639-ee2c-fec40ced2c8c"
      },
      "source": [
        "Y_sr = []\n",
        "for i in range(len(uzorci)):\n",
        "    Y_sr.append(statistics.mean([Y[uzorci[i][0]-1], Y[uzorci[i][1]-1]]))\n",
        "\n",
        "print(Y_sr)"
      ],
      "execution_count": 29,
      "outputs": [
        {
          "output_type": "stream",
          "text": [
            "[1.5, 2, 2.5, 3, 3.5, 4, 4.5, 2.5, 3, 3.5, 4, 4.5, 5, 3.5, 4, 4.5, 5, 5.5, 4.5, 5, 5.5, 6, 5.5, 6, 6.5, 6.5, 7, 7.5]\n"
          ],
          "name": "stdout"
        }
      ]
    },
    {
      "cell_type": "code",
      "metadata": {
        "colab": {
          "base_uri": "https://localhost:8080/"
        },
        "id": "sNIFGZVN6E2o",
        "outputId": "1cbf4e3d-6d1e-4b31-d5d5-0ef72f781cbb"
      },
      "source": [
        "E_Y_sr = sum([x*y for x,y in zip(Y_sr, P_uzorka)])\n",
        "print(E_Y_sr)"
      ],
      "execution_count": 30,
      "outputs": [
        {
          "output_type": "stream",
          "text": [
            "4.875\n"
          ],
          "name": "stdout"
        }
      ]
    },
    {
      "cell_type": "code",
      "metadata": {
        "colab": {
          "base_uri": "https://localhost:8080/"
        },
        "id": "85x-1mUT7DIG",
        "outputId": "bb9816b8-4bfe-4b85-b648-48cb7b1e67af"
      },
      "source": [
        "meanY = statistics.mean(Y)\n",
        "print(meanY)\n",
        "# meanY != E_Y_sr -> ocena nije nepristrasna"
      ],
      "execution_count": 31,
      "outputs": [
        {
          "output_type": "stream",
          "text": [
            "4.5\n"
          ],
          "name": "stdout"
        }
      ]
    },
    {
      "cell_type": "code",
      "metadata": {
        "colab": {
          "base_uri": "https://localhost:8080/"
        },
        "id": "zG6YWk0H6nQf",
        "outputId": "857ea067-9ced-43a5-b223-57e2c128cdef"
      },
      "source": [
        "MSE_Y_sr = sum([ (x-meanY)**2 * y for x,y in zip(Y_sr, P_uzorka) ])\n",
        "print(MSE_Y_sr)"
      ],
      "execution_count": 32,
      "outputs": [
        {
          "output_type": "stream",
          "text": [
            "2.25\n"
          ],
          "name": "stdout"
        }
      ]
    },
    {
      "cell_type": "markdown",
      "metadata": {
        "id": "B45BG9Z27XFM"
      },
      "source": [
        "**5. Iz populacije {1,2,...,100} izvaditi 15 prostih slučajnih uzoraka bez ponavljanja obima 20. Na svakom od njih naći ocenu ukupne sume obeležja i ispitati koji od uzoraka je najreprezentativniji, tj. gde je realizovana vrednost statistike t=NY najbliža stvarnoj vrednosti.**"
      ]
    },
    {
      "cell_type": "code",
      "metadata": {
        "id": "SBgZBSv19vmx"
      },
      "source": [
        "import random\n",
        "import numpy as np"
      ],
      "execution_count": 33,
      "outputs": []
    },
    {
      "cell_type": "code",
      "metadata": {
        "id": "A-m5XutG7TfG"
      },
      "source": [
        "populacija = list(range(1,101))\n",
        "Y = populacija"
      ],
      "execution_count": 34,
      "outputs": []
    },
    {
      "cell_type": "code",
      "metadata": {
        "id": "r7HLY1wU7s56"
      },
      "source": [
        "n = 20\n",
        "N = len(populacija)"
      ],
      "execution_count": 35,
      "outputs": []
    },
    {
      "cell_type": "code",
      "metadata": {
        "colab": {
          "base_uri": "https://localhost:8080/"
        },
        "id": "qTToQ-mD9ac8",
        "outputId": "d1658c87-4d4d-4cf3-d36b-7ef40c9c8b58"
      },
      "source": [
        "uzorci = []\n",
        "for i in range(15):\n",
        "    uzorci.append(random.sample(populacija, n))\n",
        "\n",
        "print(uzorci)"
      ],
      "execution_count": 36,
      "outputs": [
        {
          "output_type": "stream",
          "text": [
            "[[20, 50, 72, 47, 62, 19, 44, 73, 6, 32, 67, 71, 79, 61, 94, 48, 30, 80, 88, 59], [29, 30, 52, 9, 16, 23, 26, 4, 82, 94, 59, 31, 3, 17, 66, 83, 91, 67, 41, 74], [11, 18, 44, 91, 15, 55, 98, 86, 59, 51, 37, 27, 79, 30, 95, 74, 89, 31, 42, 28], [54, 64, 100, 3, 27, 22, 58, 76, 16, 77, 34, 41, 72, 33, 23, 94, 31, 88, 26, 82], [79, 75, 10, 17, 72, 88, 9, 40, 19, 49, 84, 66, 35, 37, 91, 42, 76, 23, 89, 58], [7, 94, 9, 98, 25, 89, 17, 75, 2, 8, 34, 33, 64, 40, 24, 30, 6, 90, 29, 28], [75, 44, 29, 22, 35, 50, 98, 92, 60, 16, 77, 11, 78, 12, 33, 64, 27, 14, 39, 90], [24, 88, 42, 20, 11, 22, 55, 34, 7, 81, 80, 94, 49, 17, 52, 58, 67, 89, 26, 10], [27, 19, 10, 55, 44, 40, 94, 89, 29, 52, 31, 87, 80, 35, 38, 93, 20, 54, 7, 11], [4, 53, 77, 29, 76, 55, 67, 94, 40, 72, 14, 48, 43, 79, 60, 73, 3, 21, 9, 62], [19, 37, 69, 85, 40, 93, 36, 56, 14, 73, 35, 64, 67, 76, 94, 8, 74, 39, 87, 7], [93, 16, 94, 89, 30, 97, 24, 71, 11, 44, 74, 25, 80, 78, 76, 22, 20, 49, 31, 33], [98, 63, 68, 45, 80, 50, 94, 78, 90, 2, 46, 24, 32, 91, 52, 29, 74, 19, 100, 55], [12, 27, 83, 47, 77, 52, 28, 67, 9, 31, 73, 96, 60, 2, 23, 64, 14, 17, 41, 56], [11, 34, 2, 70, 45, 82, 93, 53, 85, 81, 6, 51, 48, 64, 24, 1, 91, 84, 72, 38]]\n"
          ],
          "name": "stdout"
        }
      ]
    },
    {
      "cell_type": "code",
      "metadata": {
        "id": "2wQFtkav-Ym7"
      },
      "source": [
        "# Za PSU sa ponavljanjem:\n",
        "# import numpy as np\n",
        "# np.random.choice(populacija, n, replace=True)"
      ],
      "execution_count": 37,
      "outputs": []
    },
    {
      "cell_type": "code",
      "metadata": {
        "colab": {
          "base_uri": "https://localhost:8080/"
        },
        "id": "kzbvfEfD-0z3",
        "outputId": "6398cc9e-b7a0-470a-f0e6-bdda7e654100"
      },
      "source": [
        "t_ocene = [ N*statistics.mean(x) for x in uzorci ]\n",
        "print(t_ocene)"
      ],
      "execution_count": 38,
      "outputs": [
        {
          "output_type": "stream",
          "text": [
            "[5510.0, 4485.0, 5300, 5105.0, 5295.0, 4010.0, 4830.0, 4630.0, 4575.0, 4895.0, 5365.0, 5285.0, 5950.0, 4395.0, 5175.0]\n"
          ],
          "name": "stdout"
        }
      ]
    },
    {
      "cell_type": "code",
      "metadata": {
        "colab": {
          "base_uri": "https://localhost:8080/"
        },
        "id": "b6rzzmo6_CBH",
        "outputId": "ac05432b-ad5c-42c0-f5ea-fcb9ba8b133a"
      },
      "source": [
        "t = sum(Y)\n",
        "print(t)"
      ],
      "execution_count": 39,
      "outputs": [
        {
          "output_type": "stream",
          "text": [
            "5050\n"
          ],
          "name": "stdout"
        }
      ]
    },
    {
      "cell_type": "code",
      "metadata": {
        "colab": {
          "base_uri": "https://localhost:8080/"
        },
        "id": "8vi7EdJh_GTO",
        "outputId": "1406c3a1-13bf-417f-d796-621872c9e68d"
      },
      "source": [
        "pom = [abs(x-t) for x in t_ocene] \n",
        "\n",
        "t_najbliza = t_ocene[np.where(pom == np.min(pom))[0][0]]\n",
        "print(t_najbliza)"
      ],
      "execution_count": 40,
      "outputs": [
        {
          "output_type": "stream",
          "text": [
            "5105.0\n"
          ],
          "name": "stdout"
        }
      ]
    },
    {
      "cell_type": "code",
      "metadata": {
        "colab": {
          "base_uri": "https://localhost:8080/"
        },
        "id": "RiKm_v6KBa3i",
        "outputId": "668eac4f-40ba-4b82-d55d-8055429b84d9"
      },
      "source": [
        "najreprez = np.where(pom == np.min(pom))[0][0]\n",
        "najreprez_uzorak = uzorci[najreprez]\n",
        "print(najreprez_uzorak)"
      ],
      "execution_count": 41,
      "outputs": [
        {
          "output_type": "stream",
          "text": [
            "[54, 64, 100, 3, 27, 22, 58, 76, 16, 77, 34, 41, 72, 33, 23, 94, 31, 88, 26, 82]\n"
          ],
          "name": "stdout"
        }
      ]
    },
    {
      "cell_type": "markdown",
      "metadata": {
        "id": "0ZPPdsyMB9zQ"
      },
      "source": [
        "**6. Data je populacija {1,2,3,4,5,6,7,8} i razmotren je sledeći plan uzorkovanja: \\\\\n",
        "{1,3,5,6} - P(S)=1/8, \\\\\n",
        "{2,3,7,8} - P(S)=1/4, \\\\\n",
        "{1,4,6,8} - P(S)=1/8, \\\\\n",
        "{2,4,6,8} - P(S)=3/8, \\\\\n",
        "{4,5,7,8} - P(S)=1/8 \\\\\n",
        "Ispitati nepristrasnost ocene t = NY.**"
      ]
    },
    {
      "cell_type": "code",
      "metadata": {
        "id": "e7Q2NOlSCIqV"
      },
      "source": [
        "populacija = [1, 2, 3, 4, 5, 6, 7, 8]\n",
        "Y = populacija"
      ],
      "execution_count": 42,
      "outputs": []
    },
    {
      "cell_type": "code",
      "metadata": {
        "id": "bu1CJ5S3CSZJ"
      },
      "source": [
        "N = len(populacija)"
      ],
      "execution_count": 43,
      "outputs": []
    },
    {
      "cell_type": "code",
      "metadata": {
        "id": "a8FvcFnSCUVE"
      },
      "source": [
        "s1 = [1, 3, 5, 6]\n",
        "s2 = [2, 3, 7, 8]\n",
        "s3 = [1, 4, 6, 8]\n",
        "s4 = [2, 4, 6, 8]\n",
        "s5 = [4, 5, 7, 8]"
      ],
      "execution_count": 44,
      "outputs": []
    },
    {
      "cell_type": "code",
      "metadata": {
        "id": "_6iwgRBOCc3U"
      },
      "source": [
        "uzorci = [s1, s2, s3, s4, s5]\n",
        "P_uzorka = [1/8, 1/4, 1/8, 3/8, 1/8]"
      ],
      "execution_count": 45,
      "outputs": []
    },
    {
      "cell_type": "code",
      "metadata": {
        "colab": {
          "base_uri": "https://localhost:8080/"
        },
        "id": "ZQD0V5VnCjY0",
        "outputId": "704d2626-8e5a-4e1a-d37f-8ebc342abb75"
      },
      "source": [
        "sum(P_uzorka)"
      ],
      "execution_count": 46,
      "outputs": [
        {
          "output_type": "execute_result",
          "data": {
            "text/plain": [
              "1.0"
            ]
          },
          "metadata": {
            "tags": []
          },
          "execution_count": 46
        }
      ]
    },
    {
      "cell_type": "code",
      "metadata": {
        "colab": {
          "base_uri": "https://localhost:8080/"
        },
        "id": "J503ALAJCl5F",
        "outputId": "11f35b2b-d621-418e-881a-41e08eb6a289"
      },
      "source": [
        "Y_sr = []\n",
        "for i in range(len(uzorci)):\n",
        "    Y_sr.append(statistics.mean([Y[uzorci[i][0]-1], Y[uzorci[i][1]-1], Y[uzorci[i][2]-1], Y[uzorci[i][3]-1]]))\n",
        "\n",
        "print(Y_sr)"
      ],
      "execution_count": 47,
      "outputs": [
        {
          "output_type": "stream",
          "text": [
            "[3.75, 5, 4.75, 5, 6]\n"
          ],
          "name": "stdout"
        }
      ]
    },
    {
      "cell_type": "code",
      "metadata": {
        "colab": {
          "base_uri": "https://localhost:8080/"
        },
        "id": "x2P7vKHUCxAi",
        "outputId": "dcf1cbbe-0ae4-434d-9dc6-fca8e3569861"
      },
      "source": [
        "t_ocena = [ N*y for y in Y_sr]\n",
        "print(t_ocena)"
      ],
      "execution_count": 48,
      "outputs": [
        {
          "output_type": "stream",
          "text": [
            "[30.0, 40, 38.0, 40, 48]\n"
          ],
          "name": "stdout"
        }
      ]
    },
    {
      "cell_type": "code",
      "metadata": {
        "colab": {
          "base_uri": "https://localhost:8080/"
        },
        "id": "69bn2sneDKy4",
        "outputId": "95f77611-fd48-464f-fad5-56174bc23bb9"
      },
      "source": [
        "E_t_ocena = sum([x*y for x,y in zip(t_ocena, P_uzorka)])\n",
        "print(E_t_ocena)"
      ],
      "execution_count": 49,
      "outputs": [
        {
          "output_type": "stream",
          "text": [
            "39.5\n"
          ],
          "name": "stdout"
        }
      ]
    },
    {
      "cell_type": "code",
      "metadata": {
        "colab": {
          "base_uri": "https://localhost:8080/"
        },
        "id": "p89Er3RbDUBy",
        "outputId": "b513a1df-97ae-411c-fac9-633fe3b219df"
      },
      "source": [
        "t = sum(Y)\n",
        "print(t)\n",
        "# t != E_t_ocena -> ocena nije nepristrasna"
      ],
      "execution_count": 50,
      "outputs": [
        {
          "output_type": "stream",
          "text": [
            "36\n"
          ],
          "name": "stdout"
        }
      ]
    }
  ]
}