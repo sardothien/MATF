{
  "nbformat": 4,
  "nbformat_minor": 0,
  "metadata": {
    "colab": {
      "name": "01_genetski_algoritam.ipynb",
      "provenance": [],
      "collapsed_sections": []
    },
    "kernelspec": {
      "name": "python3",
      "display_name": "Python 3"
    }
  },
  "cells": [
    {
      "cell_type": "markdown",
      "metadata": {
        "id": "HKXshzje6J49"
      },
      "source": [
        "***UFLP***\n",
        "- *I* korisnika, *J* resursa\n",
        "- $c_{ij}$ - cena dodeljivanja resursa *j* korisniku *i*\n",
        "- $f_j$ - cena uspostavljanja resursa *j* \\\\\n",
        "- Resenje: koje bolnice treba da se sagrade \\\\\n",
        "- Kodiranje: niz nula i jedinica (tj. True ili False)\n",
        "- Fitness: hocemo sto manju sumu $c_{ij}$ i $f_j$"
      ]
    },
    {
      "cell_type": "code",
      "metadata": {
        "id": "yEf5Om3-6JqB"
      },
      "source": [
        "import random"
      ],
      "execution_count": 1,
      "outputs": []
    },
    {
      "cell_type": "code",
      "metadata": {
        "id": "XtnXP1yN8ZNc"
      },
      "source": [
        "def readInput(filename):\n",
        "    with open(filename, 'r') as f:\n",
        "        numUsers, numResources = [int(x) for x in f.readline().split()]\n",
        "        cost = [[int(x) for x in f.readline().split()] for i in range(numUsers)]\n",
        "        fixedCost = [int(x) for x in f.readline().split()]\n",
        "\n",
        "        return numUsers, numResources, cost, fixedCost"
      ],
      "execution_count": 3,
      "outputs": []
    },
    {
      "cell_type": "code",
      "metadata": {
        "id": "ylBHUNYV84Ja"
      },
      "source": [
        "numUsers, numResources, cost, fixedCost = readInput('in.txt')"
      ],
      "execution_count": 5,
      "outputs": []
    },
    {
      "cell_type": "code",
      "metadata": {
        "id": "WUrv-ZI0570a"
      },
      "source": [
        "class Individual():\n",
        "    def __init__(self, numUsers, numResources, cost, fixedCost):\n",
        "        # kodiranje\n",
        "        self.code = [random.random() < 0.25 for _ in range(numResources)]\n",
        "        # provera da li je resenje (ne)dopustivo\n",
        "        self.correctNonFeasible()\n",
        "        # fitnes\n",
        "        self.fitness = self.calculateFitness(cost, fixedCost)\n",
        "\n",
        "    def __lt__(self, other):\n",
        "        return self.fitness < other.fitness\n",
        "\n",
        "    def correctNonFeasible(self):\n",
        "        for c in self.code:\n",
        "            if c: # nasli smo jedan True\n",
        "                return \n",
        " \n",
        "        # nedopustivo resenje - random indeks stavljamo na True\n",
        "        index = random.randrange(0, len(self.code))\n",
        "        self.code[index] = True\n",
        "\n",
        "    def calculateFitness(self, cost, fixedCost):\n",
        "        numUsers = len(cost)\n",
        "        numResources = len(fixedCost)\n",
        "\n",
        "        value = 0.0\n",
        "        used = [False for _ in range(numResources)]\n",
        "\n",
        "        # dodajemo cenu dodeljivanja\n",
        "        for i in range(numUsers):\n",
        "            minCost = float('inf')\n",
        "            usedResource = -1\n",
        "\n",
        "            for j in range(numResources):\n",
        "                if self.code[j] and cost[i][j] < minCost:\n",
        "                    minCost = cost[i][j]\n",
        "                    usedResource = j\n",
        "\n",
        "            value += minCost\n",
        "            used[usedResource] = True\n",
        "\n",
        "        # dodajemo cenu uspostavljanja\n",
        "        for i in range(numResources):\n",
        "            if used[i]:\n",
        "                value += fixedCost[i]\n",
        "\n",
        "        self.code = used\n",
        "        \n",
        "        return value"
      ],
      "execution_count": 9,
      "outputs": []
    },
    {
      "cell_type": "code",
      "metadata": {
        "id": "gmirMg0J9C_D"
      },
      "source": [
        "POPULATION_SIZE = 100\n",
        "ELITISM_SIZE = int(0.3*POPULATION_SIZE) # 30%\n",
        "MAX_ITER = 500\n",
        "TOURNAMENT_SIZE = 6\n",
        "MUTATION_PROB = 0.05 # 5%"
      ],
      "execution_count": 13,
      "outputs": []
    },
    {
      "cell_type": "code",
      "metadata": {
        "id": "1CL5vU_Y-nYc"
      },
      "source": [
        "def selection(population):\n",
        "    minFitness = float('inf')\n",
        "    bestIndex = -1\n",
        "\n",
        "    for i in range(TOURNAMENT_SIZE):\n",
        "        index = random.randrange(len(population))\n",
        "\n",
        "        if population[index].fitness < minFitness:\n",
        "            bestIndex = index\n",
        "\n",
        "    return bestIndex"
      ],
      "execution_count": 11,
      "outputs": []
    },
    {
      "cell_type": "code",
      "metadata": {
        "id": "bIx1pTqg-9Yp"
      },
      "source": [
        "def crossover(parent1, parent2, child1, child2):\n",
        "    breakpoint = random.randrange(0, len(parent1.code))\n",
        "\n",
        "    child1.code[:breakpoint] = parent1.code[:breakpoint]\n",
        "    child2.code[:breakpoint] = parent2.code[:breakpoint]\n",
        "\n",
        "    child1.code[breakpoint:] = parent2.code[breakpoint:]\n",
        "    child2.code[breakpoint:] = parent1.code[breakpoint:]\n",
        "\n",
        "    # ako su nedopustiva resenja\n",
        "    child1.correctNonFeasible()\n",
        "    child2.correctNonFeasible()"
      ],
      "execution_count": 12,
      "outputs": []
    },
    {
      "cell_type": "code",
      "metadata": {
        "id": "FTXJedGO_Yz0"
      },
      "source": [
        "def mutation(child):\n",
        "    for i in range(len(child.code)):\n",
        "        if random.random() < MUTATION_PROB:\n",
        "            child.code[i] = not child.code[i]\n",
        "\n",
        "    # ako je resenje nedopustivo\n",
        "    child.correctNonFeasible()"
      ],
      "execution_count": 17,
      "outputs": []
    },
    {
      "cell_type": "code",
      "metadata": {
        "colab": {
          "base_uri": "https://localhost:8080/"
        },
        "id": "wcobPFJm9QiK",
        "outputId": "8d2fed7b-bc26-4dec-8348-35b29e913554"
      },
      "source": [
        "population = [Individual(numUsers, numResources, cost, fixedCost) for i in range(POPULATION_SIZE)]\n",
        "newPopulation = [Individual(numUsers, numResources, cost, fixedCost) for i in range(POPULATION_SIZE)]\n",
        "\n",
        "for i in range(MAX_ITER):\n",
        "    population.sort() # poziva __lt__\n",
        "\n",
        "    # cuvamo ELITISM_SIZE najboljih jedinki\n",
        "    newPopulation[:ELITISM_SIZE] = population[:ELITISM_SIZE]\n",
        "\n",
        "    for j in range(ELITISM_SIZE, POPULATION_SIZE, 2):\n",
        "        parent1Index = selection(population)\n",
        "        parent2Index = selection(population)\n",
        "\n",
        "        # ukrstanje roditelja\n",
        "        crossover(population[parent1Index], population[parent2Index], newPopulation[j], newPopulation[j+1])\n",
        "\n",
        "        # mutacija dece\n",
        "        mutation(newPopulation[j])\n",
        "        mutation(newPopulation[j+1])\n",
        "\n",
        "        # fitnes dece\n",
        "        newPopulation[j].fitness = newPopulation[j].calculateFitness(cost, fixedCost)\n",
        "        newPopulation[j+1].fitness = newPopulation[j+1].calculateFitness(cost, fixedCost)\n",
        "\n",
        "    population = newPopulation\n",
        "\n",
        "bestIndividual = min(population) # poziva __lt__\n",
        "print('Solution: {}, fitness: {}'.format(bestIndividual.code, bestIndividual.fitness))"
      ],
      "execution_count": 18,
      "outputs": [
        {
          "output_type": "stream",
          "text": [
            "Solution: [True, False, False], fitness: 34.0\n"
          ],
          "name": "stdout"
        }
      ]
    }
  ]
}