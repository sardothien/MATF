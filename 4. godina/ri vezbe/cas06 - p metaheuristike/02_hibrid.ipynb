{
  "nbformat": 4,
  "nbformat_minor": 0,
  "metadata": {
    "colab": {
      "name": "02_hibrid.ipynb",
      "provenance": []
    },
    "kernelspec": {
      "name": "python3",
      "display_name": "Python 3"
    }
  },
  "cells": [
    {
      "cell_type": "markdown",
      "metadata": {
        "id": "dH0H0cTK_8fi"
      },
      "source": [
        "***UFLP***\n",
        "- genetski algoritam + simulirano kaljenje"
      ]
    },
    {
      "cell_type": "code",
      "metadata": {
        "id": "aIZtzifz_6n2"
      },
      "source": [
        "import random"
      ],
      "execution_count": 15,
      "outputs": []
    },
    {
      "cell_type": "code",
      "metadata": {
        "id": "LLsKax0nAFAS"
      },
      "source": [
        "def readInput(filename):\n",
        "    with open(filename, 'r') as f:\n",
        "        numUsers, numResources = [int(x) for x in f.readline().split()]\n",
        "        cost = [[int(x) for x in f.readline().split()] for i in range(numUsers)]\n",
        "        fixedCost = [int(x) for x in f.readline().split()]\n",
        "\n",
        "        return numUsers, numResources, cost, fixedCost"
      ],
      "execution_count": 16,
      "outputs": []
    },
    {
      "cell_type": "code",
      "metadata": {
        "id": "uqIS44GFAHMv"
      },
      "source": [
        "numUsers, numResources, cost, fixedCost = readInput('in.txt')"
      ],
      "execution_count": 17,
      "outputs": []
    },
    {
      "cell_type": "code",
      "metadata": {
        "id": "jTx4WYRDAMQg"
      },
      "source": [
        "class Individual():\n",
        "    def __init__(self, numUsers, numResources, cost, fixedCost):\n",
        "        # kodiranje\n",
        "        self.code = [random.random() < 0.25 for _ in range(numResources)]\n",
        "        # provera da li je resenje (ne)dopustivo\n",
        "        self.correctNonFeasible()\n",
        "        # fitnes\n",
        "        self.fitness = self.calculateFitness(cost, fixedCost)\n",
        "\n",
        "    def __lt__(self, other):\n",
        "        return self.fitness < other.fitness\n",
        "\n",
        "    # ---------------- DODATAK -----------------\n",
        "\n",
        "    def isFeasible(self):\n",
        "        for c in self.code:\n",
        "            if c:\n",
        "                return True\n",
        "\n",
        "        return False\n",
        "\n",
        "    def invert(self):\n",
        "        i = random.randrange(len(self.code))\n",
        "        self.code[i] = not self.code[i]\n",
        "        \n",
        "        if self.isFeasible():\n",
        "            return i\n",
        "\n",
        "        return -1\n",
        "\n",
        "    # -----------------------------------------\n",
        "\n",
        "    def correctNonFeasible(self):\n",
        "        for c in self.code:\n",
        "            if c: # nasli smo jedan True\n",
        "                return \n",
        " \n",
        "        # nedopustivo resenje - random indeks stavljamo na True\n",
        "        index = random.randrange(0, len(self.code))\n",
        "        self.code[index] = True\n",
        "\n",
        "    def calculateFitness(self, cost, fixedCost):\n",
        "        numUsers = len(cost)\n",
        "        numResources = len(fixedCost)\n",
        "\n",
        "        value = 0.0\n",
        "        used = [False for _ in range(numResources)]\n",
        "\n",
        "        # dodajemo cenu dodeljivanja\n",
        "        for i in range(numUsers):\n",
        "            minCost = float('inf')\n",
        "            usedResource = -1\n",
        "\n",
        "            for j in range(numResources):\n",
        "                if self.code[j] and cost[i][j] < minCost:\n",
        "                    minCost = cost[i][j]\n",
        "                    usedResource = j\n",
        "\n",
        "            value += minCost\n",
        "            used[usedResource] = True\n",
        "\n",
        "        # dodajemo cenu uspostavljanja\n",
        "        for i in range(numResources):\n",
        "            if used[i]:\n",
        "                value += fixedCost[i]\n",
        "\n",
        "        self.code = used\n",
        "        \n",
        "        return value"
      ],
      "execution_count": 18,
      "outputs": []
    },
    {
      "cell_type": "code",
      "metadata": {
        "id": "expdrqOuAOec"
      },
      "source": [
        "POPULATION_SIZE = 100\n",
        "ELITISM_SIZE = int(0.3*POPULATION_SIZE) # 30%\n",
        "MAX_ITER = 500\n",
        "TOURNAMENT_SIZE = 6\n",
        "MUTATION_PROB = 0.05 # 5%"
      ],
      "execution_count": 19,
      "outputs": []
    },
    {
      "cell_type": "code",
      "metadata": {
        "id": "5E-mttItAP-V"
      },
      "source": [
        "def selection(population):\n",
        "    minFitness = float('inf')\n",
        "    bestIndex = -1\n",
        "\n",
        "    for i in range(TOURNAMENT_SIZE):\n",
        "        index = random.randrange(len(population))\n",
        "\n",
        "        if population[index].fitness < minFitness:\n",
        "            bestIndex = index\n",
        "\n",
        "    return bestIndex"
      ],
      "execution_count": 20,
      "outputs": []
    },
    {
      "cell_type": "code",
      "metadata": {
        "id": "282CuLSuARk-"
      },
      "source": [
        "def crossover(parent1, parent2, child1, child2):\n",
        "    breakpoint = random.randrange(0, len(parent1.code))\n",
        "\n",
        "    child1.code[:breakpoint] = parent1.code[:breakpoint]\n",
        "    child2.code[:breakpoint] = parent2.code[:breakpoint]\n",
        "\n",
        "    child1.code[breakpoint:] = parent2.code[breakpoint:]\n",
        "    child2.code[breakpoint:] = parent1.code[breakpoint:]\n",
        "\n",
        "    # ako su nedopustiva resenja\n",
        "    child1.correctNonFeasible()\n",
        "    child2.correctNonFeasible()"
      ],
      "execution_count": 21,
      "outputs": []
    },
    {
      "cell_type": "code",
      "metadata": {
        "id": "EdGv54frATjP"
      },
      "source": [
        "def mutation(child):\n",
        "    for i in range(len(child.code)):\n",
        "        if random.random() < MUTATION_PROB:\n",
        "            child.code[i] = not child.code[i]\n",
        "\n",
        "    # ako je resenje nedopustivo\n",
        "    child.correctNonFeasible()"
      ],
      "execution_count": 22,
      "outputs": []
    },
    {
      "cell_type": "code",
      "metadata": {
        "id": "8k9N8V7nBPKi"
      },
      "source": [
        "# ---------------- DODATAK -----------------\n",
        "def simulatedAnnealing(individual, iters, cost, fixedCost):\n",
        "    for i in range(iters):\n",
        "        j = individual.invert()\n",
        "        if j < 0:\n",
        "            continue\n",
        "\n",
        "        newFitness = individual.calculateFitness(cost, fixedCost)\n",
        "        if newFitness < individual.fitness:\n",
        "            individual.fitness = newFitness \n",
        "        else:\n",
        "            p = 1.0 / (i+1)**0.5\n",
        "            q = random.uniform(0, 1)\n",
        "            if p > q:\n",
        "                # prihvatamo losije resenje\n",
        "                individual.fitness = newFitness\n",
        "            else:\n",
        "                # vracamo se na prethodno resenje\n",
        "                individual.code[j] = not individual.code[j]"
      ],
      "execution_count": 23,
      "outputs": []
    },
    {
      "cell_type": "code",
      "metadata": {
        "colab": {
          "base_uri": "https://localhost:8080/"
        },
        "id": "3bqeWtPjAVCz",
        "outputId": "602321d1-c7e2-4906-fd6c-6032f2b0f883"
      },
      "source": [
        "population = [Individual(numUsers, numResources, cost, fixedCost) for i in range(POPULATION_SIZE)]\n",
        "newPopulation = [Individual(numUsers, numResources, cost, fixedCost) for i in range(POPULATION_SIZE)]\n",
        "\n",
        "for i in range(MAX_ITER):\n",
        "    population.sort() # poziva __lt__\n",
        "\n",
        "    # cuvamo ELITISM_SIZE najboljih jedinki\n",
        "    newPopulation[:ELITISM_SIZE] = population[:ELITISM_SIZE]\n",
        "\n",
        "    for j in range(ELITISM_SIZE, POPULATION_SIZE, 2):\n",
        "        parent1Index = selection(population)\n",
        "        parent2Index = selection(population)\n",
        "\n",
        "        # ukrstanje roditelja\n",
        "        crossover(population[parent1Index], population[parent2Index], newPopulation[j], newPopulation[j+1])\n",
        "\n",
        "        # mutacija dece\n",
        "        mutation(newPopulation[j])\n",
        "        mutation(newPopulation[j+1])\n",
        "\n",
        "        # fitnes dece\n",
        "        newPopulation[j].fitness = newPopulation[j].calculateFitness(cost, fixedCost)\n",
        "        newPopulation[j+1].fitness = newPopulation[j+1].calculateFitness(cost, fixedCost)\n",
        "\n",
        "    # ---------------- DODATAK -----------------\n",
        "    simulatedAnnealing(newPopulation[0], 10, cost, fixedCost)\n",
        "    # ------------------------------------------\n",
        "\n",
        "    population = newPopulation\n",
        "\n",
        "bestIndividual = min(population) # poziva __lt__\n",
        "print('Solution: {}, fitness: {}'.format(bestIndividual.code, bestIndividual.fitness))"
      ],
      "execution_count": 24,
      "outputs": [
        {
          "output_type": "stream",
          "text": [
            "Solution: [False, False, False], fitness: 34.0\n"
          ],
          "name": "stdout"
        }
      ]
    }
  ]
}