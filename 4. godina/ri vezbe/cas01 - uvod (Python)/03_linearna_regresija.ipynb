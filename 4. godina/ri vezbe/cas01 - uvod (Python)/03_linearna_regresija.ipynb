{
  "nbformat": 4,
  "nbformat_minor": 0,
  "metadata": {
    "colab": {
      "name": "03_linearna_regresija.ipynb",
      "provenance": [],
      "collapsed_sections": []
    },
    "kernelspec": {
      "name": "python3",
      "display_name": "Python 3"
    }
  },
  "cells": [
    {
      "cell_type": "code",
      "metadata": {
        "id": "-GG-qhYbRcOM"
      },
      "source": [
        "import numpy as np"
      ],
      "execution_count": 1,
      "outputs": []
    },
    {
      "cell_type": "code",
      "metadata": {
        "id": "J0hSIzxRRiQF"
      },
      "source": [
        "from numpy import linalg as LA"
      ],
      "execution_count": 2,
      "outputs": []
    },
    {
      "cell_type": "markdown",
      "metadata": {
        "id": "rd5BtLBdQIJZ"
      },
      "source": [
        "**1.** Rešiti sledeći sistem jednačina dat u matričnom obliku: \\\\\n",
        "$\\begin{bmatrix} 2 & 0 \\\\ -1 & 1 \\\\ 0 & 2 \\end{bmatrix}$$\\begin{bmatrix} x_1 \\\\ x_2 \\end{bmatrix}$ =\n",
        "$\\begin{bmatrix} 2 \\\\ 0 \\\\ -2 \\end{bmatrix}$\n",
        "\n"
      ]
    },
    {
      "cell_type": "code",
      "metadata": {
        "id": "t-s3_jBYQMBP"
      },
      "source": [
        "# Ax = b\n",
        "A = np.array([[2, 0], [-1, 1], [0, 2]])\n",
        "b = np.array([2, 0, -2])"
      ],
      "execution_count": 4,
      "outputs": []
    },
    {
      "cell_type": "code",
      "metadata": {
        "id": "YhuULMX_RvVs",
        "outputId": "d334692a-3e45-4d11-abe6-5051951c2d02",
        "colab": {
          "base_uri": "https://localhost:8080/",
          "height": 35
        }
      },
      "source": [
        "x = LA.inv(A.T.dot(A)).dot(A.T).dot(b)\n",
        "x"
      ],
      "execution_count": 5,
      "outputs": [
        {
          "output_type": "execute_result",
          "data": {
            "text/plain": [
              "array([ 0.66666667, -0.66666667])"
            ]
          },
          "metadata": {
            "tags": []
          },
          "execution_count": 5
        }
      ]
    },
    {
      "cell_type": "code",
      "metadata": {
        "id": "DNvfKvVpR2Gq",
        "outputId": "094566c0-e3b4-4b96-b5e7-38245fee4441",
        "colab": {
          "base_uri": "https://localhost:8080/",
          "height": 35
        }
      },
      "source": [
        "# suma kvadrata reziduala\n",
        "rss = LA.norm(b - A.dot(x))**2\n",
        "rss"
      ],
      "execution_count": 6,
      "outputs": [
        {
          "output_type": "execute_result",
          "data": {
            "text/plain": [
              "2.6666666666666665"
            ]
          },
          "metadata": {
            "tags": []
          },
          "execution_count": 6
        }
      ]
    },
    {
      "cell_type": "code",
      "metadata": {
        "id": "p9YHTNb1R_Wx"
      },
      "source": [
        "x, rss, rank, s = LA.lstsq(A, b, rcond=None)"
      ],
      "execution_count": 7,
      "outputs": []
    },
    {
      "cell_type": "code",
      "metadata": {
        "id": "bYWG2_6gSFrp",
        "outputId": "b9c0595f-31f9-4e45-c241-5e69f69e14a3",
        "colab": {
          "base_uri": "https://localhost:8080/",
          "height": 35
        }
      },
      "source": [
        "x"
      ],
      "execution_count": 8,
      "outputs": [
        {
          "output_type": "execute_result",
          "data": {
            "text/plain": [
              "array([ 0.66666667, -0.66666667])"
            ]
          },
          "metadata": {
            "tags": []
          },
          "execution_count": 8
        }
      ]
    },
    {
      "cell_type": "code",
      "metadata": {
        "id": "HC45WRBgSGR9",
        "outputId": "fc98352b-6b42-421b-c56e-ed653cc0cbba",
        "colab": {
          "base_uri": "https://localhost:8080/",
          "height": 35
        }
      },
      "source": [
        "rss"
      ],
      "execution_count": 9,
      "outputs": [
        {
          "output_type": "execute_result",
          "data": {
            "text/plain": [
              "array([2.66666667])"
            ]
          },
          "metadata": {
            "tags": []
          },
          "execution_count": 9
        }
      ]
    },
    {
      "cell_type": "markdown",
      "metadata": {
        "id": "fnW5qrztSP7A"
      },
      "source": [
        "**2.** Odrediti koeficijente $β_0$ i $β_1$ tako da funkcija $f(x)=β_0+β_1*x$ u smislu metode najmanjih kvadrata najbolje aproksimira skup tačaka (0, 1.2), (0.5, 2.05), (1, 2.9) i (−0.5, 0.1) u ravni."
      ]
    },
    {
      "cell_type": "code",
      "metadata": {
        "id": "ZNpWdE_mSG82",
        "outputId": "287047da-82b8-4cc3-8405-5469c6c03edf",
        "colab": {
          "base_uri": "https://localhost:8080/",
          "height": 35
        }
      },
      "source": [
        "points = [[0, 1.2], [0.5, 2.05], [1, 2.9], [-0.5, 0.1]]\n",
        "x = np.array([p[0] for p in points])\n",
        "y = np.array([p[1] for p in points])\n",
        "\n",
        "v_ones = np.ones(x.shape[0])\n",
        "A = np.vstack((v_ones, x)).T\n",
        "\n",
        "beta_0, beta_1 = LA.lstsq(A, y, rcond=None)[0]\n",
        "(beta_0, beta_1)"
      ],
      "execution_count": 3,
      "outputs": [
        {
          "output_type": "execute_result",
          "data": {
            "text/plain": [
              "(1.1000000000000003, 1.85)"
            ]
          },
          "metadata": {
            "tags": []
          },
          "execution_count": 3
        }
      ]
    },
    {
      "cell_type": "markdown",
      "metadata": {
        "id": "6KeAB627VbCr"
      },
      "source": [
        "**3.** Odrediti koeficijente $β_0$, $β_1$ i $β_2$ tako da funkcija $f(x)=β_0+β_1*x+β_2*x^2$ u smislu metode najmanjih kvadrata najbolje aproksimira skup tačaka (0, 1.2), (0.5, 2.05), (1, 2.9) i (−0.5, 0.1) u ravni."
      ]
    },
    {
      "cell_type": "code",
      "metadata": {
        "id": "azFgWSCNUwV6",
        "outputId": "979a288c-2a0a-47d7-d386-652b5f0d5ec7",
        "colab": {
          "base_uri": "https://localhost:8080/",
          "height": 35
        }
      },
      "source": [
        "points = [[0, 1.2], [0.5, 2.05], [1, 2.9], [-0.5, 0.1]]\n",
        "x = np.array([p[0] for p in points])\n",
        "y = np.array([p[1] for p in points])\n",
        "\n",
        "v_ones = np.ones(x.shape[0])\n",
        "A = np.vstack((v_ones, x, x*x)).T\n",
        "\n",
        "beta_0, beta_1, beta_2 = LA.lstsq(A, y, rcond=None)[0]\n",
        "(beta_0, beta_1, beta_2)"
      ],
      "execution_count": 6,
      "outputs": [
        {
          "output_type": "execute_result",
          "data": {
            "text/plain": [
              "(1.1624999999999994, 1.974999999999999, -0.24999999999999933)"
            ]
          },
          "metadata": {
            "tags": []
          },
          "execution_count": 6
        }
      ]
    },
    {
      "cell_type": "markdown",
      "metadata": {
        "id": "qRHUcgsJV4DI"
      },
      "source": [
        "**4.** Odrediti koeficijente a, b i c funkcije f(x,y)=a+bx+cy tako da u smislu metode najmanjih kvadrata aproksimira skup tacaka (3, 3, −1), (5, 3, 1) i (3, 4, 2) u prostoru."
      ]
    },
    {
      "cell_type": "code",
      "metadata": {
        "id": "dGN68XccVroR",
        "outputId": "99d78ded-3f20-4cf7-82fc-2c288734c718",
        "colab": {
          "base_uri": "https://localhost:8080/",
          "height": 35
        }
      },
      "source": [
        "points = [[3, 3, -1], [5, 3, 1], [3, 4, 2]]\n",
        "x = np.array([p[0] for p in points])\n",
        "y = np.array([p[1] for p in points])\n",
        "z = np.array([p[2] for p in points])\n",
        "\n",
        "v_ones = np.ones(x.shape[0])\n",
        "A = np.vstack((v_ones, x, y)).T\n",
        "\n",
        "a, b, c = LA.lstsq(A, z, rcond=None)[0]\n",
        "(a, b, c)"
      ],
      "execution_count": 9,
      "outputs": [
        {
          "output_type": "execute_result",
          "data": {
            "text/plain": [
              "(-12.999999999999982, 0.9999999999999987, 2.9999999999999987)"
            ]
          },
          "metadata": {
            "tags": []
          },
          "execution_count": 9
        }
      ]
    },
    {
      "cell_type": "markdown",
      "metadata": {
        "id": "uioIhKsOWqYk"
      },
      "source": [
        "**5.** Odrediti vrednosti koeficijenata a i b tako da funkcija f(x)=a+bsinx u smislu metode najmanjih kvadrata aproksimira skup tacaka (2, 2.6), (−1.22, −1.7), (8.32, 2.5) i (4.23, −1.6) u ravni. Dati ocenu greske. Prikazati skup tačaka i nacrtati rezultujucu funkciju."
      ]
    },
    {
      "cell_type": "code",
      "metadata": {
        "id": "-utVPrN6XC0q"
      },
      "source": [
        "from matplotlib import pyplot as plt"
      ],
      "execution_count": 10,
      "outputs": []
    },
    {
      "cell_type": "code",
      "metadata": {
        "id": "sqokR13PWgBU",
        "outputId": "f48c62d8-dabb-4fa6-ea8f-b98362fd6e43",
        "colab": {
          "base_uri": "https://localhost:8080/",
          "height": 35
        }
      },
      "source": [
        "points = [[2, 2.6], [-1.22, -1.7], [8.32, 2.5], [4.23, -1.6]]\n",
        "x = np.array([p[0] for p in points])\n",
        "y = np.array([p[1] for p in points])\n",
        "\n",
        "v_ones = np.ones(x.shape[0])\n",
        "A = np.vstack((v_ones, np.sin(x))).T\n",
        "\n",
        "a, b = LA.lstsq(A, y, rcond=None)[0]\n",
        "(a, b)"
      ],
      "execution_count": 12,
      "outputs": [
        {
          "output_type": "execute_result",
          "data": {
            "text/plain": [
              "(0.4629244420449794, 2.315513480740615)"
            ]
          },
          "metadata": {
            "tags": []
          },
          "execution_count": 12
        }
      ]
    },
    {
      "cell_type": "code",
      "metadata": {
        "id": "T6xDsT61Xbl2",
        "outputId": "b5e038a0-3dc9-462a-8c6c-fad1a67ff58a",
        "colab": {
          "base_uri": "https://localhost:8080/",
          "height": 269
        }
      },
      "source": [
        "x_plot = np.linspace(-5, 10, 100)\n",
        "y_plot = a + b * np.sin(x_plot)\n",
        "\n",
        "plt.plot(x_plot, y_plot)\n",
        "plt.plot(x, y, 'o')\n",
        "plt.show()"
      ],
      "execution_count": 13,
      "outputs": [
        {
          "output_type": "display_data",
          "data": {
            "image/png": "[encoded data removed]",
            "text/plain": [
              "<Figure size 432x288 with 1 Axes>"
            ]
          },
          "metadata": {
            "tags": [],
            "needs_background": "light"
          }
        }
      ]
    },
    {
      "cell_type": "markdown",
      "metadata": {
        "id": "pTt0F2KoXx-8"
      },
      "source": [
        "**6.** U datoteci social_reach.csv se nalaze cene reklamiranja za različite demografske grupe, koje su date u hiljadama evra za 1000 pregleda. Svaka od tri kolone označava različitu platformu za reklamiranje (na primer, platforme mogu biti Facebook, Instagram ili YouTube). Svaki red označava različitu demografsku grupu, koja može npr. biti posebna država u kojoj se reklama plasira. Potrebno je odrediti iznos sredstava da se ostvari približno milion pregleda za svaku demografsku grupu, gledajući po svim platformama ukupno."
      ]
    },
    {
      "cell_type": "code",
      "metadata": {
        "id": "7jutkRGnXote"
      },
      "source": [
        "import pandas as pd"
      ],
      "execution_count": 14,
      "outputs": []
    },
    {
      "cell_type": "code",
      "metadata": {
        "id": "DWKAKh5OYl8z",
        "outputId": "81094d4c-d770-4c8f-dacc-25772919c80d",
        "colab": {
          "base_uri": "https://localhost:8080/",
          "height": 363
        }
      },
      "source": [
        "data = pd.read_csv('social_reach.csv')\n",
        "data"
      ],
      "execution_count": 15,
      "outputs": [
        {
          "output_type": "execute_result",
          "data": {
            "text/html": [
              "<div>\n",
              "<style scoped>\n",
              "    .dataframe tbody tr th:only-of-type {\n",
              "        vertical-align: middle;\n",
              "    }\n",
              "\n",
              "    .dataframe tbody tr th {\n",
              "        vertical-align: top;\n",
              "    }\n",
              "\n",
              "    .dataframe thead th {\n",
              "        text-align: right;\n",
              "    }\n",
              "</style>\n",
              "<table border=\"1\" class=\"dataframe\">\n",
              "  <thead>\n",
              "    <tr style=\"text-align: right;\">\n",
              "      <th></th>\n",
              "      <th>web1</th>\n",
              "      <th>web2</th>\n",
              "      <th>web3</th>\n",
              "    </tr>\n",
              "  </thead>\n",
              "  <tbody>\n",
              "    <tr>\n",
              "      <th>0</th>\n",
              "      <td>0.97</td>\n",
              "      <td>1.86</td>\n",
              "      <td>0.41</td>\n",
              "    </tr>\n",
              "    <tr>\n",
              "      <th>1</th>\n",
              "      <td>1.23</td>\n",
              "      <td>2.18</td>\n",
              "      <td>0.53</td>\n",
              "    </tr>\n",
              "    <tr>\n",
              "      <th>2</th>\n",
              "      <td>0.80</td>\n",
              "      <td>1.24</td>\n",
              "      <td>0.62</td>\n",
              "    </tr>\n",
              "    <tr>\n",
              "      <th>3</th>\n",
              "      <td>1.29</td>\n",
              "      <td>0.98</td>\n",
              "      <td>0.51</td>\n",
              "    </tr>\n",
              "    <tr>\n",
              "      <th>4</th>\n",
              "      <td>1.10</td>\n",
              "      <td>1.23</td>\n",
              "      <td>0.69</td>\n",
              "    </tr>\n",
              "    <tr>\n",
              "      <th>5</th>\n",
              "      <td>0.67</td>\n",
              "      <td>0.34</td>\n",
              "      <td>0.54</td>\n",
              "    </tr>\n",
              "    <tr>\n",
              "      <th>6</th>\n",
              "      <td>0.87</td>\n",
              "      <td>0.26</td>\n",
              "      <td>0.62</td>\n",
              "    </tr>\n",
              "    <tr>\n",
              "      <th>7</th>\n",
              "      <td>1.10</td>\n",
              "      <td>0.16</td>\n",
              "      <td>0.48</td>\n",
              "    </tr>\n",
              "    <tr>\n",
              "      <th>8</th>\n",
              "      <td>1.92</td>\n",
              "      <td>0.22</td>\n",
              "      <td>0.71</td>\n",
              "    </tr>\n",
              "    <tr>\n",
              "      <th>9</th>\n",
              "      <td>1.29</td>\n",
              "      <td>0.12</td>\n",
              "      <td>0.62</td>\n",
              "    </tr>\n",
              "  </tbody>\n",
              "</table>\n",
              "</div>"
            ],
            "text/plain": [
              "   web1  web2  web3\n",
              "0  0.97  1.86  0.41\n",
              "1  1.23  2.18  0.53\n",
              "2  0.80  1.24  0.62\n",
              "3  1.29  0.98  0.51\n",
              "4  1.10  1.23  0.69\n",
              "5  0.67  0.34  0.54\n",
              "6  0.87  0.26  0.62\n",
              "7  1.10  0.16  0.48\n",
              "8  1.92  0.22  0.71\n",
              "9  1.29  0.12  0.62"
            ]
          },
          "metadata": {
            "tags": []
          },
          "execution_count": 15
        }
      ]
    },
    {
      "cell_type": "code",
      "metadata": {
        "id": "-0co6AUYYqCy"
      },
      "source": [
        "A = data[['web1', 'web2', 'web3']]"
      ],
      "execution_count": 17,
      "outputs": []
    },
    {
      "cell_type": "code",
      "metadata": {
        "id": "Eplqd0BCYwpS"
      },
      "source": [
        "b = 1000 * np.ones(10)"
      ],
      "execution_count": 18,
      "outputs": []
    },
    {
      "cell_type": "code",
      "metadata": {
        "id": "pH4H6bW3Y18z"
      },
      "source": [
        "x = LA.lstsq(A, b, rcond=None)[0]"
      ],
      "execution_count": 19,
      "outputs": []
    },
    {
      "cell_type": "code",
      "metadata": {
        "id": "nCyS19mFY58K",
        "outputId": "208c3fa1-782a-4a75-cfd4-9e7ad911c062",
        "colab": {
          "base_uri": "https://localhost:8080/",
          "height": 219
        }
      },
      "source": [
        "res = pd.Series(A.dot(x))\n",
        "res"
      ],
      "execution_count": 20,
      "outputs": [
        {
          "output_type": "execute_result",
          "data": {
            "text/plain": [
              "0     837.749793\n",
              "1    1059.025412\n",
              "2    1068.201931\n",
              "3     913.911256\n",
              "4    1186.823691\n",
              "5     854.718470\n",
              "6     974.561991\n",
              "7     776.843870\n",
              "8    1165.598418\n",
              "9     986.636273\n",
              "dtype: float64"
            ]
          },
          "metadata": {
            "tags": []
          },
          "execution_count": 20
        }
      ]
    },
    {
      "cell_type": "code",
      "metadata": {
        "id": "gApBuFsjY-sx",
        "outputId": "a4b35b78-73b2-4389-e5ba-a55e3efe8546",
        "colab": {
          "base_uri": "https://localhost:8080/",
          "height": 265
        }
      },
      "source": [
        "plt.bar(res.index, res.values)\n",
        "plt.show()"
      ],
      "execution_count": 21,
      "outputs": [
        {
          "output_type": "display_data",
          "data": {
            "image/png": "[encoded data removed]",
            "text/plain": [
              "<Figure size 432x288 with 1 Axes>"
            ]
          },
          "metadata": {
            "tags": [],
            "needs_background": "light"
          }
        }
      ]
    }
  ]
}