{
  "nbformat": 4,
  "nbformat_minor": 0,
  "metadata": {
    "colab": {
      "name": "RI linearna algebra.ipynb",
      "provenance": [],
      "collapsed_sections": []
    },
    "kernelspec": {
      "name": "python3",
      "display_name": "Python 3"
    }
  },
  "cells": [
    {
      "cell_type": "code",
      "metadata": {
        "id": "Cim8IZRPNHQ_"
      },
      "source": [
        "import numpy as np"
      ],
      "execution_count": 4,
      "outputs": []
    },
    {
      "cell_type": "code",
      "metadata": {
        "id": "sV2Kg772NOJv"
      },
      "source": [
        "from numpy import linalg as LA"
      ],
      "execution_count": 5,
      "outputs": []
    },
    {
      "cell_type": "code",
      "metadata": {
        "id": "HzAyJG8oNX3Z"
      },
      "source": [
        "M1 = np.array([[10, 2, 31], [4, 45, 6], [1, 2, 3]])"
      ],
      "execution_count": 9,
      "outputs": []
    },
    {
      "cell_type": "code",
      "metadata": {
        "id": "--UEuyQkNR1o",
        "outputId": "86bb8674-ac8c-40ab-ccef-6fe3f97ce277",
        "colab": {
          "base_uri": "https://localhost:8080/",
          "height": 35
        }
      },
      "source": [
        "# determinanta matrice\n",
        "LA.det(M1)"
      ],
      "execution_count": 10,
      "outputs": [
        {
          "output_type": "execute_result",
          "data": {
            "text/plain": [
              "71.0"
            ]
          },
          "metadata": {
            "tags": []
          },
          "execution_count": 10
        }
      ]
    },
    {
      "cell_type": "code",
      "metadata": {
        "id": "XLyCdbyyNkdy",
        "outputId": "7cc66110-d1c4-42b0-aebb-747af97d6dec",
        "colab": {
          "base_uri": "https://localhost:8080/",
          "height": 72
        }
      },
      "source": [
        "# inverz matrice\n",
        "LA.inv(M1)"
      ],
      "execution_count": 11,
      "outputs": [
        {
          "output_type": "execute_result",
          "data": {
            "text/plain": [
              "array([[ 1.73239437e+00,  7.88732394e-01, -1.94788732e+01],\n",
              "       [-8.45070423e-02, -1.40845070e-02,  9.01408451e-01],\n",
              "       [-5.21126761e-01, -2.53521127e-01,  6.22535211e+00]])"
            ]
          },
          "metadata": {
            "tags": []
          },
          "execution_count": 11
        }
      ]
    },
    {
      "cell_type": "code",
      "metadata": {
        "id": "kpHN-tvPNuQB",
        "outputId": "50269edf-e5d0-4f36-d5a9-1e16a8d74706",
        "colab": {
          "base_uri": "https://localhost:8080/",
          "height": 72
        }
      },
      "source": [
        "# jedinicna matrica\n",
        "LA.inv(M1).dot(M1)"
      ],
      "execution_count": 12,
      "outputs": [
        {
          "output_type": "execute_result",
          "data": {
            "text/plain": [
              "array([[ 1.00000000e+00,  0.00000000e+00,  0.00000000e+00],\n",
              "       [ 0.00000000e+00,  1.00000000e+00, -1.11022302e-16],\n",
              "       [ 0.00000000e+00,  0.00000000e+00,  1.00000000e+00]])"
            ]
          },
          "metadata": {
            "tags": []
          },
          "execution_count": 12
        }
      ]
    },
    {
      "cell_type": "code",
      "metadata": {
        "id": "Kd4xQ7WkNxrH",
        "outputId": "52296c73-82ed-43a6-ee54-61be2c08b0c1",
        "colab": {
          "base_uri": "https://localhost:8080/",
          "height": 90
        }
      },
      "source": [
        "# sopstvene vrednosti i vektori\n",
        "LA.eig(M1)"
      ],
      "execution_count": 13,
      "outputs": [
        {
          "output_type": "execute_result",
          "data": {
            "text/plain": [
              "(array([45.68993567, 12.18250827,  0.12755606]),\n",
              " array([[-0.09814506, -0.98779287, -0.95272431],\n",
              "        [-0.99397166,  0.1347019 ,  0.04474363],\n",
              "        [-0.04886605, -0.07823451,  0.30052355]]))"
            ]
          },
          "metadata": {
            "tags": []
          },
          "execution_count": 13
        }
      ]
    },
    {
      "cell_type": "code",
      "metadata": {
        "id": "qDckdIbDN3ys"
      },
      "source": [
        "eig_vals, eig_vecs = LA.eig(M1)"
      ],
      "execution_count": 14,
      "outputs": []
    },
    {
      "cell_type": "code",
      "metadata": {
        "id": "qlBOfvywN-JO",
        "outputId": "1b927f0b-027e-4495-ec0b-3bfde12a7b30",
        "colab": {
          "base_uri": "https://localhost:8080/",
          "height": 35
        }
      },
      "source": [
        "eig_vals"
      ],
      "execution_count": 15,
      "outputs": [
        {
          "output_type": "execute_result",
          "data": {
            "text/plain": [
              "array([45.68993567, 12.18250827,  0.12755606])"
            ]
          },
          "metadata": {
            "tags": []
          },
          "execution_count": 15
        }
      ]
    },
    {
      "cell_type": "code",
      "metadata": {
        "id": "YzqipibtN_SU",
        "outputId": "33daaf9e-cbec-4209-a1ce-390e5f52a516",
        "colab": {
          "base_uri": "https://localhost:8080/",
          "height": 72
        }
      },
      "source": [
        "eig_vecs"
      ],
      "execution_count": 16,
      "outputs": [
        {
          "output_type": "execute_result",
          "data": {
            "text/plain": [
              "array([[-0.09814506, -0.98779287, -0.95272431],\n",
              "       [-0.99397166,  0.1347019 ,  0.04474363],\n",
              "       [-0.04886605, -0.07823451,  0.30052355]])"
            ]
          },
          "metadata": {
            "tags": []
          },
          "execution_count": 16
        }
      ]
    },
    {
      "cell_type": "code",
      "metadata": {
        "id": "5-QlL_6zOAw0"
      },
      "source": [
        "# vektor\n",
        "x = np.array([1, 2, 3])"
      ],
      "execution_count": 17,
      "outputs": []
    },
    {
      "cell_type": "code",
      "metadata": {
        "id": "GStc9YoVOEb3",
        "outputId": "081877ae-3867-4c02-c159-c524b007ef39",
        "colab": {
          "base_uri": "https://localhost:8080/",
          "height": 35
        }
      },
      "source": [
        "# norma vektora\n",
        "LA.norm(x)"
      ],
      "execution_count": 18,
      "outputs": [
        {
          "output_type": "execute_result",
          "data": {
            "text/plain": [
              "3.7416573867739413"
            ]
          },
          "metadata": {
            "tags": []
          },
          "execution_count": 18
        }
      ]
    },
    {
      "cell_type": "code",
      "metadata": {
        "id": "Mv-ZsVf3OIhc",
        "outputId": "f4838537-d47b-40c9-b057-e879a2dba5c9",
        "colab": {
          "base_uri": "https://localhost:8080/",
          "height": 35
        }
      },
      "source": [
        "LA.norm(x, ord=2)"
      ],
      "execution_count": 19,
      "outputs": [
        {
          "output_type": "execute_result",
          "data": {
            "text/plain": [
              "3.7416573867739413"
            ]
          },
          "metadata": {
            "tags": []
          },
          "execution_count": 19
        }
      ]
    },
    {
      "cell_type": "code",
      "metadata": {
        "id": "I9ZJ72KoOLVu",
        "outputId": "c4597f83-496f-4e74-cccb-143af5c2de55",
        "colab": {
          "base_uri": "https://localhost:8080/",
          "height": 35
        }
      },
      "source": [
        "# norma matrice\n",
        "LA.norm(M1, ord=2)"
      ],
      "execution_count": 20,
      "outputs": [
        {
          "output_type": "execute_result",
          "data": {
            "text/plain": [
              "46.650646365483155"
            ]
          },
          "metadata": {
            "tags": []
          },
          "execution_count": 20
        }
      ]
    },
    {
      "cell_type": "code",
      "metadata": {
        "id": "OTSSqYJgOOeF",
        "outputId": "0075b78d-4407-4749-9e20-bd5df7f62cae",
        "colab": {
          "base_uri": "https://localhost:8080/",
          "height": 35
        }
      },
      "source": [
        "LA.norm(M1, ord='fro')"
      ],
      "execution_count": 21,
      "outputs": [
        {
          "output_type": "execute_result",
          "data": {
            "text/plain": [
              "56.178287620752556"
            ]
          },
          "metadata": {
            "tags": []
          },
          "execution_count": 21
        }
      ]
    },
    {
      "cell_type": "code",
      "metadata": {
        "id": "Z_4LyXOKOQsU",
        "outputId": "95d6cc6b-55a3-4fb1-cf43-fd705cd92066",
        "colab": {
          "base_uri": "https://localhost:8080/",
          "height": 35
        }
      },
      "source": [
        "# uslovljenost matrice\n",
        "LA.cond(M1, p='fro')"
      ],
      "execution_count": 22,
      "outputs": [
        {
          "output_type": "execute_result",
          "data": {
            "text/plain": [
              "1155.3628922615267"
            ]
          },
          "metadata": {
            "tags": []
          },
          "execution_count": 22
        }
      ]
    },
    {
      "cell_type": "code",
      "metadata": {
        "id": "tPvGIxvlOWcv",
        "outputId": "f914fb96-f377-4faa-df29-f4f57b109ede",
        "colab": {
          "base_uri": "https://localhost:8080/",
          "height": 35
        }
      },
      "source": [
        "LA.norm(M1) * LA.norm(LA.inv(M1))"
      ],
      "execution_count": 23,
      "outputs": [
        {
          "output_type": "execute_result",
          "data": {
            "text/plain": [
              "1155.3628922615267"
            ]
          },
          "metadata": {
            "tags": []
          },
          "execution_count": 23
        }
      ]
    }
  ]
}