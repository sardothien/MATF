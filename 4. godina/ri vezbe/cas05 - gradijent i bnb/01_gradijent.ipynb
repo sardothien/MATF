{
  "nbformat": 4,
  "nbformat_minor": 0,
  "metadata": {
    "colab": {
      "name": "01_gradijent.ipynb",
      "provenance": [],
      "collapsed_sections": []
    },
    "kernelspec": {
      "name": "python3",
      "display_name": "Python 3"
    }
  },
  "cells": [
    {
      "cell_type": "markdown",
      "metadata": {
        "id": "rg4jCKnohwTj"
      },
      "source": [
        "***1. Gradijentni spust***"
      ]
    },
    {
      "cell_type": "code",
      "metadata": {
        "id": "OvoM_c77hsrR"
      },
      "source": [
        "import numpy as np"
      ],
      "execution_count": 1,
      "outputs": []
    },
    {
      "cell_type": "code",
      "metadata": {
        "id": "k-HLxT01iYb_"
      },
      "source": [
        "def f(x):\n",
        "    return 0.5*(x[0]**2 + 10*x[1]**2)"
      ],
      "execution_count": 2,
      "outputs": []
    },
    {
      "cell_type": "code",
      "metadata": {
        "id": "_ssjQy6Ficr8"
      },
      "source": [
        "def gradient(x):\n",
        "    return np.array([x[0], 10*x[1]])"
      ],
      "execution_count": 3,
      "outputs": []
    },
    {
      "cell_type": "code",
      "metadata": {
        "id": "Pf9WWfZih45s"
      },
      "source": [
        "def gradient_descent(f, gradient, x0, alpha, eps, max_iter):\n",
        "    x = x0\n",
        "    \n",
        "    for i in range(max_iter):\n",
        "        x_new = x - alpha*gradient(x)\n",
        "        \n",
        "        if np.abs(f(x_new) - f(x)) < eps:\n",
        "            break\n",
        "\n",
        "        x = x_new\n",
        "\n",
        "    converged = i != max_iter\n",
        "    \n",
        "    result = {}\n",
        "    result['converged'] = converged\n",
        "    result['num_iter'] = i\n",
        "    result['x'] = x_new\n",
        "\n",
        "    return result"
      ],
      "execution_count": 7,
      "outputs": []
    },
    {
      "cell_type": "code",
      "metadata": {
        "id": "Rxl7Itn9ii8o"
      },
      "source": [
        "x0 = np.array([3, 5])\n",
        "alpha = 0.1\n",
        "eps = 0.001\n",
        "max_iter = 1000"
      ],
      "execution_count": 5,
      "outputs": []
    },
    {
      "cell_type": "code",
      "metadata": {
        "id": "14HI-3qhipXp",
        "outputId": "0c30562e-6ca5-4e20-d966-7b855b20a6f3",
        "colab": {
          "base_uri": "https://localhost:8080/"
        }
      },
      "source": [
        "gradient_descent(f, gradient, x0, alpha, eps, max_iter)"
      ],
      "execution_count": 8,
      "outputs": [
        {
          "output_type": "execute_result",
          "data": {
            "text/plain": [
              "{'converged': True, 'num_iter': 33, 'x': array([0.08343852, 0.        ])}"
            ]
          },
          "metadata": {
            "tags": []
          },
          "execution_count": 8
        }
      ]
    },
    {
      "cell_type": "markdown",
      "metadata": {
        "id": "X7JIuAI-ixVI"
      },
      "source": [
        "***2. Inercija***"
      ]
    },
    {
      "cell_type": "code",
      "metadata": {
        "id": "VWnOitEmiz-V"
      },
      "source": [
        "def momentum(f, gradient, x0, alpha, eps, max_iter, beta):\n",
        "    x = x0\n",
        "    d = 0 # prosek\n",
        "\n",
        "    for i in range(max_iter):\n",
        "        d = beta*d + alpha*gradient(x)\n",
        "        x_new = x-d\n",
        "\n",
        "        if np.abs(f(x_new) - f(x)) < eps:\n",
        "            break\n",
        "\n",
        "        x = x_new\n",
        "\n",
        "    converged = i != max_iter\n",
        "    \n",
        "    result = {}\n",
        "    result['converged'] = converged\n",
        "    result['num_iter'] = i\n",
        "    result['x'] = x_new\n",
        "\n",
        "    return result"
      ],
      "execution_count": 13,
      "outputs": []
    },
    {
      "cell_type": "code",
      "metadata": {
        "id": "-tZON5WzjMDS",
        "outputId": "c99cc110-4e09-40d3-c0a9-19c7017c91c1",
        "colab": {
          "base_uri": "https://localhost:8080/"
        }
      },
      "source": [
        "momentum(f, gradient, x0, alpha, eps, max_iter, beta=0.9)"
      ],
      "execution_count": 14,
      "outputs": [
        {
          "output_type": "execute_result",
          "data": {
            "text/plain": [
              "{'converged': True, 'num_iter': 91, 'x': array([-0.00569491,  0.02442859])}"
            ]
          },
          "metadata": {
            "tags": []
          },
          "execution_count": 14
        }
      ]
    },
    {
      "cell_type": "markdown",
      "metadata": {
        "id": "1g75lsaJjhhb"
      },
      "source": [
        "***3. Nesterov ubrzani gradijentni spust***"
      ]
    },
    {
      "cell_type": "code",
      "metadata": {
        "id": "4sztHrirjbyg"
      },
      "source": [
        "def nesterov(f, gradient, x0, alpha, eps, max_iter, beta):\n",
        "    x = x0\n",
        "    d = 0\n",
        "\n",
        "    for i in range(max_iter):\n",
        "        d = beta*d + alpha*gradient(x-beta*d)\n",
        "        x_new = x-d\n",
        "\n",
        "        if np.abs(f(x_new) - f(x)) < eps:\n",
        "            break\n",
        "\n",
        "        x = x_new\n",
        "\n",
        "    converged = i != max_iter\n",
        "    \n",
        "    result = {}\n",
        "    result['converged'] = converged\n",
        "    result['num_iter'] = i\n",
        "    result['x'] = x_new\n",
        "\n",
        "    return result"
      ],
      "execution_count": 15,
      "outputs": []
    },
    {
      "cell_type": "code",
      "metadata": {
        "id": "IP2N7NbOj2xS",
        "outputId": "99412b9c-97cf-43ac-ab10-204e496ee84c",
        "colab": {
          "base_uri": "https://localhost:8080/"
        }
      },
      "source": [
        "nesterov(f, gradient, x0, alpha, eps, max_iter, beta=0.9)"
      ],
      "execution_count": 16,
      "outputs": [
        {
          "output_type": "execute_result",
          "data": {
            "text/plain": [
              "{'converged': True, 'num_iter': 25, 'x': array([-0.04738745,  0.        ])}"
            ]
          },
          "metadata": {
            "tags": []
          },
          "execution_count": 16
        }
      ]
    },
    {
      "cell_type": "markdown",
      "metadata": {
        "id": "LgBK0S7Dj8Gk"
      },
      "source": [
        "***4. Adam***"
      ]
    },
    {
      "cell_type": "code",
      "metadata": {
        "id": "VUqb2NqUj-MP"
      },
      "source": [
        "def adam(f, gradient, x0, alpha, eps, max_iter, beta1, beta2, delta):\n",
        "    # prvi moment EX\n",
        "    m = 0\n",
        "    # drugi moment EX^2\n",
        "    v = 0\n",
        "\n",
        "    x = x0\n",
        "    for i in range(1, max_iter):\n",
        "        m = beta1*m + (1-beta1)*gradient(x)\n",
        "        v = beta2*v + (1-beta2)*gradient(x)**2\n",
        "\n",
        "        m_hat = m / (1-beta1**i)\n",
        "        v_hat = v / (1-beta2**i)\n",
        "\n",
        "        x_new = x - alpha*(m_hat / (np.sqrt(v_hat) + delta))\n",
        "\n",
        "        if np.abs(f(x_new) - f(x)) < eps:\n",
        "            break\n",
        "\n",
        "        x = x_new\n",
        "\n",
        "    converged = i != max_iter\n",
        "    \n",
        "    result = {}\n",
        "    result['converged'] = converged\n",
        "    result['num_iter'] = i\n",
        "    result['x'] = x_new\n",
        "\n",
        "    return result"
      ],
      "execution_count": 17,
      "outputs": []
    },
    {
      "cell_type": "code",
      "metadata": {
        "id": "V4HmBOabkrN2",
        "outputId": "3480a164-2039-49e8-bf01-4d410eb83e11",
        "colab": {
          "base_uri": "https://localhost:8080/"
        }
      },
      "source": [
        "adam(f, gradient, x0, alpha, eps, max_iter, beta1=0.9, beta2=0.999, delta=1e-7)"
      ],
      "execution_count": 18,
      "outputs": [
        {
          "output_type": "execute_result",
          "data": {
            "text/plain": [
              "{'converged': True, 'num_iter': 86, 'x': array([0.01802498, 0.00438169])}"
            ]
          },
          "metadata": {
            "tags": []
          },
          "execution_count": 18
        }
      ]
    }
  ]
}