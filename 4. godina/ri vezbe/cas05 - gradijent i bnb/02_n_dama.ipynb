{
  "nbformat": 4,
  "nbformat_minor": 0,
  "metadata": {
    "colab": {
      "name": "02_n_dama.ipynb",
      "provenance": [],
      "collapsed_sections": []
    },
    "kernelspec": {
      "name": "python3",
      "display_name": "Python 3"
    }
  },
  "cells": [
    {
      "cell_type": "markdown",
      "metadata": {
        "id": "8_qb3ZYmlOR5"
      },
      "source": [
        "***Branch and Bound*** - problem n dama\n",
        "- sahovska tabla 8x8\n",
        "- zadatak je postaviti dame tako da se medjusobno ne napadaju\n",
        "- 2n-1 dijagonala\n",
        "- indeksi dijagonala: r+c ili r-c+n-1"
      ]
    },
    {
      "cell_type": "code",
      "metadata": {
        "id": "yNGgFVg9lLL0"
      },
      "source": [
        "import numpy as np"
      ],
      "execution_count": 12,
      "outputs": []
    },
    {
      "cell_type": "code",
      "metadata": {
        "id": "GY8xz-rQmJJq"
      },
      "source": [
        "def print_solution(board):\n",
        "    n = board.shape[0]\n",
        "    for i in range(n):\n",
        "        for j in range(n):\n",
        "            print(board[i][j], end=' ')\n",
        "        print()"
      ],
      "execution_count": 13,
      "outputs": []
    },
    {
      "cell_type": "code",
      "metadata": {
        "id": "RSwOXfCIm8YV"
      },
      "source": [
        "def is_free(row, column, row_check, diag1_check, diag2_check):\n",
        "    n = row_check.shape[0]\n",
        "\n",
        "    if row_check[row] or diag1_check[row+column] or diag2_check[row-column+n-1]:\n",
        "        return False\n",
        "\n",
        "    return True"
      ],
      "execution_count": 14,
      "outputs": []
    },
    {
      "cell_type": "code",
      "metadata": {
        "id": "JJ0nh9yDmUkZ"
      },
      "source": [
        "def bnb(board, column, row_check, diag1_check, diag2_check):\n",
        "    n = board.shape[0]\n",
        "\n",
        "    if column >= n:\n",
        "        return True\n",
        "\n",
        "    for row in range(n):\n",
        "        if is_free(row, column, row_check, diag1_check, diag2_check):\n",
        "            board[row][column] = 'Q'\n",
        "            row_check[row] = True\n",
        "            diag1_check[row+column] = True\n",
        "            diag2_check[row-column+n-1] = True\n",
        "\n",
        "            if bnb(board, column+1, row_check, diag1_check, diag2_check):\n",
        "                return True\n",
        "\n",
        "            board[row][column] = '.'\n",
        "            row_check[row] = False\n",
        "            diag1_check[row+column] = False\n",
        "            diag2_check[row-column+n-1] = False\n",
        "\n",
        "    return False"
      ],
      "execution_count": 19,
      "outputs": []
    },
    {
      "cell_type": "code",
      "metadata": {
        "id": "wLa7urpxlo65"
      },
      "source": [
        "def solve(n):\n",
        "    board = np.full((n,n), '.', dtype=str)\n",
        "    row_check = np.full(n, False)\n",
        "    diag1_check = np.full(2*n-1, False)\n",
        "    diag2_check = np.full(2*n-1, False)\n",
        "\n",
        "    if not bnb(board, 0, row_check, diag1_check, diag2_check):\n",
        "        print(\"Nema resenja\")\n",
        "        return False\n",
        "\n",
        "    print_solution(board)"
      ],
      "execution_count": 16,
      "outputs": []
    },
    {
      "cell_type": "code",
      "metadata": {
        "id": "70zIGu9OnPXH",
        "outputId": "74811fc6-2d7e-4c15-fa07-25eb4fa6e042",
        "colab": {
          "base_uri": "https://localhost:8080/"
        }
      },
      "source": [
        "solve(8)"
      ],
      "execution_count": 26,
      "outputs": [
        {
          "output_type": "stream",
          "text": [
            "Q . . . . . . . \n",
            ". . . . . . Q . \n",
            ". . . . Q . . . \n",
            ". . . . . . . Q \n",
            ". Q . . . . . . \n",
            ". . . Q . . . . \n",
            ". . . . . Q . . \n",
            ". . Q . . . . . \n"
          ],
          "name": "stdout"
        }
      ]
    }
  ]
}