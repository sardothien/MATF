{
  "nbformat": 4,
  "nbformat_minor": 0,
  "metadata": {
    "colab": {
      "name": "01_uflp.ipynb",
      "provenance": [],
      "collapsed_sections": []
    },
    "kernelspec": {
      "name": "python3",
      "display_name": "Python 3"
    }
  },
  "cells": [
    {
      "cell_type": "markdown",
      "metadata": {
        "id": "z_FWVp-fkkN4"
      },
      "source": [
        "***S metaheuristike (single solution)***\n",
        "\n",
        "\n",
        "Zadatak: ***UFLP*** \\\\\n",
        "*I* korisnika \\\\\n",
        "*J* resursa \\\\\n",
        "$C_{ij}$ - cena pridruzivanja korisnika *i* resursu *j* \\\\\n",
        "$f_j$ - cena uspostavljanja resursa *j* \\\\\n",
        "\n",
        "\n",
        "---\n",
        "\n",
        "\n",
        "Kodiranje resenja: [True, False, True, False, True] \\\\\n",
        "Okolina resenja:   [True, False, True, True, True]"
      ]
    },
    {
      "cell_type": "markdown",
      "metadata": {
        "id": "XbPid8I-lBjc"
      },
      "source": [
        "**1. Lokalna pretraga**"
      ]
    },
    {
      "cell_type": "code",
      "metadata": {
        "id": "vZP0KjqynQUQ"
      },
      "source": [
        "import random"
      ],
      "execution_count": 2,
      "outputs": []
    },
    {
      "cell_type": "code",
      "metadata": {
        "id": "UtUyrDuOm7Ft"
      },
      "source": [
        "# Da li je resenje dopustivo (nisu sve vrednosti jednako False)?\n",
        "def isFeasible(solution):\n",
        "    for resource in solution:\n",
        "        if resource: # bar jedan je jednak True\n",
        "            return True\n",
        "\n",
        "    return False"
      ],
      "execution_count": 1,
      "outputs": []
    },
    {
      "cell_type": "code",
      "metadata": {
        "id": "Gw4hSJUgnMba"
      },
      "source": [
        "def initialize(numResources, p):\n",
        "    solution = []\n",
        "\n",
        "    for i in range(numResources):\n",
        "        # ako je random.random() < p, u solution se dodaje True\n",
        "        solution.append(random.random() < p)\n",
        "\n",
        "    # ako nije dopustivo stavljamo random bit na True\n",
        "    if not isFeasible(solution):\n",
        "        solution[random.randrange(numResources)] = True\n",
        "\n",
        "    return solution"
      ],
      "execution_count": 3,
      "outputs": []
    },
    {
      "cell_type": "code",
      "metadata": {
        "id": "lC9AXth_nyj8"
      },
      "source": [
        "def calcSolutionValue(solution, cost, fixedCost):\n",
        "    value = 0.0\n",
        "    \n",
        "    # slozenost od len() je O(1)\n",
        "    numUsers = len(cost)\n",
        "    numResources = len(fixedCost)\n",
        "\n",
        "    used = [False for _ in range(numResources)]\n",
        "\n",
        "    # prolazimo kroz sve korisnike\n",
        "    for i in range(numUsers):\n",
        "        minCost = float('inf')\n",
        "        resourceUsed = -1\n",
        "\n",
        "        # trazimo najblizi resurs koji je uspostavljen za i-tog korisnika\n",
        "        for j in range(numResources):\n",
        "            if solution[j] == True and cost[i][j] < minCost:\n",
        "                minCost = cost[i][j]\n",
        "                resourceUsed = j\n",
        "\n",
        "        value += minCost\n",
        "        used[resourceUsed] = True\n",
        "\n",
        "    for j in range(numResources):\n",
        "        # ako je resurs iskoriscen\n",
        "        if used[j]:\n",
        "            # dodajemo cenu uspostavljanja tog resursa\n",
        "            value += fixedCost[j]\n",
        "\n",
        "    # cuvamo one koje smo iskoristili\n",
        "    solution = used\n",
        "\n",
        "    return value"
      ],
      "execution_count": 12,
      "outputs": []
    },
    {
      "cell_type": "code",
      "metadata": {
        "id": "y_ACbM0wpESk"
      },
      "source": [
        "def invert(solution):\n",
        "    chosen = random.randrange(len(solution))\n",
        "    solution[chosen] = not solution[chosen]\n",
        "\n",
        "    # provera da li je novo resenje dopustivo\n",
        "    if isFeasible(solution):\n",
        "        return chosen\n",
        "\n",
        "    # inace, vracamo na staro i vracamo -1\n",
        "    solution[chosen] = not solution[chosen]\n",
        "    return -1"
      ],
      "execution_count": 6,
      "outputs": []
    },
    {
      "cell_type": "code",
      "metadata": {
        "id": "7Jq3Ub9TppXI"
      },
      "source": [
        "def restore(solution, j):\n",
        "    solution[j] = not solution[j]"
      ],
      "execution_count": 7,
      "outputs": []
    },
    {
      "cell_type": "code",
      "metadata": {
        "id": "C9VV1y8ykDFe"
      },
      "source": [
        "def localSearch(cost, fixedCost, iters):\n",
        "    solution = initialize(numResources=len(fixedCost), p=0.25)\n",
        "    # trenutna vrednost\n",
        "    currValue = calcSolutionValue(solution, cost, fixedCost)\n",
        "    # najbolja vrednost\n",
        "    bestValue = currValue\n",
        "\n",
        "    for i in range(iters): # kriterijum zaustavljanja\n",
        "        # promena trenutnog resenja (invertujemo jednu vrednost)\n",
        "        inverted_index = invert(solution)\n",
        "        if inverted_index < 0:\n",
        "            continue\n",
        "\n",
        "        newValue = calcSolutionValue(solution, cost, fixedCost)\n",
        "\n",
        "        # ako je nova vrednost bolja (manja) azuriramo trenutnu vrednost\n",
        "        if newValue < currValue:\n",
        "            currValue = newValue\n",
        "            if newValue < bestValue:\n",
        "                bestValue = newValue\n",
        "        else:\n",
        "            # nastavi petlju sa starim solution\n",
        "            restore(solution, inverted_index)\n",
        "\n",
        "    return bestValue"
      ],
      "execution_count": 14,
      "outputs": []
    },
    {
      "cell_type": "code",
      "metadata": {
        "id": "DRFT_SWBpxIR"
      },
      "source": [
        "def readInput(filename):\n",
        "    # ucitavamo podatke iz datoteke\n",
        "    with open(filename, 'r') as f:\n",
        "        # citamo prvi red u kome se nalaze dva broja\n",
        "        numUsers, numResources = [int(x) for x in f.readline().split()]\n",
        "        # citamo naredne redove koji predstavljaju matricu cene\n",
        "        cost = [[int(j) for j in f.readline().split()] for i in range(numUsers)]\n",
        "        # citamo poslednji red u kom se nalaze cene uspostavljanja resursa\n",
        "        fixedCost = [int(x) for x in f.readline().split()]\n",
        "\n",
        "    return numUsers, numResources, cost, fixedCost"
      ],
      "execution_count": 8,
      "outputs": []
    },
    {
      "cell_type": "code",
      "metadata": {
        "id": "r-pZXX83qbAG",
        "outputId": "3cfb192e-9e0f-4dd5-f9b5-110c9613ef3a",
        "colab": {
          "base_uri": "https://localhost:8080/"
        }
      },
      "source": [
        "numUsers, numResources, cost, fixedCost = readInput('in.txt')\n",
        "ls = localSearch(cost, fixedCost, 10000)\n",
        "print(ls)"
      ],
      "execution_count": 13,
      "outputs": [
        {
          "output_type": "stream",
          "text": [
            "34.0\n"
          ],
          "name": "stdout"
        }
      ]
    },
    {
      "cell_type": "markdown",
      "metadata": {
        "id": "u00Ors_1q6iK"
      },
      "source": [
        "**2. Simulirano kaljenje**"
      ]
    },
    {
      "cell_type": "code",
      "metadata": {
        "id": "D_pRd-Rtq_ff"
      },
      "source": [
        "# Simulirano kaljenje daje mogucnost da se pomerimo i u losijem\n",
        "# smeru kako bismo kasnije mozda dosli do globalnog minimuma\n",
        "def simulatedAnnealing(cost, fixedCost, iters):\n",
        "    solution = initialize(numResources=len(fixedCost), p=0.25)\n",
        "    currValue = calcSolutionValue(solution, cost, fixedCost)\n",
        "    bestValue = currValue\n",
        "\n",
        "    for i in range(iters): \n",
        "        inverted_index = invert(solution)\n",
        "        if inverted_index < 0:\n",
        "            continue\n",
        "\n",
        "        newValue = calcSolutionValue(solution, cost, fixedCost)\n",
        "\n",
        "        if newValue < currValue:\n",
        "            currValue = newValue\n",
        "            if newValue < bestValue:\n",
        "                bestValue = newValue\n",
        "        # jedina izmena u odnosu na (1) je ovde\n",
        "        # sada prihvatamo i losije resenje\n",
        "        else:\n",
        "            p = 1.0 / i**0.5\n",
        "            q = random.uniform(0, 1)\n",
        "            if p > q:\n",
        "                currValue = newValue\n",
        "            else:\n",
        "                restore(solution, inverted_index)\n",
        "\n",
        "    return bestValue"
      ],
      "execution_count": 15,
      "outputs": []
    },
    {
      "cell_type": "code",
      "metadata": {
        "id": "9kD0r3Svr3jt",
        "outputId": "cbc405d5-0268-430e-9581-c16e4b89251f",
        "colab": {
          "base_uri": "https://localhost:8080/"
        }
      },
      "source": [
        "sa = simulatedAnnealing(cost, fixedCost, 10000)\n",
        "print(sa)"
      ],
      "execution_count": 17,
      "outputs": [
        {
          "output_type": "stream",
          "text": [
            "34.0\n"
          ],
          "name": "stdout"
        }
      ]
    },
    {
      "cell_type": "markdown",
      "metadata": {
        "id": "5_5Iq-nmsCLw"
      },
      "source": [
        "3. Promenljive okoline (dodatno)"
      ]
    },
    {
      "cell_type": "code",
      "metadata": {
        "id": "Uzsaj_CIuWxS"
      },
      "source": [
        "def restoreMultiple(solution, inverted):\n",
        "    for j in inverted:\n",
        "        solution[j] = not solution[j]"
      ],
      "execution_count": 19,
      "outputs": []
    },
    {
      "cell_type": "code",
      "metadata": {
        "id": "NweK8zcWtxaZ"
      },
      "source": [
        "# menjamo k bitova\n",
        "def getNeighbor(k, solution):\n",
        "    numResources = len(solution)\n",
        "    inverted = []\n",
        "\n",
        "    for i in range(k):\n",
        "        j = random.randrange(numResources)\n",
        "\n",
        "        # sprecavamo menjanje j vise puta\n",
        "        while j in inverted:\n",
        "            j = random.randrange(numResources)\n",
        "\n",
        "        solution[j] = not solution[j]\n",
        "        inverted.append(j)\n",
        "\n",
        "    if isFeasible(solution):\n",
        "        return True, inverted\n",
        "\n",
        "    else:\n",
        "        restoreMultiple(solution, inverted)\n",
        "        return False, inverted"
      ],
      "execution_count": 23,
      "outputs": []
    },
    {
      "cell_type": "code",
      "metadata": {
        "id": "6AfP8CcvsFnL"
      },
      "source": [
        "# U ovom slucaju imamo vise okolina\n",
        "# RVNS - redukovana metoda promenljive okoline\n",
        "def RVNS(cost, fixedCost, iters, kMax):\n",
        "    solution = initialize(len(fixedCost), 0.25)\n",
        "    currValue = calcSolutionValue(solution, cost, fixedCost)\n",
        "    bestValue = currValue\n",
        "\n",
        "    for i in range(iters):\n",
        "        k = 0\n",
        "\n",
        "        # prolazimo kroz sve okoline\n",
        "        while k <= kMax:\n",
        "            # trazimo suseda u k-toj okolini\n",
        "            feasible, inverted = getNeighbor(k, solution)\n",
        "            if not feasible:\n",
        "                continue\n",
        "\n",
        "            newValue = calcSolutionValue(solution, cost, fixedCost)\n",
        "            if newValue < currValue:\n",
        "                currValue = newValue\n",
        "                k = 0\n",
        "                if newValue < bestValue:\n",
        "                    bestValue = newValue\n",
        "            else:\n",
        "                # kao u lokalnoj samo ovde menjamo vise bitova\n",
        "                restoreMultiple(solution, inverted)\n",
        "                k += 1\n",
        "\n",
        "    return bestValue"
      ],
      "execution_count": 21,
      "outputs": []
    },
    {
      "cell_type": "code",
      "metadata": {
        "id": "hSJuRJepuhYM",
        "outputId": "1faf404d-7d80-4b74-e7d7-e03e6e419dd6",
        "colab": {
          "base_uri": "https://localhost:8080/"
        }
      },
      "source": [
        "rvns = RVNS(cost, fixedCost, 10, 3)\n",
        "print(rvns)"
      ],
      "execution_count": 24,
      "outputs": [
        {
          "output_type": "stream",
          "text": [
            "34.0\n"
          ],
          "name": "stdout"
        }
      ]
    }
  ]
}