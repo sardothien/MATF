{
  "nbformat": 4,
  "nbformat_minor": 0,
  "metadata": {
    "colab": {
      "name": "05_scipy.ipynb",
      "provenance": [],
      "collapsed_sections": []
    },
    "kernelspec": {
      "name": "python3",
      "display_name": "Python 3"
    }
  },
  "cells": [
    {
      "cell_type": "markdown",
      "metadata": {
        "id": "a9a_RfvzHklb"
      },
      "source": [
        "Minimizovati: $f(x_0, x_1) = 3x_0 + 4x_1$ \\\\\n",
        "Ogranicenja: \\\\\n",
        "- $x_0 + 2x_1 \\leq 14$ \\\\\n",
        "- $x_1 \\leq 3x_0$ \\\\\n",
        "- $x_0 - x_1 \\leq 2$\n",
        "- $x_0, x_1 > 0$"
      ]
    },
    {
      "cell_type": "code",
      "metadata": {
        "id": "5Z-xu88sG9cD"
      },
      "source": [
        "from scipy import optimize as opt\n",
        "import numpy as np"
      ],
      "execution_count": 2,
      "outputs": []
    },
    {
      "cell_type": "code",
      "metadata": {
        "id": "JFmcgJ9fIARm"
      },
      "source": [
        "# f(x) = c*x\n",
        "c = np.array([3, 4])"
      ],
      "execution_count": null,
      "outputs": []
    },
    {
      "cell_type": "code",
      "metadata": {
        "id": "w6vATpLRIG-7"
      },
      "source": [
        "A_ub = np.array([[1, 2], [-3, 1], [1, -1]])"
      ],
      "execution_count": null,
      "outputs": []
    },
    {
      "cell_type": "code",
      "metadata": {
        "id": "Z4LK_oRpIPYh"
      },
      "source": [
        "b_ub = np.array([14, 0, 2])"
      ],
      "execution_count": null,
      "outputs": []
    },
    {
      "cell_type": "code",
      "metadata": {
        "id": "5PahSYalISwr",
        "outputId": "bdb52bc2-c149-4aba-a997-3f9817553390",
        "colab": {
          "base_uri": "https://localhost:8080/"
        }
      },
      "source": [
        "opt.linprog(c, A_ub, b_ub)"
      ],
      "execution_count": null,
      "outputs": [
        {
          "output_type": "execute_result",
          "data": {
            "text/plain": [
              "     con: array([], dtype=float64)\n",
              "     fun: 3.407511066229391e-10\n",
              " message: 'Optimization terminated successfully.'\n",
              "     nit: 5\n",
              "   slack: array([1.40000000e+01, 2.81844599e-10, 2.00000000e+00])\n",
              "  status: 0\n",
              " success: True\n",
              "       x: array([9.78753002e-11, 1.17813015e-11])"
            ]
          },
          "metadata": {
            "tags": []
          },
          "execution_count": 7
        }
      ]
    },
    {
      "cell_type": "markdown",
      "metadata": {
        "id": "tgRlHcyefZpX"
      },
      "source": [
        "Minimizovati:\n",
        "$$ f(x,y) = 2xy + 2x - x^2 - y^2 $$\n",
        "Ogranicenja:\n",
        "$$ g_1(x, y) = x^3 - y = 0 \\\\\n",
        "   g_2(x, y) = y - 1 \\geq 0 $$"
      ]
    },
    {
      "cell_type": "code",
      "metadata": {
        "id": "Q8htq2fefZFm"
      },
      "source": [
        "def f(x): # x nam je zapravo (x, y)\n",
        "    return 2*x[0]*x[1] + 2*x[0] - x[0]**2 - x[1]**2"
      ],
      "execution_count": 1,
      "outputs": []
    },
    {
      "cell_type": "code",
      "metadata": {
        "id": "bfGC528Gf7MU"
      },
      "source": [
        "# lista recnika\n",
        "# 'type' -> eq (=) ili ineq (<=)\n",
        "# 'fun' -> funkcija ogranicenja\n",
        "# 'jac' -> izvod funkcije ogranicenja (po x i po y)\n",
        "c = [{\n",
        "        'type' : 'eq',\n",
        "        'fun' : lambda x : np.array([x[0]**3 - x[1]]),\n",
        "        'jac' : lambda x : np.array([3*x[0]**2, -1])\n",
        "    },\n",
        "    {\n",
        "        'type' : 'ineq',\n",
        "        'fun' : lambda x : np.array([-x[1]+1]),\n",
        "        'jac' : lambda x : np.array([0, -1])\n",
        "    }]"
      ],
      "execution_count": 8,
      "outputs": []
    },
    {
      "cell_type": "code",
      "metadata": {
        "id": "y4geEjPfgyNm",
        "outputId": "3846f327-6cd6-44f1-fb7a-42e3ad41e970",
        "colab": {
          "base_uri": "https://localhost:8080/"
        }
      },
      "source": [
        "opt.minimize(f, (0,0), constraints=c, method='SLSQP')"
      ],
      "execution_count": 9,
      "outputs": [
        {
          "output_type": "execute_result",
          "data": {
            "text/plain": [
              "     fun: -3.9658539922004776e+16\n",
              "     jac: array([-5.36870912e+08,  0.00000000e+00])\n",
              " message: 'Optimization terminated successfully.'\n",
              "    nfev: 302\n",
              "     nit: 60\n",
              "    njev: 60\n",
              "  status: 0\n",
              " success: True\n",
              "       x: array([-5.83969114e+02, -1.99145104e+08])"
            ]
          },
          "metadata": {
            "tags": []
          },
          "execution_count": 9
        }
      ]
    }
  ]
}