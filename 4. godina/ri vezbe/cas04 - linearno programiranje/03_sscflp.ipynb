{
  "nbformat": 4,
  "nbformat_minor": 0,
  "metadata": {
    "colab": {
      "name": "03_sscflp.ipynb",
      "provenance": []
    },
    "kernelspec": {
      "name": "python3",
      "display_name": "Python 3"
    }
  },
  "cells": [
    {
      "cell_type": "markdown",
      "metadata": {
        "id": "7nKJELnoBoD5"
      },
      "source": [
        "**SSCFLP**\n",
        "- dodatno u odnosu na UFLP: potraznja $d_i$ i kapacitet resursa $s_j$ \\\\\n",
        "- minimizacioni problem ostaje isti\n",
        "- dodatna ogranicenja:\n",
        "$$ \\sum_{j \\in J} x_{ij} = 1, \\forall i \\in I $$\n",
        "$$ \\sum_{i \\in I} x_{ij}d_i \\leq s_jy_j, \\forall j \\in J $$"
      ]
    },
    {
      "cell_type": "code",
      "metadata": {
        "id": "dW828KllBUYP"
      },
      "source": [
        "def readInput(filename):\n",
        "    with open(filename, 'r') as f:\n",
        "        numUsers, numResources = [int(x) for x in f.readline().split()]\n",
        "        cost = [[int(x) for x in f.readline().split()] for i in range(numUsers)]\n",
        "        fixedCost = [int(x) for x in f.readline().split()]\n",
        "        return (numUsers, numResources, cost, fixedCost)"
      ],
      "execution_count": 1,
      "outputs": []
    },
    {
      "cell_type": "code",
      "metadata": {
        "id": "xEClifXNCVqO"
      },
      "source": [
        "(numUsers, numResources, cost, fixedCost) = readInput('in.txt')"
      ],
      "execution_count": 2,
      "outputs": []
    },
    {
      "cell_type": "code",
      "metadata": {
        "id": "Xpx8xbhbCXcv"
      },
      "source": [
        "pip install docplex"
      ],
      "execution_count": null,
      "outputs": []
    },
    {
      "cell_type": "code",
      "metadata": {
        "id": "BrIwx8J0CaKI"
      },
      "source": [
        "from docplex.mp.model import Model"
      ],
      "execution_count": 4,
      "outputs": []
    },
    {
      "cell_type": "code",
      "metadata": {
        "id": "6-Q4j-SnCcGz"
      },
      "source": [
        "d = [1 for x in range(numUsers)]\n",
        "s = [3 for x in range(numResources)]"
      ],
      "execution_count": 5,
      "outputs": []
    },
    {
      "cell_type": "code",
      "metadata": {
        "id": "EME_dPfWCkoM"
      },
      "source": [
        "model = Model(name='sscflp')"
      ],
      "execution_count": 6,
      "outputs": []
    },
    {
      "cell_type": "code",
      "metadata": {
        "id": "v20YtklxCnlt"
      },
      "source": [
        "x = model.binary_var_matrix(numUsers, numResources, name='x')"
      ],
      "execution_count": 7,
      "outputs": []
    },
    {
      "cell_type": "code",
      "metadata": {
        "id": "YCaXLl2SCsl7"
      },
      "source": [
        "y = model.binary_var_list(numResources, name='y')"
      ],
      "execution_count": 8,
      "outputs": []
    },
    {
      "cell_type": "code",
      "metadata": {
        "id": "wxwcAEnBCw4k"
      },
      "source": [
        "# Ogranicenja #"
      ],
      "execution_count": null,
      "outputs": []
    },
    {
      "cell_type": "code",
      "metadata": {
        "id": "O8s20m-ZCyhS"
      },
      "source": [
        "for i in range(numUsers):\n",
        "    model.add_constraint(model.sum(x[i,j] for j in range(numResources)) == 1)"
      ],
      "execution_count": 9,
      "outputs": []
    },
    {
      "cell_type": "code",
      "metadata": {
        "id": "Qre4rPzLDSZ_"
      },
      "source": [
        "for j in range(numResources):\n",
        "    model.add_constraint(model.sum(d[i]*x[i,j] for i in range(numUsers)) <= s[j]*y[j])"
      ],
      "execution_count": 10,
      "outputs": []
    },
    {
      "cell_type": "code",
      "metadata": {
        "id": "3elzI8MXDgXg"
      },
      "source": [
        "first_sum = sum([sum([x[i,j]*cost[i][j] for j in range(numResources)]) for i in range(numUsers)])"
      ],
      "execution_count": 11,
      "outputs": []
    },
    {
      "cell_type": "code",
      "metadata": {
        "id": "_yJb1Oe2Dkoy"
      },
      "source": [
        "second_sum = sum([y[j]*fixedCost[j] for j in range(numResources)])"
      ],
      "execution_count": 12,
      "outputs": []
    },
    {
      "cell_type": "code",
      "metadata": {
        "id": "B1aFUT9kDmdv"
      },
      "source": [
        "model.minimize(first_sum+second_sum)"
      ],
      "execution_count": 13,
      "outputs": []
    },
    {
      "cell_type": "code",
      "metadata": {
        "id": "1KKVWKGmDpfY",
        "outputId": "a782a7cf-be5f-470a-fc13-65aec2d6278d",
        "colab": {
          "base_uri": "https://localhost:8080/"
        }
      },
      "source": [
        "model.print_information()"
      ],
      "execution_count": 14,
      "outputs": [
        {
          "output_type": "stream",
          "text": [
            "Model: sscflp\n",
            " - number of variables: 12\n",
            "   - binary=12, integer=0, continuous=0\n",
            " - number of constraints: 6\n",
            "   - linear=6\n",
            " - parameters: defaults\n",
            " - objective: minimize\n"
          ],
          "name": "stdout"
        }
      ]
    },
    {
      "cell_type": "code",
      "metadata": {
        "id": "iE7dyQDsDtE_"
      },
      "source": [
        "model.solve()"
      ],
      "execution_count": null,
      "outputs": []
    },
    {
      "cell_type": "code",
      "metadata": {
        "id": "mq5HgBbZDrLx"
      },
      "source": [
        "model.print_solution()"
      ],
      "execution_count": null,
      "outputs": []
    }
  ]
}