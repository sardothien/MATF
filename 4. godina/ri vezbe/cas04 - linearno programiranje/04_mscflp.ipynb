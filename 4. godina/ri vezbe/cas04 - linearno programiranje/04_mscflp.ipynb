{
  "nbformat": 4,
  "nbformat_minor": 0,
  "metadata": {
    "colab": {
      "name": "04_mscflp.ipynb",
      "provenance": []
    },
    "kernelspec": {
      "name": "python3",
      "display_name": "Python 3"
    }
  },
  "cells": [
    {
      "cell_type": "markdown",
      "metadata": {
        "id": "ccrbWVCbFl3E"
      },
      "source": [
        "**MSCFLP**\n",
        "- promenljive su sada realne vrednosti\n",
        "- funkcija cilja je ista"
      ]
    },
    {
      "cell_type": "code",
      "metadata": {
        "id": "WqFNfKWxD0La"
      },
      "source": [
        "def readInput(filename):\n",
        "    with open(filename, 'r') as f:\n",
        "        numUsers, numResources = [int(x) for x in f.readline().split()]\n",
        "        cost = [[int(x) for x in f.readline().split()] for i in range(numUsers)]\n",
        "        fixedCost = [int(x) for x in f.readline().split()]\n",
        "        return (numUsers, numResources, cost, fixedCost)"
      ],
      "execution_count": 1,
      "outputs": []
    },
    {
      "cell_type": "code",
      "metadata": {
        "id": "w60mohDqGA6a"
      },
      "source": [
        "(numUsers, numResources, cost, fixedCost) = readInput('in.txt')"
      ],
      "execution_count": 2,
      "outputs": []
    },
    {
      "cell_type": "code",
      "metadata": {
        "id": "emy7aLDXGDDf"
      },
      "source": [
        "pip install docplex"
      ],
      "execution_count": null,
      "outputs": []
    },
    {
      "cell_type": "code",
      "metadata": {
        "id": "k9ZnwcKGGFmF"
      },
      "source": [
        "from docplex.mp.model import Model"
      ],
      "execution_count": 4,
      "outputs": []
    },
    {
      "cell_type": "code",
      "metadata": {
        "id": "V1daHy30GG8c"
      },
      "source": [
        "d = [1 for x in range(numUsers)]\n",
        "s = [3 for x in range(numResources)]"
      ],
      "execution_count": 5,
      "outputs": []
    },
    {
      "cell_type": "code",
      "metadata": {
        "id": "lrkP-SaHGJYZ"
      },
      "source": [
        "model = Model(name='mscflp')"
      ],
      "execution_count": 6,
      "outputs": []
    },
    {
      "cell_type": "code",
      "metadata": {
        "id": "87VyjI-JGMXV"
      },
      "source": [
        "x = model.continuous_var_matrix(numUsers, numResources, name='x')"
      ],
      "execution_count": 7,
      "outputs": []
    },
    {
      "cell_type": "code",
      "metadata": {
        "id": "InJvLoOkGSGY"
      },
      "source": [
        "y = model.continuous_var_list(numResources, numUsers, name='y')"
      ],
      "execution_count": 8,
      "outputs": []
    },
    {
      "cell_type": "code",
      "metadata": {
        "id": "zufPz4O2GW01"
      },
      "source": [
        "for i in range(numUsers):\n",
        "    model.add_constraint(model.sum(x[i,j] for j in range(numResources)) == 1)"
      ],
      "execution_count": 9,
      "outputs": []
    },
    {
      "cell_type": "code",
      "metadata": {
        "id": "a4Dp2lQBGhDQ"
      },
      "source": [
        "for j in range(numResources):\n",
        "    model.add_constraint(model.sum(d[i]*x[i,j] for i in range(numUsers)) <= s[j]*y[j])"
      ],
      "execution_count": 10,
      "outputs": []
    },
    {
      "cell_type": "code",
      "metadata": {
        "id": "gonSH3oeGpoa",
        "outputId": "ee5458e1-cc74-48c8-a2c4-f5c201fe7682",
        "colab": {
          "base_uri": "https://localhost:8080/"
        }
      },
      "source": [
        "model.print_information()"
      ],
      "execution_count": 11,
      "outputs": [
        {
          "output_type": "stream",
          "text": [
            "Model: mscflp\n",
            " - number of variables: 12\n",
            "   - binary=0, integer=0, continuous=12\n",
            " - number of constraints: 6\n",
            "   - linear=6\n",
            " - parameters: defaults\n",
            " - objective: none\n"
          ],
          "name": "stdout"
        }
      ]
    },
    {
      "cell_type": "code",
      "metadata": {
        "id": "NHBVP_TUGrkB"
      },
      "source": [
        "first_sum = sum([sum([x[i,j]*cost[i][j] for j in range(numResources)]) for i in range(numUsers)])"
      ],
      "execution_count": 13,
      "outputs": []
    },
    {
      "cell_type": "code",
      "metadata": {
        "id": "WQLQgVU5GukM"
      },
      "source": [
        "second_sum = sum([y[j]*fixedCost[j] for j in range(numResources)])"
      ],
      "execution_count": 14,
      "outputs": []
    },
    {
      "cell_type": "code",
      "metadata": {
        "id": "90FpqEZpGw13"
      },
      "source": [
        "model.minimize(first_sum+second_sum)"
      ],
      "execution_count": 15,
      "outputs": []
    },
    {
      "cell_type": "code",
      "metadata": {
        "id": "1xfU2T22GxXV",
        "outputId": "618ac700-2077-442a-d1d8-a903bd25d92f",
        "colab": {
          "base_uri": "https://localhost:8080/"
        }
      },
      "source": [
        "model.print_information()"
      ],
      "execution_count": 16,
      "outputs": [
        {
          "output_type": "stream",
          "text": [
            "Model: mscflp\n",
            " - number of variables: 12\n",
            "   - binary=0, integer=0, continuous=12\n",
            " - number of constraints: 6\n",
            "   - linear=6\n",
            " - parameters: defaults\n",
            " - objective: minimize\n"
          ],
          "name": "stdout"
        }
      ]
    },
    {
      "cell_type": "code",
      "metadata": {
        "id": "Tbua2yh5Gzf4"
      },
      "source": [
        "model.solve()"
      ],
      "execution_count": null,
      "outputs": []
    },
    {
      "cell_type": "code",
      "metadata": {
        "id": "VuOVjGA2G1KY"
      },
      "source": [
        "model.print_solution()"
      ],
      "execution_count": null,
      "outputs": []
    }
  ]
}