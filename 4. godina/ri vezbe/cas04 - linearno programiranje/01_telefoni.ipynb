{
  "nbformat": 4,
  "nbformat_minor": 0,
  "metadata": {
    "colab": {
      "name": "01_telefoni.ipynb",
      "provenance": []
    },
    "kernelspec": {
      "name": "python3",
      "display_name": "Python 3"
    }
  },
  "cells": [
    {
      "cell_type": "markdown",
      "metadata": {
        "id": "TqeaO2if5Ut_"
      },
      "source": [
        "**Firma koja proizvodi 2 vrste telefona.** \\\\\n",
        "Prva faza: fiksni - 0.2 sati, mobilni - 0.4 sati \\\\\n",
        "Druga faza: fiksni - 0.5 sati, mobilni 0.4 sati \\\\\n",
        "Od fiksnog zarade 12e, a od mobilnog 20e.\\\\\n",
        "Odrediti broj fiksnih i mobilnih koje firma treba da proizvede da bi dobila max profit. \\\\\n",
        "Ogranicenja: I faza <= 400 sati, II faza <= 490 sati, min 100 fiksnih i min 100 mobilnih"
      ]
    },
    {
      "cell_type": "code",
      "metadata": {
        "id": "5Xldj2dE6EOE"
      },
      "source": [
        "from matplotlib import pyplot as plt\n",
        "import numpy as np"
      ],
      "execution_count": null,
      "outputs": []
    },
    {
      "cell_type": "code",
      "metadata": {
        "id": "AVKXQQid5Mic"
      },
      "source": [
        "# Vizuelizacija\n",
        "\n",
        "# 100 fiksnih\n",
        "plt.plot([100, 100], [0, 1000])\n",
        "# 100 mobilnih\n",
        "plt.plot([0, 1000], [100, 100])\n",
        "\n",
        "# x - broj fiksnih, y - broj mobilnih\n",
        "\n",
        "# I faza: x*0.2 + y*0.4 <= 400\n",
        "x = np.arange(0, 1000)\n",
        "y = (400-0.2*x) / 0.4\n",
        "plt.plot(x, y)\n",
        "\n",
        "# II faza: x*0.5 + y*0.4 <= 490\n",
        "x = np.arange(0, 1000)\n",
        "y = (490-0.5*x) / 0.4\n",
        "plt.plot(x, y)\n",
        "\n",
        "# Cena: x*12 + y*20 = c\n",
        "c = 15000\n",
        "y = (c-12*x) / 20\n",
        "plt.plot(x, y)\n",
        "# \"guramo\" ovu pravu ka gore sve dok smo u cetvorouglu\n",
        "# -> tu je resenje\n",
        "\n",
        "plt.xlabel('fiksni')\n",
        "plt.ylabel('mobilni')\n",
        "plt.show()"
      ],
      "execution_count": null,
      "outputs": []
    },
    {
      "cell_type": "code",
      "metadata": {
        "id": "L0t885g47fl5"
      },
      "source": [
        "pip install docplex"
      ],
      "execution_count": null,
      "outputs": []
    },
    {
      "cell_type": "code",
      "metadata": {
        "id": "ZPxWwZ0v7cDY"
      },
      "source": [
        "from docplex.mp.model import Model"
      ],
      "execution_count": null,
      "outputs": []
    },
    {
      "cell_type": "code",
      "metadata": {
        "id": "hMiIRSe37kGH"
      },
      "source": [
        "m = Model(name='proizvodnja telefona')"
      ],
      "execution_count": null,
      "outputs": []
    },
    {
      "cell_type": "code",
      "metadata": {
        "id": "9-zIkWHs7p0Z"
      },
      "source": [
        "# fiksni\n",
        "desk = m.continuous_var(name='desk')"
      ],
      "execution_count": null,
      "outputs": []
    },
    {
      "cell_type": "code",
      "metadata": {
        "id": "7JaA_0j37v5o"
      },
      "source": [
        "# mobilni\n",
        "cell = m.continuous_var(name='cell')"
      ],
      "execution_count": null,
      "outputs": []
    },
    {
      "cell_type": "code",
      "metadata": {
        "id": "eWx8mDzU77_W"
      },
      "source": [
        "# Ogranicenja #"
      ],
      "execution_count": null,
      "outputs": []
    },
    {
      "cell_type": "code",
      "metadata": {
        "id": "rOFSP5Qb7zf7"
      },
      "source": [
        "m.add_constraint(desk >= 100)"
      ],
      "execution_count": null,
      "outputs": []
    },
    {
      "cell_type": "code",
      "metadata": {
        "id": "dKyjlu7e72rP"
      },
      "source": [
        "m.add_constraint(cell >= 100)"
      ],
      "execution_count": null,
      "outputs": []
    },
    {
      "cell_type": "code",
      "metadata": {
        "id": "lFrvPZVf75UD"
      },
      "source": [
        "m.add_constraint(0.2*desk + 0.4*cell <= 400)"
      ],
      "execution_count": null,
      "outputs": []
    },
    {
      "cell_type": "code",
      "metadata": {
        "id": "2ABXiReb8BNE"
      },
      "source": [
        "m.add_constraint(0.5*desk + 0.4*cell <= 490)"
      ],
      "execution_count": null,
      "outputs": []
    },
    {
      "cell_type": "code",
      "metadata": {
        "id": "XVwVG3Q_8FIf"
      },
      "source": [
        "# Funkcija cilja #"
      ],
      "execution_count": null,
      "outputs": []
    },
    {
      "cell_type": "code",
      "metadata": {
        "id": "dvvkfNpK8G-K"
      },
      "source": [
        "m.maximize(12*desk + 20*cell)"
      ],
      "execution_count": null,
      "outputs": []
    },
    {
      "cell_type": "code",
      "metadata": {
        "id": "J90I8PrU8Pdz"
      },
      "source": [
        "m.print_information()"
      ],
      "execution_count": null,
      "outputs": []
    },
    {
      "cell_type": "code",
      "metadata": {
        "id": "lttqS6DE8KHe"
      },
      "source": [
        "m.solve()"
      ],
      "execution_count": null,
      "outputs": []
    },
    {
      "cell_type": "code",
      "metadata": {
        "id": "kwCMG1US9nZF"
      },
      "source": [
        "m.print_solution()"
      ],
      "execution_count": null,
      "outputs": []
    }
  ]
}