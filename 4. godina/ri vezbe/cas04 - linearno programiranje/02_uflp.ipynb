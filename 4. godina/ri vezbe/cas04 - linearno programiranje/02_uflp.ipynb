{
  "nbformat": 4,
  "nbformat_minor": 0,
  "metadata": {
    "colab": {
      "name": "02_uflp.ipynb",
      "provenance": []
    },
    "kernelspec": {
      "name": "python3",
      "display_name": "Python 3"
    }
  },
  "cells": [
    {
      "cell_type": "markdown",
      "metadata": {
        "id": "sAHUaut5937-"
      },
      "source": [
        "**UFLP**\n",
        "- skup korisnika I \\\\\n",
        "- skup resursa J \\\\\n",
        "- cena dodeljivanja korisnika i resursu j - $c_{ij}$ \\\\\n",
        "- cena uspostavljanja resursa j - $f_j$ \\\\\n",
        "\n",
        "Funkcija cilja (x i y su binarne promenljive): \n",
        "$$\\sum_{i \\in I} \\sum_{j \\in J} x_{ij}c_{ij} + \\sum_{j \\in J} y_jf_j $$\n",
        "Ogranicenja:\n",
        "$$ 1) \\sum_{j \\in J} x_{ij} = 1, \\forall i \\in I $$ \\\\\n",
        "$$ 2) x_{ij} \\leq y_j, \\forall i \\in I, \\forall j \\in J$$ \\\\\n",
        "$$ 3) x_{ij} \\in \\{0, 1\\}, y_j \\in \\{0, 1\\}, \\forall i \\in I, \\forall j \\in J$$"
      ]
    },
    {
      "cell_type": "code",
      "metadata": {
        "id": "x44tQHFc_oFv"
      },
      "source": [
        "def readInput(filename):\n",
        "    with open(filename, 'r') as f:\n",
        "        numUsers, numResources = [int(x) for x in f.readline().split()]\n",
        "        cost = [[int(x) for x in f.readline().split()] for i in range(numUsers)]\n",
        "        fixedCost = [int(x) for x in f.readline().split()]\n",
        "        return (numUsers, numResources, cost, fixedCost)"
      ],
      "execution_count": 3,
      "outputs": []
    },
    {
      "cell_type": "code",
      "metadata": {
        "id": "BJUSSGnxACR4"
      },
      "source": [
        "(numUsers, numResources, cost, fixedCost) = readInput('in.txt')"
      ],
      "execution_count": 4,
      "outputs": []
    },
    {
      "cell_type": "code",
      "metadata": {
        "id": "FopUP0hh925z"
      },
      "source": [
        "pip install docplex"
      ],
      "execution_count": null,
      "outputs": []
    },
    {
      "cell_type": "code",
      "metadata": {
        "id": "c6AFPXXo_UhE"
      },
      "source": [
        "from docplex.mp.model import Model"
      ],
      "execution_count": 2,
      "outputs": []
    },
    {
      "cell_type": "code",
      "metadata": {
        "id": "6t0DSXvN_YO0"
      },
      "source": [
        "model = Model(name='uflp')"
      ],
      "execution_count": 6,
      "outputs": []
    },
    {
      "cell_type": "code",
      "metadata": {
        "id": "JhLDNPN0_g6-"
      },
      "source": [
        "x = model.binary_var_matrix(numUsers, numResources, name='x')"
      ],
      "execution_count": 7,
      "outputs": []
    },
    {
      "cell_type": "code",
      "metadata": {
        "id": "bH0G-O8LAO4K"
      },
      "source": [
        "y = model.binary_var_list(numResources, name='y')"
      ],
      "execution_count": 8,
      "outputs": []
    },
    {
      "cell_type": "code",
      "metadata": {
        "id": "Ih6F_UzWAUTJ"
      },
      "source": [
        "# Ogranicenja #"
      ],
      "execution_count": null,
      "outputs": []
    },
    {
      "cell_type": "code",
      "metadata": {
        "id": "54zPLWtCAWeL",
        "outputId": "61f1a54c-37ec-44e8-8d16-0ab29fa0084a",
        "colab": {
          "base_uri": "https://localhost:8080/"
        }
      },
      "source": [
        "model.add_constraints([sum([x[i, j] for j in range(numResources)]) == 1 for i in range(numUsers)])"
      ],
      "execution_count": 9,
      "outputs": [
        {
          "output_type": "execute_result",
          "data": {
            "text/plain": [
              "[docplex.mp.LinearConstraint[](x_0_0+x_0_1+x_0_2,EQ,1),\n",
              " docplex.mp.LinearConstraint[](x_1_0+x_1_1+x_1_2,EQ,1),\n",
              " docplex.mp.LinearConstraint[](x_2_0+x_2_1+x_2_2,EQ,1)]"
            ]
          },
          "metadata": {
            "tags": []
          },
          "execution_count": 9
        }
      ]
    },
    {
      "cell_type": "code",
      "metadata": {
        "id": "ntMAAHrBAjDX"
      },
      "source": [
        "for j in range(numResources):\n",
        "    model.add_constraints([x[i,j] <= y[j] for i in range(numUsers)])"
      ],
      "execution_count": 10,
      "outputs": []
    },
    {
      "cell_type": "code",
      "metadata": {
        "id": "aFNXfSgvAuRN",
        "outputId": "b6a364f4-4dc6-436d-c620-8ee91a0bbf10",
        "colab": {
          "base_uri": "https://localhost:8080/"
        }
      },
      "source": [
        "model.print_information()"
      ],
      "execution_count": 11,
      "outputs": [
        {
          "output_type": "stream",
          "text": [
            "Model: uflp\n",
            " - number of variables: 12\n",
            "   - binary=12, integer=0, continuous=0\n",
            " - number of constraints: 12\n",
            "   - linear=12\n",
            " - parameters: defaults\n",
            " - objective: none\n"
          ],
          "name": "stdout"
        }
      ]
    },
    {
      "cell_type": "code",
      "metadata": {
        "id": "xNnMghVwA0HS"
      },
      "source": [
        "first_sum = sum([sum([x[i,j]*cost[i][j] for j in range(numResources)]) for i in range(numUsers)])"
      ],
      "execution_count": 12,
      "outputs": []
    },
    {
      "cell_type": "code",
      "metadata": {
        "id": "5hH0KWv2A-Wu"
      },
      "source": [
        "second_sum = sum([y[j]*fixedCost[j] for j in range(numResources)])"
      ],
      "execution_count": 13,
      "outputs": []
    },
    {
      "cell_type": "code",
      "metadata": {
        "id": "O46fBeo8BEiw"
      },
      "source": [
        "model.minimize(first_sum+second_sum)"
      ],
      "execution_count": 14,
      "outputs": []
    },
    {
      "cell_type": "code",
      "metadata": {
        "id": "Uo1VQy3sBH_N"
      },
      "source": [
        "solution = model.solve()"
      ],
      "execution_count": null,
      "outputs": []
    },
    {
      "cell_type": "code",
      "metadata": {
        "id": "LOo5E3yVBKB8"
      },
      "source": [
        "solution.display()"
      ],
      "execution_count": null,
      "outputs": []
    }
  ]
}