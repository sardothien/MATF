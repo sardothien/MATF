{
  "nbformat": 4,
  "nbformat_minor": 0,
  "metadata": {
    "colab": {
      "name": "01_fazi_logika.ipynb",
      "provenance": [],
      "collapsed_sections": []
    },
    "kernelspec": {
      "name": "python3",
      "display_name": "Python 3"
    }
  },
  "cells": [
    {
      "cell_type": "markdown",
      "metadata": {
        "id": "9REkYYM4ce4j"
      },
      "source": [
        "Odredi vrednost automobila koji trosi 9l i kvari se 8 puta na 100 000km. \\\\\n",
        "Vrednost moze biti: niska, srednja, visoka. \\\\\n",
        "Potrosnja: mala, srednja, visoka \\\\\n",
        "Pouzdanost: niska, visoka"
      ]
    },
    {
      "cell_type": "code",
      "metadata": {
        "id": "VUk035CpbYIi"
      },
      "source": [
        "class FuzzyInput():\n",
        "    # xs, ys - kljucne tacke\n",
        "    # x0 - broj sa ulaza\n",
        "    def __init__(self, name, xs, ys, x0):\n",
        "        self.name = name\n",
        "        self.points = list(zip(xs, ys))\n",
        "        self.mi = self.calculateMi(x0)\n",
        "\n",
        "    def calculateMi(self, x0):\n",
        "        if x0 < self.points[0][0]: # levo od prve tacke\n",
        "            return self.points[0][1]\n",
        "        if x0 > self.points[-1][0]: # desno od poslednje\n",
        "            return self.points[-1][1]\n",
        "\n",
        "        for i in range(0, len(self.points)-1):\n",
        "            x1 = self.points[i][0]\n",
        "            x2 = self.points[i+1][0]\n",
        "\n",
        "            if x0 >= x1 and x0 < x2:\n",
        "                y1 = self.points[i][1]\n",
        "                y2 = self.points[i+1][1]\n",
        "                if y1 == y2:\n",
        "                    return y1\n",
        "                if y1 < y2: # rastuca funkcija\n",
        "                    return (x0 - x1) / (x2 - x1)\n",
        "                else: # opadajuca funkcija\n",
        "                    return (x2 - x0) / (x2 - x1)"
      ],
      "execution_count": 2,
      "outputs": []
    },
    {
      "cell_type": "code",
      "metadata": {
        "id": "koNbfTuscTJ4",
        "outputId": "684f1a91-b243-4bed-82dd-8c490836c1d4",
        "colab": {
          "base_uri": "https://localhost:8080/",
          "height": 35
        }
      },
      "source": [
        "fi = FuzzyInput('mala', [3, 10], [1, 0], 9)\n",
        "fi.mi"
      ],
      "execution_count": 3,
      "outputs": [
        {
          "output_type": "execute_result",
          "data": {
            "text/plain": [
              "0.14285714285714285"
            ]
          },
          "metadata": {
            "tags": []
          },
          "execution_count": 3
        }
      ]
    },
    {
      "cell_type": "code",
      "metadata": {
        "id": "8CSZ4z2OdiBL"
      },
      "source": [
        "class FuzzyOutput():\n",
        "    def __init__(self, name, xs, ys):\n",
        "        self.name = name\n",
        "        self.points = list(zip(xs, ys))\n",
        "        self.mi = 0\n",
        "        avg = 0\n",
        "        n = 0\n",
        "\n",
        "        for p in self.points:\n",
        "            if p[1] == 1: # y == 1 \n",
        "                avg += p[0]\n",
        "                n += 1\n",
        "\n",
        "        self.c = avg / n"
      ],
      "execution_count": 4,
      "outputs": []
    },
    {
      "cell_type": "code",
      "metadata": {
        "id": "POZ9bzRTd6B5",
        "outputId": "bf05c3b5-ac59-41a4-e3ac-9eec65e7a8df",
        "colab": {
          "base_uri": "https://localhost:8080/",
          "height": 35
        }
      },
      "source": [
        "fo = FuzzyOutput('srednja', [1, 15, 25, 40], [0, 1, 1, 0])\n",
        "fo.c"
      ],
      "execution_count": 5,
      "outputs": [
        {
          "output_type": "execute_result",
          "data": {
            "text/plain": [
              "20.0"
            ]
          },
          "metadata": {
            "tags": []
          },
          "execution_count": 5
        }
      ]
    },
    {
      "cell_type": "code",
      "metadata": {
        "id": "Ysat3YOSeETx"
      },
      "source": [
        "from enum import Enum, unique\n",
        "\n",
        "@unique\n",
        "class LogicOP(Enum):\n",
        "    AND = 0\n",
        "    OR = 1\n",
        "\n",
        "class Rules():\n",
        "    def __init__(self, input1, input2, output, operator):\n",
        "        self.input1 = input1\n",
        "        self.input2 = input2\n",
        "        self.output = output\n",
        "\n",
        "        if operator == LogicOP.AND:\n",
        "            self.output.mi = max(self.output.mi, min(self.input1.mi, self.input2.mi))\n",
        "        else:\n",
        "            self.output.mi = max(self.output.mi, max(self.input1.mi, self.input2.mi))"
      ],
      "execution_count": 6,
      "outputs": []
    },
    {
      "cell_type": "code",
      "metadata": {
        "id": "J0ooV5tBfFHC"
      },
      "source": [
        "potrosnja = []\n",
        "potrosnja.append(FuzzyInput('mala', [3, 10], [1, 0], 9))\n",
        "potrosnja.append(FuzzyInput('srednja', [7, 10, 12, 15], [0, 1, 1, 0], 9))\n",
        "potrosnja.append(FuzzyInput('velika', [12, 15], [0, 1], 9))\n",
        "\n",
        "pouzdanost = []\n",
        "pouzdanost.append(FuzzyInput('visoka', [5, 10], [1, 0], 8))\n",
        "pouzdanost.append(FuzzyInput('niska', [8, 15], [0, 1], 8))\n",
        "\n",
        "vrednost = []\n",
        "vrednost.append(FuzzyOutput('mala', [7, 15], [1, 0]))\n",
        "vrednost.append(FuzzyOutput('srednja', [7, 15, 25, 40], [0, 1, 1, 0]))\n",
        "vrednost.append(FuzzyOutput('velika', [25, 40], [0, 1]))\n",
        "\n",
        "rules = []\n",
        "rules.append(Rules(potrosnja[0], pouzdanost[0], vrednost[2], LogicOP.AND))\n",
        "rules.append(Rules(potrosnja[0], pouzdanost[1], vrednost[1], LogicOP.AND))\n",
        "rules.append(Rules(potrosnja[1], pouzdanost[0], vrednost[1], LogicOP.AND))\n",
        "rules.append(Rules(potrosnja[1], pouzdanost[1], vrednost[1], LogicOP.AND))\n",
        "rules.append(Rules(potrosnja[2], pouzdanost[0], vrednost[1], LogicOP.AND))\n",
        "rules.append(Rules(potrosnja[2], pouzdanost[1], vrednost[0], LogicOP.AND))"
      ],
      "execution_count": 10,
      "outputs": []
    },
    {
      "cell_type": "code",
      "metadata": {
        "id": "qNdNFrnygONl",
        "outputId": "2cc75f42-dc14-4eea-ad43-e5a7cd307c30",
        "colab": {
          "base_uri": "https://localhost:8080/",
          "height": 35
        }
      },
      "source": [
        "# Defazifikacija\n",
        "brojioc = 0\n",
        "imenioc = 0\n",
        "\n",
        "for v in vrednost:\n",
        "    brojioc += v.mi * v.c\n",
        "    imenioc += v.mi\n",
        "\n",
        "rez = brojioc / imenioc\n",
        "rez"
      ],
      "execution_count": 11,
      "outputs": [
        {
          "output_type": "execute_result",
          "data": {
            "text/plain": [
              "25.26315789473684"
            ]
          },
          "metadata": {
            "tags": []
          },
          "execution_count": 11
        }
      ]
    },
    {
      "cell_type": "code",
      "metadata": {
        "id": "VG4usUOwgeqD"
      },
      "source": [
        ""
      ],
      "execution_count": null,
      "outputs": []
    }
  ]
}