{
  "nbformat": 4,
  "nbformat_minor": 0,
  "metadata": {
    "colab": {
      "name": "ppgr_domaci2.ipynb",
      "provenance": [],
      "collapsed_sections": []
    },
    "kernelspec": {
      "name": "python3",
      "display_name": "Python 3"
    }
  },
  "cells": [
    {
      "cell_type": "markdown",
      "metadata": {
        "id": "8MQ6poPVKCtI"
      },
      "source": [
        "**2. domaci**\n",
        "- kod se moze pokrenutii iz Google Colaboratory na Google Drive-u ili preko jupyter-a"
      ]
    },
    {
      "cell_type": "code",
      "metadata": {
        "id": "Gao25F9yNM34"
      },
      "source": [
        "import math\n",
        "import numpy as np\n",
        "import matplotlib.pyplot as plt"
      ],
      "execution_count": 1,
      "outputs": []
    },
    {
      "cell_type": "code",
      "metadata": {
        "id": "LnFEvWzSWW22"
      },
      "source": [
        "def draw(src_p, dst_p):\n",
        "    xs = [p[0] for p in src_p]\n",
        "    ys = [p[1] for p in src_p]\n",
        "    xs.append(src_p[0][0])\n",
        "    ys.append(src_p[0][1])\n",
        "\n",
        "    xd = [p[0] for p in dst_p]\n",
        "    yd = [p[1] for p in dst_p]\n",
        "    xd.append(dst_p[0][0])\n",
        "    yd.append(dst_p[0][1])\n",
        "\n",
        "    plt.plot(xs, ys)\n",
        "    plt.plot(xd, yd)\n",
        "    plt.legend(['original', 'slika'])\n",
        "    plt.show()"
      ],
      "execution_count": 2,
      "outputs": []
    },
    {
      "cell_type": "code",
      "metadata": {
        "id": "9J5EiwoELQho"
      },
      "source": [
        "# originalne tacke\n",
        "src_points = [[-3, -1, 1],\n",
        "              [3, -1, 1],\n",
        "              [1, 1, 1],\n",
        "              [-1, 1, 1]]\n",
        "\n",
        "# slike tacaka\n",
        "dst_points = [[-2, -1, 1],\n",
        "              [2, -1, 1],\n",
        "              [2, 1, 1],\n",
        "              [-2, 1, 1]]"
      ],
      "execution_count": 3,
      "outputs": []
    },
    {
      "cell_type": "code",
      "metadata": {
        "id": "YumIaJxXUcEp",
        "outputId": "bae31ff6-26ac-4129-b3ba-f0dc7960e1a4",
        "colab": {
          "base_uri": "https://localhost:8080/",
          "height": 265
        }
      },
      "source": [
        "# Graficki prikaz\n",
        "draw(src_points, dst_points)"
      ],
      "execution_count": 4,
      "outputs": [
        {
          "output_type": "display_data",
          "data": {
            "image/png": "[encoded data removed]",
            "text/plain": [
              "<Figure size 432x288 with 1 Axes>"
            ]
          },
          "metadata": {
            "tags": [],
            "needs_background": "light"
          }
        }
      ]
    },
    {
      "cell_type": "markdown",
      "metadata": {
        "id": "2HQCqeVHUw_L"
      },
      "source": [
        "***1. NAIVNI ALGORITAM***"
      ]
    },
    {
      "cell_type": "code",
      "metadata": {
        "id": "lPMOqWdVqRzP"
      },
      "source": [
        "def find_matrix(pts):\n",
        "    matrix = np.array([ # A, B, C\n",
        "        [pts[0][0], pts[1][0], pts[2][0]],\n",
        "        [pts[0][1], pts[1][1], pts[2][1]],\n",
        "        [pts[0][2], pts[1][2], pts[2][2]]\n",
        "    ])\n",
        "\n",
        "    D = np.array([pts[3][0], pts[3][1], pts[3][2]])\n",
        "\n",
        "    # D = alpha*A + beta*B + gamma*C\n",
        "    result = np.linalg.solve(matrix, D)\n",
        "\n",
        "    alpha = result[0]\n",
        "    beta = result[1]\n",
        "    gamma = result[2]\n",
        "\n",
        "    column1= np.array([alpha*pts[0][0], alpha*pts[0][1], alpha*pts[0][2]])\n",
        "    column2= np.array([beta*pts[1][0], beta*pts[1][1], beta*pts[1][2]])\n",
        "    column3= np.array([gamma*pts[2][0], gamma*pts[2][1], gamma*pts[2][2]])\n",
        "\n",
        "    P = np.column_stack([column1, column2, column3])\n",
        "\n",
        "    return P\n",
        "\n",
        "def naive_algorithm(src_p, dst_p):\n",
        "\n",
        "    P1 = find_matrix(src_p)\n",
        "    P2 = find_matrix(dst_p)\n",
        "\n",
        "    # P = P2*inv(P1)\n",
        "    P = np.dot(P2, np.linalg.inv(P1))\n",
        "\n",
        "    return P"
      ],
      "execution_count": 5,
      "outputs": []
    },
    {
      "cell_type": "code",
      "metadata": {
        "id": "LAFHR0GLRU86",
        "outputId": "fce0a103-e32f-438d-b95c-bd6422f3bdec",
        "colab": {
          "base_uri": "https://localhost:8080/"
        }
      },
      "source": [
        "# Matrica projektivnog preslikavanja\n",
        "P_naive = naive_algorithm(src_points, dst_points)\n",
        "P_naive = P_naive.round(5)\n",
        "print(P_naive)"
      ],
      "execution_count": 6,
      "outputs": [
        {
          "output_type": "stream",
          "text": [
            "[[ 2. -0.  0.]\n",
            " [-0.  2. -1.]\n",
            " [ 0. -1.  2.]]\n"
          ],
          "name": "stdout"
        }
      ]
    },
    {
      "cell_type": "markdown",
      "metadata": {
        "id": "FgZYKv4wvXYQ"
      },
      "source": [
        "***2. DLT ALGORITAM***"
      ]
    },
    {
      "cell_type": "code",
      "metadata": {
        "id": "-W-fdj40Ox3W"
      },
      "source": [
        "def dlt(src_p, dst_p):\n",
        "    x = src_p[0][0]\n",
        "    y = src_p[0][1]\n",
        "    z = src_p[0][2]\n",
        "\n",
        "    u = dst_p[0][0]\n",
        "    v = dst_p[0][1]\n",
        "    w = dst_p[0][2]\n",
        "\n",
        "    A = np.array([\n",
        "        [0, 0, 0, -w*x, -w*y, -w*z, v*x, v*y, v*z],\n",
        "        [w*x, w*y, w*z, 0, 0, 0, -u*x, -u*y, -u*z]\n",
        "    ])\n",
        "\n",
        "    for i in range(1, len(src_p)):\n",
        "        x = src_p[i][0]\n",
        "        y = src_p[i][1]\n",
        "        z = src_p[i][2]\n",
        "\n",
        "        u = dst_p[i][0]\n",
        "        v = dst_p[i][1]\n",
        "        w = dst_p[i][2]\n",
        "\n",
        "        row1 = np.array([0, 0, 0, -w*x, -w*y, -w*z, v*x, v*y, v*z])\n",
        "        row2 = np.array([w*x, w*y, w*z, 0, 0, 0, -u*x, -u*y, -u*z])\n",
        "\n",
        "        A = np.vstack((A, row1))\n",
        "        A = np.vstack((A, row2))\n",
        "\n",
        "    # print(A.shape)\n",
        "    # print(A)\n",
        "\n",
        "    # SVD dekompozicija\n",
        "    U, S, V = np.linalg.svd(A)\n",
        "\n",
        "    P = V[-1].reshape(3,3)\n",
        "    \n",
        "    return P"
      ],
      "execution_count": 7,
      "outputs": []
    },
    {
      "cell_type": "code",
      "metadata": {
        "id": "tMePYnsTzcGV",
        "outputId": "4415fb1b-7b11-4c54-ab4d-539e83d412ec",
        "colab": {
          "base_uri": "https://localhost:8080/"
        }
      },
      "source": [
        "P_dlt = dlt(src_points, dst_points)\n",
        "print(P_dlt.round(5))"
      ],
      "execution_count": 8,
      "outputs": [
        {
          "output_type": "stream",
          "text": [
            "[[ 0.53452  0.      -0.     ]\n",
            " [-0.       0.53452 -0.26726]\n",
            " [-0.      -0.26726  0.53452]]\n"
          ],
          "name": "stdout"
        }
      ]
    },
    {
      "cell_type": "markdown",
      "metadata": {
        "id": "H5fyJFj31LiD"
      },
      "source": [
        "***Poredjenje DLT i naivnog algoritma***"
      ]
    },
    {
      "cell_type": "code",
      "metadata": {
        "id": "ATUqFNca1PMl",
        "outputId": "35c2bcf5-f55f-426b-ed05-123801e40194",
        "colab": {
          "base_uri": "https://localhost:8080/"
        }
      },
      "source": [
        "P_dlt = (P_dlt / P_dlt[0, 0]) * P_naive[0, 0]\n",
        "print(P_dlt.round(5))"
      ],
      "execution_count": 9,
      "outputs": [
        {
          "output_type": "stream",
          "text": [
            "[[ 2.  0. -0.]\n",
            " [-0.  2. -1.]\n",
            " [-0. -1.  2.]]\n"
          ],
          "name": "stdout"
        }
      ]
    },
    {
      "cell_type": "code",
      "metadata": {
        "id": "Ld41iIo42opU",
        "outputId": "aa640c4c-0c52-4b9a-fb62-27d91bb0f366",
        "colab": {
          "base_uri": "https://localhost:8080/"
        }
      },
      "source": [
        "P_dlt.round(5) == P_naive.round(5)"
      ],
      "execution_count": 10,
      "outputs": [
        {
          "output_type": "execute_result",
          "data": {
            "text/plain": [
              "array([[ True,  True,  True],\n",
              "       [ True,  True,  True],\n",
              "       [ True,  True,  True]])"
            ]
          },
          "metadata": {
            "tags": []
          },
          "execution_count": 10
        }
      ]
    },
    {
      "cell_type": "markdown",
      "metadata": {
        "id": "rUMQ4o9V20Sa"
      },
      "source": [
        "***3. MODIFIKOVANI DLT ALGORITAM***"
      ]
    },
    {
      "cell_type": "code",
      "metadata": {
        "id": "SEoJJsifdulX"
      },
      "source": [
        "def normalization(src_p):\n",
        "    \n",
        "    # teziste sistema tacaka C(x, y)\n",
        "    x = sum([p[0]/p[2] for p in src_p]) / len(src_p)\n",
        "    y = sum([p[1]/p[2] for p in src_p]) / len(src_p)\n",
        "    \n",
        "    # srednje rastojanje\n",
        "    r = 0.0\n",
        "\n",
        "    for i in range(len(src_p)):\n",
        "        # translacija u koordinatni pocetak\n",
        "        tmp1 = float(src_p[i][0]/src_p[i][2]) - x\n",
        "        tmp2 = float(src_p[i][1]/src_p[i][2]) - y\n",
        "\n",
        "        r = r + math.sqrt(tmp1**2 + tmp2**2)\n",
        "\n",
        "    r = r / float(len(src_p))\n",
        "\n",
        "    # skaliranje\n",
        "    S = float(math.sqrt(2)) / r\n",
        "\n",
        "    # vracamo matricu normalizacije \n",
        "    return np.array([[S, 0, -S*x], [0, S, -S*y], [0, 0, 1]])\n",
        "\n",
        "def dlt_normalized(src_p, dst_p):\n",
        "\n",
        "    # transformacije\n",
        "    T = normalization(src_p)\n",
        "    T_prim = normalization(dst_p)\n",
        "\n",
        "    # normalizovane tacke\n",
        "    M_line = T.dot(np.transpose(src_p))\n",
        "    M_prim = T_prim.dot(np.transpose(dst_p))\n",
        "\n",
        "    M_line = np.transpose(M_line)\n",
        "    M_prim = np.transpose(M_prim)\n",
        "\n",
        "    P_line = dlt(M_line, M_prim)\n",
        "\n",
        "    P = (np.linalg.inv(T_prim)).dot(P_line).dot(T)\n",
        "\n",
        "    return P"
      ],
      "execution_count": 11,
      "outputs": []
    },
    {
      "cell_type": "code",
      "metadata": {
        "id": "bv22OuvZif5w",
        "outputId": "90b8bf3d-d112-4785-c2f4-1f02e4cd57f6",
        "colab": {
          "base_uri": "https://localhost:8080/"
        }
      },
      "source": [
        "P_dlt_norm = dlt_normalized(src_points, dst_points)\n",
        "print(P_dlt_norm.round(5))"
      ],
      "execution_count": 12,
      "outputs": [
        {
          "output_type": "stream",
          "text": [
            "[[ 0.50972  0.       0.     ]\n",
            " [-0.       0.50972 -0.25486]\n",
            " [ 0.      -0.25486  0.50972]]\n"
          ],
          "name": "stdout"
        }
      ]
    },
    {
      "cell_type": "markdown",
      "metadata": {
        "id": "lQ7xS8Yai6VJ"
      },
      "source": [
        "***Poredjenje DLT i modifikovanog DLT algoritma***"
      ]
    },
    {
      "cell_type": "code",
      "metadata": {
        "id": "d4ty88jmi-5t",
        "outputId": "e79a9ace-cd4f-454e-fde1-e99250397c03",
        "colab": {
          "base_uri": "https://localhost:8080/"
        }
      },
      "source": [
        "P_dlt_norm = (P_dlt_norm / P_dlt_norm[0, 0]) * P_dlt[0, 0]\n",
        "print(P_dlt_norm.round(5))"
      ],
      "execution_count": 13,
      "outputs": [
        {
          "output_type": "stream",
          "text": [
            "[[ 2.  0.  0.]\n",
            " [-0.  2. -1.]\n",
            " [ 0. -1.  2.]]\n"
          ],
          "name": "stdout"
        }
      ]
    },
    {
      "cell_type": "code",
      "metadata": {
        "id": "GjXH-23IjJsj",
        "outputId": "73435c4d-88b0-4c38-dc77-499da58c83dc",
        "colab": {
          "base_uri": "https://localhost:8080/"
        }
      },
      "source": [
        "P_dlt_norm.round(5) == P_dlt.round(5)"
      ],
      "execution_count": 14,
      "outputs": [
        {
          "output_type": "execute_result",
          "data": {
            "text/plain": [
              "array([[ True,  True,  True],\n",
              "       [ True,  True,  True],\n",
              "       [ True,  True,  True]])"
            ]
          },
          "metadata": {
            "tags": []
          },
          "execution_count": 14
        }
      ]
    },
    {
      "cell_type": "markdown",
      "metadata": {
        "id": "RL8R2v2ie2az"
      },
      "source": [
        "***DLT sa vise korespodencija***"
      ]
    },
    {
      "cell_type": "code",
      "metadata": {
        "id": "FAZBXnkCe-5U"
      },
      "source": [
        "# originalne tacke\n",
        "src_points = [[-3, -1, 1],\n",
        "              [3, -1, 1],\n",
        "              [1, 1, 1],\n",
        "              [-1, 1, 1],\n",
        "              [1, 2, 3],\n",
        "              [-8, -2, 1]]\n",
        "\n",
        "# slike tacaka\n",
        "dst_points = [[-2, -1, 1],\n",
        "              [2, -1, 1],\n",
        "              [2, 1, 1],\n",
        "              [-2, 1, 1],\n",
        "              [2, 1, 4],\n",
        "              [-16, -5, 4]]"
      ],
      "execution_count": 15,
      "outputs": []
    },
    {
      "cell_type": "code",
      "metadata": {
        "id": "ke_Aldj5fHkr",
        "outputId": "e6ceea05-9e68-46c8-cd43-69f8c638fbfd",
        "colab": {
          "base_uri": "https://localhost:8080/"
        }
      },
      "source": [
        "# DLT za vise od 4 korespodencije\n",
        "P_dlt_new = dlt(src_points, dst_points)\n",
        "print(P_dlt_new.round(5))\n",
        "# Poredjenje sa naivnim\n",
        "P_dlt_new = (P_dlt_new / P_dlt_new[0, 0]) * P_naive[0, 0]\n",
        "print(P_dlt_new.round(5))\n",
        "# dobijamo isto preslikavanje\n",
        "print(P_dlt_new.round(5) == P_naive.round(5))"
      ],
      "execution_count": 16,
      "outputs": [
        {
          "output_type": "stream",
          "text": [
            "[[-0.53452  0.      -0.     ]\n",
            " [ 0.      -0.53452  0.26726]\n",
            " [-0.       0.26726 -0.53452]]\n",
            "[[ 2. -0.  0.]\n",
            " [-0.  2. -1.]\n",
            " [ 0. -1.  2.]]\n",
            "[[ True  True  True]\n",
            " [ True  True  True]\n",
            " [ True  True  True]]\n"
          ],
          "name": "stdout"
        }
      ]
    },
    {
      "cell_type": "code",
      "metadata": {
        "id": "4KLran8GvxC6",
        "outputId": "53846adc-a129-400b-f040-e6c42fbb1b9f",
        "colab": {
          "base_uri": "https://localhost:8080/"
        }
      },
      "source": [
        "# DLT modifikovani za vise od 4 korespodencije\n",
        "P_dlt_norm_new = dlt_normalized(src_points, dst_points)\n",
        "print(P_dlt_norm_new.round(5))\n",
        "# Poredjenje sa naivnim\n",
        "P_dlt_norm_new = (P_dlt_norm_new / P_dlt_norm_new[0, 0]) * P_naive[0, 0]\n",
        "print(P_dlt_norm_new.round(5))\n",
        "# dobijamo isto preslikavanje\n",
        "print(P_dlt_norm_new.round(5) == P_naive.round(5))"
      ],
      "execution_count": 17,
      "outputs": [
        {
          "output_type": "stream",
          "text": [
            "[[-0.397  -0.      0.    ]\n",
            " [-0.     -0.397   0.1985]\n",
            " [ 0.      0.1985 -0.397 ]]\n",
            "[[ 2.  0. -0.]\n",
            " [ 0.  2. -1.]\n",
            " [-0. -1.  2.]]\n",
            "[[ True  True  True]\n",
            " [ True  True  True]\n",
            " [ True  True  True]]\n"
          ],
          "name": "stdout"
        }
      ]
    },
    {
      "cell_type": "markdown",
      "metadata": {
        "id": "lJX0TitnweKJ"
      },
      "source": [
        "***Promena koordinata kod DLT algoritama***\n",
        "\n"
      ]
    },
    {
      "cell_type": "code",
      "metadata": {
        "id": "VH-foWe-Ge5P"
      },
      "source": [
        "def change_coordinates():\n",
        "\n",
        "    C1 = np.array([[0, 1, 2], \n",
        "                   [-1, 0, 3], \n",
        "                   [0, 0, 1]])\n",
        "    \n",
        "    C2 = np.array([[1, -1, 5], \n",
        "                   [1, 1, -2], \n",
        "                   [0, 0, 1]])\n",
        "\n",
        "    src_points_new = []\n",
        "    dst_points_new = []\n",
        "\n",
        "    # nove tacke\n",
        "    for i in range(len(src_points)):\n",
        "        src_points_new.append(np.dot(C1, src_points[i]))\n",
        "        dst_points_new.append(np.dot(C2, dst_points[i]))\n",
        " \n",
        "    src_points_new = np.array(src_points_new)\n",
        "    dst_points_new = np.array(dst_points_new)\n",
        "\n",
        "    # DLT algoritam\n",
        "    P_dlt = dlt(src_points, dst_points) \n",
        "    P_dlt_new = dlt(src_points_new, dst_points_new)\n",
        "  \n",
        "    P_tmp = np.dot(np.linalg.inv(C2), P_dlt_new)\n",
        "    P_tmp = np.dot(P_tmp, C1)\n",
        "    P_tmp = (P_dlt[0] / P_tmp[0]) * P_tmp\n",
        "    \n",
        "    print(\"Poredjenje DLT algoritma nakon promene koordinata: \")\n",
        "    print(P_dlt.round(5) == P_tmp.round(5))\n",
        "    # vidimo da vise nije ista matrica preslikavanja\n",
        "\n",
        "    # Modifikovani DLT algoritam\n",
        "    P_dlt_norm = dlt_normalized(src_points, dst_points)\n",
        "    P_dlt_norm_new = dlt_normalized(src_points_new, dst_points_new)\n",
        "\n",
        "    P_tmp = np.dot(np.linalg.inv(C2), P_dlt_norm_new)\n",
        "    P_tmp = np.dot(P_tmp, C1)\n",
        "    \n",
        "    print(\"Poredjenje modifikovanog DLT algoritma nakon promene koordinata: \")\n",
        "    print(P_dlt_norm.round(5) == P_tmp.round(5))\n",
        "    # matrica je ista\n"
      ],
      "execution_count": 18,
      "outputs": []
    },
    {
      "cell_type": "code",
      "metadata": {
        "id": "fMelRvwFGpui",
        "outputId": "9711e9a2-42cd-422d-e7c6-d5eec5843b97",
        "colab": {
          "base_uri": "https://localhost:8080/"
        }
      },
      "source": [
        "change_coordinates()"
      ],
      "execution_count": 19,
      "outputs": [
        {
          "output_type": "stream",
          "text": [
            "Poredjenje DLT algoritma nakon promene koordinata: \n",
            "[[ True  True  True]\n",
            " [ True False False]\n",
            " [ True False False]]\n",
            "Poredjenje modifikovanog DLT algoritma nakon promene koordinata: \n",
            "[[ True  True  True]\n",
            " [ True  True  True]\n",
            " [ True  True  True]]\n"
          ],
          "name": "stdout"
        }
      ]
    },
    {
      "cell_type": "markdown",
      "metadata": {
        "id": "zm3sbchYZq6g"
      },
      "source": [
        "***4. UKLANJANJE PROJEKTIVNE DISTORZIJE***"
      ]
    },
    {
      "cell_type": "code",
      "metadata": {
        "id": "4ogOlgByZwJL"
      },
      "source": [
        "from PIL import Image"
      ],
      "execution_count": null,
      "outputs": []
    },
    {
      "cell_type": "code",
      "metadata": {
        "id": "mcyd-nO7ZzgA"
      },
      "source": [
        "img = Image.open('building.jpeg')\n",
        "img_copy = Image.new('RGB', (img.size[0], img.size[1]), 'black')         "
      ],
      "execution_count": null,
      "outputs": []
    },
    {
      "cell_type": "code",
      "metadata": {
        "id": "7LUfEWgnbKWF"
      },
      "source": [
        "def change_photo(src_p, dst_p):\n",
        "    \n",
        "    # P = naive_algorithm(src_p, dst_p)\n",
        "    # P = dlt(src_p, dst_p)\n",
        "    P = dlt_normalized(src_p, dst_p)\n",
        "\n",
        "    P = np.linalg.inv(P)\n",
        "    cols = img_copy.size[0]\n",
        "    rows = img_copy.size[1]\n",
        "\n",
        "    for i in range(cols):        \n",
        "        for j in range(rows):      \n",
        "            new_coord = P.dot([i, j, 1]) \n",
        "            new_coord = [(x / new_coord[2]) for x in new_coord]\n",
        "            \n",
        "            if (new_coord[0] >= 0 and new_coord[0] < cols-1 and new_coord[1] >= 0 and new_coord[1] < rows-1):\n",
        "                tmp1 = img.getpixel((math.floor(new_coord[0]), math.floor(new_coord[1])))\n",
        "                tmp2 = img.getpixel((math.ceil(new_coord[0]), math.ceil(new_coord[1])))\n",
        "                img_copy.putpixel((i, j), tmp2)\n",
        "        \n",
        "\n",
        "    fig = plt.figure(figsize=(16, 9))\n",
        "\n",
        "    plt.subplot(1, 2, 1)\n",
        "    plt.imshow(img)\n",
        "    plt.title('Pocetna slika:')\n",
        "\n",
        "    plt.subplot(1, 2, 2)\n",
        "    plt.imshow(img_copy)\n",
        "    plt.title('Uklanjanje distorzije:')\n",
        "\n",
        "    plt.tight_layout()\n",
        "    plt.show()"
      ],
      "execution_count": null,
      "outputs": []
    },
    {
      "cell_type": "code",
      "metadata": {
        "id": "pzyyB0MSc-DY"
      },
      "source": [
        "# tacke sa originalne slike (building.jpeg)\n",
        "src_points = [[164, 717, 1],\n",
        "              [294, 744, 1],\n",
        "              [293, 147, 1],\n",
        "              [214, 30, 1]]  \n",
        "\n",
        "# primer ulaza za moju sliku:\n",
        "# dst_points = [[164, 717, 1],\n",
        "#               [294, 717, 1],\n",
        "#               [294, 30, 1],\n",
        "#               [164, 30, 1]] \n",
        "\n",
        "dst_points = [[0, 0, 0],\n",
        "              [0, 0, 0],\n",
        "              [0, 0, 0], \n",
        "              [0, 0, 0]]\n",
        "\n",
        "print(\"Uneti afine koordinate 4 temena pravougaonika:\")\n",
        "for i in range(4):\n",
        "    dst_points[i][0] = float(input(\"x koordinata: \"))\n",
        "    dst_points[i][1] = float(input(\"y koordinata: \"))\n",
        "    dst_points[i][2] = 1\n",
        "\n",
        "change_photo(src_points, dst_points)"
      ],
      "execution_count": null,
      "outputs": []
    },
    {
      "cell_type": "markdown",
      "metadata": {
        "id": "NlXCS5NR-yaY"
      },
      "source": [
        "***4'. PANORAMA***"
      ]
    },
    {
      "cell_type": "code",
      "metadata": {
        "id": "XnYq_QZUav4s"
      },
      "source": [
        "import cv2\n",
        "import math\n",
        "import imageio\n",
        "import imutils\n",
        "import numpy as np\n",
        "import matplotlib.pyplot as plt\n",
        "cv2.ocl.setUseOpenCL(False)"
      ],
      "execution_count": null,
      "outputs": []
    },
    {
      "cell_type": "code",
      "metadata": {
        "id": "6o-YG2p5a4EH"
      },
      "source": [
        "# sledece dve komande su kako bi mi radio SIFT\n",
        "# (nakon njih je potrebno restartovati okruzenje)"
      ],
      "execution_count": null,
      "outputs": []
    },
    {
      "cell_type": "code",
      "metadata": {
        "id": "XvqibisrazjH"
      },
      "source": [
        "# pip install opencv-python==3.4.2.16"
      ],
      "execution_count": null,
      "outputs": []
    },
    {
      "cell_type": "code",
      "metadata": {
        "id": "OP4DRJWea24X"
      },
      "source": [
        "# pip install opencv-contrib-python==3.4.2.16"
      ],
      "execution_count": null,
      "outputs": []
    },
    {
      "cell_type": "code",
      "metadata": {
        "id": "Vpn47dwQa71a"
      },
      "source": [
        "# ucitavanja slika i njihov prikaz\n",
        "img2 = imageio.imread('img2.jpg')\n",
        "img2_gray = cv2.cvtColor(img2, cv2.COLOR_RGB2GRAY)\n",
        "\n",
        "img1 = imageio.imread('img1.jpg')\n",
        "img1_gray = cv2.cvtColor(img1, cv2.COLOR_RGB2GRAY)\n",
        "\n",
        "fig, (ax1, ax2) = plt.subplots(nrows=1, ncols=2, constrained_layout=False, figsize=(16,9))\n",
        "ax1.imshow(img1, cmap=\"gray\")\n",
        "ax2.imshow(img2, cmap=\"gray\")\n",
        "\n",
        "plt.show()"
      ],
      "execution_count": null,
      "outputs": []
    },
    {
      "cell_type": "code",
      "metadata": {
        "id": "qXrZicbsbgBm"
      },
      "source": [
        "# detektovanje tacaka na slici\n",
        "descriptor = cv2.xfeatures2d.SIFT_create()\n",
        "\n",
        "kpA, featuresA = descriptor.detectAndCompute(img2_gray, mask=None)\n",
        "kpB, featuresB = descriptor.detectAndCompute(img1_gray, mask=None)"
      ],
      "execution_count": null,
      "outputs": []
    },
    {
      "cell_type": "code",
      "metadata": {
        "id": "G19-f1hLb7cT"
      },
      "source": [
        "# prikaz kljucnih tacaka na slikama\n",
        "fig, (ax1,ax2) = plt.subplots(nrows=1, ncols=2, figsize=(20,8), constrained_layout=False)\n",
        "ax1.imshow(cv2.drawKeypoints(img2_gray, kpA, None, color=(0,255,0)))\n",
        "ax2.imshow(cv2.drawKeypoints(img1_gray, kpB, None, color=(0,255,0)))\n",
        "\n",
        "plt.show()"
      ],
      "execution_count": null,
      "outputs": []
    },
    {
      "cell_type": "code",
      "metadata": {
        "id": "Gf9fglAhclU5"
      },
      "source": [
        "def bf_match(featuresA, featuresB):\n",
        "    bf = cv2.BFMatcher(cv2.NORM_L2, crossCheck=True)\n",
        "        \n",
        "    best_matches = bf.match(featuresA, featuresB)\n",
        "    \n",
        "    rawMatches = sorted(best_matches, key = lambda x:x.distance)\n",
        "\n",
        "    return rawMatches"
      ],
      "execution_count": null,
      "outputs": []
    },
    {
      "cell_type": "code",
      "metadata": {
        "id": "Xxq0R2FZdJuG"
      },
      "source": [
        "# prikaz povezanosti tacaka sa slika\n",
        "fig = plt.figure(figsize=(20,8))\n",
        "\n",
        "matches = bf_match(featuresA, featuresB)\n",
        "\n",
        "img3 = cv2.drawMatches(img2, kpA, img1, kpB, matches[:100], None,\n",
        "                       flags=cv2.DrawMatchesFlags_NOT_DRAW_SINGLE_POINTS)\n",
        "\n",
        "plt.imshow(img3)\n",
        "plt.show()"
      ],
      "execution_count": null,
      "outputs": []
    },
    {
      "cell_type": "code",
      "metadata": {
        "id": "0CQgGMcrdbme"
      },
      "source": [
        "# RANSAC\n",
        "def homography(kpA, kpB, featuresA, featuresB, matches, reprojThresh):\n",
        "    \n",
        "    kpA = np.float32([kp.pt for kp in kpA])\n",
        "    kpB = np.float32([kp.pt for kp in kpB])\n",
        "    \n",
        "    if len(matches) > 4:\n",
        "        ptsA = np.float32([kpA[m.queryIdx] for m in matches])\n",
        "        ptsB = np.float32([kpB[m.trainIdx] for m in matches])\n",
        "        \n",
        "        (H, status) = cv2.findHomography(ptsA, ptsB, cv2.RANSAC,\n",
        "            reprojThresh)\n",
        "\n",
        "        return (matches, H, status)\n",
        "    else:\n",
        "        return None"
      ],
      "execution_count": null,
      "outputs": []
    },
    {
      "cell_type": "code",
      "metadata": {
        "id": "xz4fDJBfdiMk"
      },
      "source": [
        "(_, H, _) = homography(kpA, kpB, featuresA, featuresB, matches, reprojThresh=4)\n",
        "print(H)"
      ],
      "execution_count": null,
      "outputs": []
    },
    {
      "cell_type": "code",
      "metadata": {
        "id": "qgiwH17reHGt"
      },
      "source": [
        "# transformisanje\n",
        "width = img2.shape[1] + img1.shape[1]\n",
        "height = img2.shape[0] + img1.shape[0]\n",
        "\n",
        "res = cv2.warpPerspective(img2, H, (width, height))\n",
        "res[0:img1.shape[0], 0:img1.shape[1]] = img1\n",
        "\n",
        "plt.figure(figsize=(20,10))\n",
        "plt.imshow(res)\n",
        "\n",
        "plt.show()"
      ],
      "execution_count": null,
      "outputs": []
    },
    {
      "cell_type": "code",
      "metadata": {
        "id": "HjUovB8mehrL"
      },
      "source": [
        "# uklanjanje viska crnog u rezultatu\n",
        "gray = cv2.cvtColor(res, cv2.COLOR_BGR2GRAY)\n",
        "thresh = cv2.threshold(gray, 0, 255, cv2.THRESH_BINARY)[1]\n",
        "\n",
        "# trazi se povrsina crne oblasti\n",
        "cnts = cv2.findContours(thresh.copy(), cv2.RETR_EXTERNAL, cv2.CHAIN_APPROX_SIMPLE)\n",
        "cnts = imutils.grab_contours(cnts)\n",
        "\n",
        "c = max(cnts, key=cv2.contourArea)\n",
        "(x, y, w, h) = cv2.boundingRect(c)\n",
        "\n",
        "res = res[y:y + h, x:x + w]\n",
        "\n",
        "plt.figure(figsize=(20,10))\n",
        "plt.imshow(res)"
      ],
      "execution_count": null,
      "outputs": []
    }
  ]
}