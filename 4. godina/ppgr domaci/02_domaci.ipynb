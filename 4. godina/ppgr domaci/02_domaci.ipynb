{
  "nbformat": 4,
  "nbformat_minor": 0,
  "metadata": {
    "colab": {
      "name": "ppgr_domaci2.ipynb",
      "provenance": [],
      "collapsed_sections": []
    },
    "kernelspec": {
      "name": "python3",
      "display_name": "Python 3"
    }
  },
  "cells": [
    {
      "cell_type": "markdown",
      "metadata": {
        "id": "wihAQDseLWiK"
      },
      "source": [
        "1) Naivni algoritam (5 bodova), test primer\n",
        "\n",
        "2) Naivni algoritam,  DLT algoritam  i poredjenje za 4. korespodencije (8 bodova).\n",
        "\n",
        "3) Naivni algoritam,  DLT algoritam, modifikovani DLT algoritam (sa normalizacijom). Testiranje šta se dešava pri promeni koordinata i poredjenje sa DLT algoritmom  za više od 4 korespodencije (12 bodova)\n",
        "\n",
        "Dodatno: \\\\\n",
        "4) (do 5 bodova) Napisati aplikaciju koja ucitava bmp sliku, korisnik bira  (mišem ili unosi koordinate) 4 piksela koji se slikaju u pravougaonik (odnos stranica može da unosi korisnik, a može i da ga odredi aplikacija), a aplikacija vraca sliku sa otklonjenom projektivnom distorzijom (poslednji slajd). \n",
        "\n",
        "ili\n",
        "\n",
        "4') (do 8 bodova) Napisati funkciju koja učitava dve fotografije i od njih pravi panoramu. Korisnik identifikuje određen broj  (>= 4) tačaka  koje su \"iste\" na obe fotografije i na osnovu toga se računa projektivno preslikavanje koje \"lepi\" fotografije. Alternativno, može se koristiti SIFT biblioteka za odredjivanje tačaka. Implementacija RANSAC algoritma, ko želi."
      ]
    },
    {
      "cell_type": "markdown",
      "metadata": {
        "id": "p5XOMwmzMFT6"
      },
      "source": [
        "***NAIVNI ALGORITAM***"
      ]
    },
    {
      "cell_type": "code",
      "metadata": {
        "id": "Gao25F9yNM34"
      },
      "source": [
        "import numpy as np\n",
        "import matplotlib.pyplot as plt"
      ],
      "execution_count": 170,
      "outputs": []
    },
    {
      "cell_type": "code",
      "metadata": {
        "id": "9J5EiwoELQho"
      },
      "source": [
        "# originalne tacke\n",
        "src_points = [[-3, -1, 1],\n",
        "              [3, -1, 1],\n",
        "              [1, 1, 1],\n",
        "              [-1, 1, 1]]\n",
        "\n",
        "# slike tacaka\n",
        "dst_points = [[-2, -1, 1],\n",
        "              [2, -1, 1],\n",
        "              [2, 1, 1],\n",
        "              [-2, 1, 1]]"
      ],
      "execution_count": 183,
      "outputs": []
    },
    {
      "cell_type": "code",
      "metadata": {
        "id": "lPMOqWdVqRzP"
      },
      "source": [
        "def find_matrix(pts):\n",
        "    matrix = np.array([ # A, B, C\n",
        "        [pts[0][0], pts[1][0], pts[2][0]],\n",
        "        [pts[0][1], pts[1][1], pts[2][1]],\n",
        "        [pts[0][2], pts[1][2], pts[2][2]]\n",
        "    ])\n",
        "\n",
        "    D = np.array([pts[3][0], pts[3][1], pts[3][2]])\n",
        "\n",
        "    # D = alpha*A + beta*B + gamma*C\n",
        "    result = np.linalg.solve(matrix, D)\n",
        "\n",
        "    alpha = result[0]\n",
        "    beta = result[1]\n",
        "    gamma = result[2]\n",
        "\n",
        "    column1= np.array([alpha*pts[0][0], alpha*pts[0][1], alpha*pts[0][2]])\n",
        "    column2= np.array([beta*pts[1][0], beta*pts[1][1], beta*pts[1][2]])\n",
        "    column3= np.array([gamma*pts[2][0], gamma*pts[2][1], gamma*pts[2][2]])\n",
        "\n",
        "    P = np.column_stack([column1, column2, column3])\n",
        "\n",
        "    return P\n",
        "\n",
        "def naive_algorithm(src_p, dst_p):\n",
        "\n",
        "    P1 = find_matrix(src_p)\n",
        "    P2 = find_matrix(dst_p)\n",
        "\n",
        "    # P = P2*inv(P1)\n",
        "    P = np.dot(P2, np.linalg.inv(P1))\n",
        "\n",
        "    return P"
      ],
      "execution_count": 184,
      "outputs": []
    },
    {
      "cell_type": "code",
      "metadata": {
        "id": "LAFHR0GLRU86",
        "outputId": "42783365-9fd7-47ce-f523-f5ae6b957224",
        "colab": {
          "base_uri": "https://localhost:8080/",
          "height": 72
        }
      },
      "source": [
        "P_naive = naive_algorithm(src_points, dst_points)\n",
        "P_naive = P_naive.round()\n",
        "print(P_naive)"
      ],
      "execution_count": 190,
      "outputs": [
        {
          "output_type": "stream",
          "text": [
            "[[ 2. -0.  0.]\n",
            " [-0.  2. -1.]\n",
            " [ 0. -1.  2.]]\n"
          ],
          "name": "stdout"
        }
      ]
    },
    {
      "cell_type": "code",
      "metadata": {
        "id": "TMdcwJFkN7j5",
        "outputId": "72c1958b-da46-48c7-a01a-26d8e5eb849a",
        "colab": {
          "base_uri": "https://localhost:8080/",
          "height": 265
        }
      },
      "source": [
        "xs = [p[0] for p in src_points]\n",
        "ys = [p[1] for p in src_points]\n",
        "xs.append(src_points[0][0])\n",
        "ys.append(src_points[0][1])\n",
        "\n",
        "xd = [p[0] for p in dst_points]\n",
        "yd = [p[1] for p in dst_points]\n",
        "xd.append(dst_points[0][0])\n",
        "yd.append(dst_points[0][1])\n",
        "\n",
        "plt.plot(xs, ys)\n",
        "plt.plot(xd, yd)\n",
        "plt.legend(['original', 'slika'])\n",
        "plt.show()"
      ],
      "execution_count": 182,
      "outputs": [
        {
          "output_type": "display_data",
          "data": {
            "image/png": "[encoded data removed]",
            "text/plain": [
              "<Figure size 432x288 with 1 Axes>"
            ]
          },
          "metadata": {
            "tags": [],
            "needs_background": "light"
          }
        }
      ]
    },
    {
      "cell_type": "markdown",
      "metadata": {
        "id": "FgZYKv4wvXYQ"
      },
      "source": [
        "***DLT ALGORITAM***"
      ]
    },
    {
      "cell_type": "code",
      "metadata": {
        "id": "-W-fdj40Ox3W"
      },
      "source": [
        "def dlt(src_p, dst_p):\n",
        "    x = src_p[0][0]\n",
        "    y = src_p[0][1]\n",
        "    z = src_p[0][2]\n",
        "\n",
        "    u = dst_p[0][0]\n",
        "    v = dst_p[0][1]\n",
        "    w = dst_p[0][2]\n",
        "\n",
        "    A = np.array([\n",
        "        [0, 0, 0, -w*x, -w*y, -w*z, v*x, v*y, v*z],\n",
        "        [w*x, w*y, w*z, 0, 0, 0, -u*x, -u*y, -u*z]\n",
        "    ])\n",
        "\n",
        "    for i in range(1, len(src_p)):\n",
        "        x = src_p[i][0]\n",
        "        y = src_p[i][1]\n",
        "        z = src_p[i][2]\n",
        "\n",
        "        u = dst_p[i][0]\n",
        "        v = dst_p[i][1]\n",
        "        w = dst_p[i][2]\n",
        "\n",
        "        row1 = np.array([0, 0, 0, -w*x, -w*y, -w*z, v*x, v*y, v*z])\n",
        "        row2 = np.array([w*x, w*y, w*z, 0, 0, 0, -u*x, -u*y, -u*z])\n",
        "\n",
        "        A = np.vstack((A, row1))\n",
        "        A = np.vstack((A, row2))\n",
        "\n",
        "    # print(A.shape)\n",
        "    # print(A)\n",
        "\n",
        "    # SVD dekompozicija\n",
        "    U, S, V = np.linalg.svd(A)\n",
        "\n",
        "    P = V[-1].reshape(3,3)\n",
        "    \n",
        "    return P"
      ],
      "execution_count": 221,
      "outputs": []
    },
    {
      "cell_type": "code",
      "metadata": {
        "id": "tMePYnsTzcGV",
        "outputId": "2e0ab341-7ad7-4a11-96b1-10467e712f59",
        "colab": {
          "base_uri": "https://localhost:8080/",
          "height": 72
        }
      },
      "source": [
        "P_dlt = dlt(src_points, dst_points)\n",
        "print(P_dlt.round())"
      ],
      "execution_count": 223,
      "outputs": [
        {
          "output_type": "stream",
          "text": [
            "[[ 1.  0. -0.]\n",
            " [-0.  1. -0.]\n",
            " [-0. -0.  1.]]\n"
          ],
          "name": "stdout"
        }
      ]
    },
    {
      "cell_type": "markdown",
      "metadata": {
        "id": "H5fyJFj31LiD"
      },
      "source": [
        "***Poredjenje DLT i naivnog algoritma***"
      ]
    },
    {
      "cell_type": "code",
      "metadata": {
        "id": "ATUqFNca1PMl",
        "outputId": "ca7b632e-8088-4ff9-cca7-ed4c59c1e778",
        "colab": {
          "base_uri": "https://localhost:8080/",
          "height": 72
        }
      },
      "source": [
        "P_dlt = (P_dlt / P_dlt[0, 0]) * P_naive[0,0]\n",
        "print(P_dlt.round())"
      ],
      "execution_count": 225,
      "outputs": [
        {
          "output_type": "stream",
          "text": [
            "[[ 2.  0. -0.]\n",
            " [-0.  2. -1.]\n",
            " [-0. -1.  2.]]\n"
          ],
          "name": "stdout"
        }
      ]
    },
    {
      "cell_type": "code",
      "metadata": {
        "id": "Ld41iIo42opU",
        "outputId": "21c505c9-04cb-4391-eb9d-358f8600783e",
        "colab": {
          "base_uri": "https://localhost:8080/",
          "height": 72
        }
      },
      "source": [
        "P_dlt.round() == P_naive.round()"
      ],
      "execution_count": 227,
      "outputs": [
        {
          "output_type": "execute_result",
          "data": {
            "text/plain": [
              "array([[ True,  True,  True],\n",
              "       [ True,  True,  True],\n",
              "       [ True,  True,  True]])"
            ]
          },
          "metadata": {
            "tags": []
          },
          "execution_count": 227
        }
      ]
    },
    {
      "cell_type": "markdown",
      "metadata": {
        "id": "rUMQ4o9V20Sa"
      },
      "source": [
        "***MODIFIKOVANI DLT ALGORITAM***"
      ]
    }
  ]
}