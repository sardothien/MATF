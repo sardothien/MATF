{
  "nbformat": 4,
  "nbformat_minor": 0,
  "metadata": {
    "colab": {
      "name": "ppgr_domaci_3.ipynb",
      "provenance": [],
      "collapsed_sections": []
    },
    "kernelspec": {
      "name": "python3",
      "display_name": "Python 3"
    }
  },
  "cells": [
    {
      "cell_type": "code",
      "metadata": {
        "id": "-CRpZggtBaCl"
      },
      "source": [
        "import numpy as np\n",
        "import math\n",
        "from numpy import linalg as LA"
      ],
      "execution_count": 5,
      "outputs": []
    },
    {
      "cell_type": "markdown",
      "metadata": {
        "id": "16IydFtJBWI6"
      },
      "source": [
        "***1. Euler2A***"
      ]
    },
    {
      "cell_type": "code",
      "metadata": {
        "id": "9l9BjMqJAGc-"
      },
      "source": [
        "def Euler2A(phi, theta, psi):\n",
        "\n",
        "    R_z = np.array([[math.cos(psi), -math.sin(psi), 0],\n",
        "                    [math.sin(psi), math.cos(psi), 0],\n",
        "                    [0, 0, 1]])\n",
        "\n",
        "    R_y = np.array([[math.cos(theta), 0, math.sin(theta)],\n",
        "                    [0, 1, 0],\n",
        "                    [-math.sin(theta), 0, math.cos(theta)]])\n",
        "\n",
        "    R_x = np.array([[1, 0, 0],\n",
        "                    [0, math.cos(phi), -math.sin(phi)],\n",
        "                    [0, math.sin(phi), math.cos(phi)]])\n",
        "\n",
        "    A = (R_z.dot(R_y)).dot(R_x)\n",
        "    return A"
      ],
      "execution_count": 6,
      "outputs": []
    },
    {
      "cell_type": "code",
      "metadata": {
        "colab": {
          "base_uri": "https://localhost:8080/"
        },
        "id": "Q5BPLBtdBrI4",
        "outputId": "5b36062b-230b-4fcc-9272-dca1e470b0e9"
      },
      "source": [
        "A = Euler2A(math.atan2(1, 2), math.asin(2/3) , math.atan2(2, 1))\n",
        "print(A)"
      ],
      "execution_count": 7,
      "outputs": [
        {
          "output_type": "stream",
          "text": [
            "[[ 0.33333333 -0.66666667  0.66666667]\n",
            " [ 0.66666667  0.66666667  0.33333333]\n",
            " [-0.66666667  0.33333333  0.66666667]]\n"
          ],
          "name": "stdout"
        }
      ]
    },
    {
      "cell_type": "markdown",
      "metadata": {
        "id": "o_1XsWxKDtCM"
      },
      "source": [
        "***2. AxisAngle***"
      ]
    },
    {
      "cell_type": "code",
      "metadata": {
        "id": "Fhp2xhFcF7UF"
      },
      "source": [
        "def crossProduct(r, q):\n",
        "    p = np.zeros((1, 3))\n",
        "        \n",
        "    p[0][0] = r[1]*q[2] - r[2]*q[1]\n",
        "    p[0][1] = r[2]*q[0] - r[0]*q[2]\n",
        "    p[0][2] = r[0]*q[1] - r[1]*q[0]\n",
        "\n",
        "    return p"
      ],
      "execution_count": 8,
      "outputs": []
    },
    {
      "cell_type": "code",
      "metadata": {
        "id": "fvs1WFcuLGVn"
      },
      "source": [
        "def dotProduct(r, q):\n",
        "    return r[0]*q[0] + r[1]*q[1] + r[2]*q[2]"
      ],
      "execution_count": 9,
      "outputs": []
    },
    {
      "cell_type": "code",
      "metadata": {
        "id": "wtih8aLhDrmM"
      },
      "source": [
        "def AxisAngle(A):\n",
        "\n",
        "    # Provera da li je matrica A matrica rotacije\n",
        "    cond1 = A.dot(A.T).round(5) == np.eye(3)\n",
        "    cond1 = cond1.all()\n",
        "    cond2 = np.linalg.det(A) == 1.0    \n",
        "    if not cond1 or not cond2:\n",
        "        print(\"Matrica A nije matrica kretanja\")\n",
        "        return -1, -1\n",
        "\n",
        "    X = A - np.eye(3)\n",
        "\n",
        "    r = np.array([X[0][0], X[0][1], X[0][2]])\n",
        "    q = np.array([X[1][0], X[1][1], X[1][2]])\n",
        "\n",
        "    p = crossProduct(r, q)\n",
        "    # ako su r i q linearno zavisni\n",
        "    if p[0][0] == 0 and p[0][1] == 0 and p[0][2] == 0: \n",
        "        q = np.array([X[2][0], X[2][1], X[2][2]])\n",
        "\n",
        "    norm_p = math.sqrt(p[0][0]**2 + p[0][1]**2 + p[0][2]**2)\n",
        "    p = p * (1/norm_p) # jedinicni vektor\n",
        "\n",
        "    # --------------------------------------\n",
        "\n",
        "    norm_r = math.sqrt(r[0]**2 + r[1]**2 + r[2]**2)\n",
        "    u = r * (1/norm_r) \n",
        "\n",
        "    u_prim = A.dot(u)\n",
        "\n",
        "    cos_phi = dotProduct(u, u_prim)\n",
        "    phi = math.acos(cos_phi)\n",
        "\n",
        "    return p, phi"
      ],
      "execution_count": 39,
      "outputs": []
    },
    {
      "cell_type": "code",
      "metadata": {
        "colab": {
          "base_uri": "https://localhost:8080/"
        },
        "id": "xRM7YnHtDvHZ",
        "outputId": "ea24aaff-0e56-4370-c911-75e2f133c0a7"
      },
      "source": [
        "p, phi1 = AxisAngle(A)\n",
        "print(\"Prava: \", p)\n",
        "print(\"Ugao: \", phi1)\n",
        "# izlaz -1, -1 oznacava da A nije matrica rotacije"
      ],
      "execution_count": 40,
      "outputs": [
        {
          "output_type": "stream",
          "text": [
            "Prava:  [[1.17756934e-16 7.07106781e-01 7.07106781e-01]]\n",
            "Ugao:  1.2309594173407745\n"
          ],
          "name": "stdout"
        }
      ]
    },
    {
      "cell_type": "markdown",
      "metadata": {
        "id": "AE8tNP6ONDRT"
      },
      "source": [
        "***3. Rodrigez***"
      ]
    },
    {
      "cell_type": "code",
      "metadata": {
        "id": "z4BUAJsJNVVl"
      },
      "source": [
        "def rodrigez(p, phi):\n",
        "\n",
        "    # Provera da li je vektor p jedinicni\n",
        "    cond = (p[0][0]**2+p[0][1]**2+p[0][2]**2) == 1.0\n",
        "    if not cond:\n",
        "        print(\"Vektor p nije jedinicni!\")\n",
        "        return -1\n",
        "\n",
        "    R = p.T.dot(p)\n",
        "\n",
        "    Q = np.eye(3) - R\n",
        "\n",
        "    R = R + math.cos(phi)*Q\n",
        "\n",
        "    p_x = np.array([[0, -p[0][2], p[0][1]],\n",
        "                    [p[0][2], 0, -p[0][0]],\n",
        "                    [-p[0][1], p[0][0], 0]])\n",
        "\n",
        "    R = R + math.sin(phi)*p_x\n",
        "\n",
        "    return R"
      ],
      "execution_count": 52,
      "outputs": []
    },
    {
      "cell_type": "code",
      "metadata": {
        "colab": {
          "base_uri": "https://localhost:8080/"
        },
        "id": "hedLjUdCNboZ",
        "outputId": "fe873f83-02e5-4c45-91c7-09fd4078bf69"
      },
      "source": [
        "R = rodrigez(p, phi1)\n",
        "print(R.round(5)) # dobija se matrica iz (1)"
      ],
      "execution_count": 53,
      "outputs": [
        {
          "output_type": "stream",
          "text": [
            "[[ 0.33333 -0.66667  0.66667]\n",
            " [ 0.66667  0.66667  0.33333]\n",
            " [-0.66667  0.33333  0.66667]]\n"
          ],
          "name": "stdout"
        }
      ]
    },
    {
      "cell_type": "markdown",
      "metadata": {
        "id": "lBWBEdazS1M5"
      },
      "source": [
        "***4. A2Euler***"
      ]
    },
    {
      "cell_type": "code",
      "metadata": {
        "id": "RO8u_FS2S4Wh"
      },
      "source": [
        "def A2Euler(A):\n",
        "\n",
        "    # Provera da li je matrica A ortogonalna\n",
        "    cond = np.linalg.det(A) == 1.0\n",
        "    if not cond:\n",
        "        print(\"Matrica A nije ortogonalna!\")\n",
        "        return -1, -1, -1\n",
        "\n",
        "    a = A[2][0]\n",
        "\n",
        "    if a == 1:\n",
        "        theta = -math.pi / 2\n",
        "        phi = 0\n",
        "        psi = math.atan2(-A[0][1], A[1][1])\n",
        "    elif a == -1:\n",
        "        theta = math.pi / 2\n",
        "        phi = 0\n",
        "        psi = math.atan2(-A[0][1], A[1][1])\n",
        "    else:\n",
        "        theta = math.asin(-a)\n",
        "        phi = math.atan2(A[2][1], A[2][2])\n",
        "        psi = math.atan2(A[1][0], A[0][0])\n",
        "    \n",
        "    return phi, theta, psi"
      ],
      "execution_count": 56,
      "outputs": []
    },
    {
      "cell_type": "code",
      "metadata": {
        "colab": {
          "base_uri": "https://localhost:8080/"
        },
        "id": "p9wTjezYTH2f",
        "outputId": "a383fec5-0a1c-46d1-dbe5-87877f7459d2"
      },
      "source": [
        "phi, theta, psi = A2Euler(A)\n",
        "# dobijaju se pocetni uglovi (osim u slucaju gimbal lock-a)\n",
        "print(\"Phi: \", phi) \n",
        "print(\"Theta: \", theta)\n",
        "print(\"Psi: \", psi)"
      ],
      "execution_count": 57,
      "outputs": [
        {
          "output_type": "stream",
          "text": [
            "Phi:  0.4636476090008061\n",
            "Theta:  0.7297276562269663\n",
            "Psi:  1.1071487177940904\n"
          ],
          "name": "stdout"
        }
      ]
    },
    {
      "cell_type": "markdown",
      "metadata": {
        "id": "ZdbMykaVXYR2"
      },
      "source": [
        "***5. AxisAngle2Q***"
      ]
    },
    {
      "cell_type": "code",
      "metadata": {
        "id": "ygceBv9CXXWr"
      },
      "source": [
        "def AxisAngle2Q(p, phi):\n",
        "\n",
        "    # Provera da li je vektor p jedinicni\n",
        "    cond = (p[0][0]**2+p[0][1]**2+p[0][2]**2) == 1.0\n",
        "    if not cond:\n",
        "        print(\"Vektor p nije jedinicni!\")\n",
        "        norm = math.sqrt(p[0][0]**2+p[0][1]**2+p[0][2]**2)\n",
        "        p = p * (1/norm) # normalizacija\n",
        "\n",
        "    w = math.cos(phi/2)\n",
        "\n",
        "    r = math.sin(phi/2) * p\n",
        "\n",
        "    q = np.array([r, w])\n",
        "\n",
        "    # sredjivanje kvaterniona (za lakse indeksiranje kasnije)\n",
        "    q = np.array([q[0][0][0], q[0][0][1], q[0][0][2], q[1]])\n",
        "\n",
        "    return q    "
      ],
      "execution_count": 66,
      "outputs": []
    },
    {
      "cell_type": "code",
      "metadata": {
        "colab": {
          "base_uri": "https://localhost:8080/"
        },
        "id": "xznicoymX1X7",
        "outputId": "544e0dcd-0d05-4dc7-ff4c-4847f88d5d7e"
      },
      "source": [
        "q = AxisAngle2Q(p, phi1)\n",
        "print(q)"
      ],
      "execution_count": 67,
      "outputs": [
        {
          "output_type": "stream",
          "text": [
            "[6.79869978e-17 4.08248290e-01 4.08248290e-01 8.16496581e-01]\n"
          ],
          "name": "stdout"
        }
      ]
    },
    {
      "cell_type": "markdown",
      "metadata": {
        "id": "PkonlF1QZrMK"
      },
      "source": [
        "***6. Q2AxisAngle***"
      ]
    },
    {
      "cell_type": "code",
      "metadata": {
        "id": "QfVCzqRAaJd6"
      },
      "source": [
        "def Q2AxisAngle(q):\n",
        "\n",
        "    # Provera da li je kvaternion jedinicni\n",
        "    cond = (q[0]**2+q[1]**2+q[2]**2+q[3]**2).round(3) == 1.0\n",
        "    if not cond:\n",
        "        print(\"Kvaternion nije jedincni!\")\n",
        "        norm = math.sqrt(q[0]**2+q[1]**2+q[2]**2+q[3]**2)\n",
        "        q = q * (1/norm) # normalizacija\n",
        "\n",
        "    w = q[3]\n",
        "\n",
        "    if w < 0:\n",
        "        q = -q\n",
        "\n",
        "    phi = 2*math.acos(w)\n",
        "\n",
        "    if abs(w) == 1:\n",
        "        p = np.array([1, 0, 0])\n",
        "    else:\n",
        "        v = np.array([q[0], q[1], q[2]])\n",
        "        norm_v = math.sqrt(v[0]**2 + v[1]**2 + v[2]**2)\n",
        "        p = v * (1/norm_v)\n",
        "\n",
        "    return p, phi"
      ],
      "execution_count": 73,
      "outputs": []
    },
    {
      "cell_type": "code",
      "metadata": {
        "colab": {
          "base_uri": "https://localhost:8080/"
        },
        "id": "9KT9wPzbZzSR",
        "outputId": "6732f755-3bfd-44a0-ca4c-c0f5f60b152b"
      },
      "source": [
        "p, phi = Q2AxisAngle(q)\n",
        "print(p, phi) # rezultat je isti kao i u (2) "
      ],
      "execution_count": 74,
      "outputs": [
        {
          "output_type": "stream",
          "text": [
            "[1.17756934e-16 7.07106781e-01 7.07106781e-01] 1.2309594173407747\n"
          ],
          "name": "stdout"
        }
      ]
    }
  ]
}