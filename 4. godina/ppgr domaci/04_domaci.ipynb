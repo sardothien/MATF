{
  "nbformat": 4,
  "nbformat_minor": 0,
  "metadata": {
    "colab": {
      "name": "ppgr_domaci_4.ipynb",
      "provenance": [],
      "collapsed_sections": []
    },
    "kernelspec": {
      "name": "python3",
      "display_name": "Python 3"
    }
  },
  "cells": [
    {
      "cell_type": "markdown",
      "metadata": {
        "id": "atdOuKSGi0uK"
      },
      "source": [
        "***Prvi deo***"
      ]
    },
    {
      "cell_type": "code",
      "metadata": {
        "id": "5uW-lqc0iztq"
      },
      "source": [
        "import numpy as np\r\n",
        "from numpy import linalg as LA"
      ],
      "execution_count": 1,
      "outputs": []
    },
    {
      "cell_type": "code",
      "metadata": {
        "id": "YtlBU11ZhrrG"
      },
      "source": [
        "def ParametriKamere(T):\r\n",
        "\r\n",
        "    T0 = T[:, :-1]\r\n",
        "\r\n",
        "    if LA.det(T0) < 0:\r\n",
        "        T = -T\r\n",
        "\r\n",
        "    # -- C --------------------------------------------\r\n",
        "    c1 = LA.det(T[:, 1:])\r\n",
        "    c2 = -LA.det(np.array([T[:,0], T[:,2], T[:,3]]).T)\r\n",
        "    c3 = LA.det(np.array([T[:,0], T[:,1], T[:,3]]).T)\r\n",
        "    c4 = -LA.det(T[:, :-1])\r\n",
        "\r\n",
        "    c1 = c1/c4\r\n",
        "    c2 = c2/c4\r\n",
        "    c3 = c3/c4\r\n",
        "\r\n",
        "    C = np.array([c1, c2, c3])\r\n",
        "\r\n",
        "    # -------------------------------------------------\r\n",
        "\r\n",
        "    Q, R = LA.qr(LA.inv(T0))\r\n",
        "\r\n",
        "    if R[0][0] < 0:\r\n",
        "        R[0] = -R[0]\r\n",
        "        Q[:,0] = -Q[:,0]\r\n",
        "    if R[1][1] < 0:\r\n",
        "        R[1] = -R[1]\r\n",
        "        Q[:,1] = -Q[:,1]\r\n",
        "    if R[2][2] < 0:\r\n",
        "        R[2] = -R[2]\r\n",
        "        Q[:,2] = -Q[:,2]\r\n",
        "\r\n",
        "    # A \r\n",
        "    A = Q.T\r\n",
        "\r\n",
        "    # K = R^-1\r\n",
        "    K = T0.dot(Q)\r\n",
        "\r\n",
        "    if K[2][2] != 1:\r\n",
        "        K = K / K[2][2]\r\n",
        "\r\n",
        "    return K, A, C"
      ],
      "execution_count": 2,
      "outputs": []
    },
    {
      "cell_type": "code",
      "metadata": {
        "id": "Ticb3MZJ9Sx0"
      },
      "source": [
        "n = 1"
      ],
      "execution_count": 3,
      "outputs": []
    },
    {
      "cell_type": "code",
      "metadata": {
        "id": "Dk9MwFkpjUnE"
      },
      "source": [
        "T = np.array([[5, -1-2*n, 3, 18-3*n],\r\n",
        "             [0, -1, 5, 21],\r\n",
        "             [0, -1, 0, 1]])"
      ],
      "execution_count": 4,
      "outputs": []
    },
    {
      "cell_type": "code",
      "metadata": {
        "colab": {
          "base_uri": "https://localhost:8080/"
        },
        "id": "_0nLknxOjkCq",
        "outputId": "1e35d3e9-e29f-4456-c419-43354aa2eebb"
      },
      "source": [
        "K, A, C = ParametriKamere(T)\r\n",
        "print(\"K:\\n\", K.round(5))\r\n",
        "print(\"A:\\n\", A.round(5))\r\n",
        "print(\"C:\\n\", C.round(5))"
      ],
      "execution_count": 5,
      "outputs": [
        {
          "output_type": "stream",
          "text": [
            "K:\n",
            " [[5. 3. 3.]\n",
            " [0. 5. 1.]\n",
            " [0. 0. 1.]]\n",
            "A:\n",
            " [[ 1.  0.  0.]\n",
            " [ 0.  0.  1.]\n",
            " [-0. -1. -0.]]\n",
            "C:\n",
            " [-0.  1. -4.]\n"
          ],
          "name": "stdout"
        }
      ]
    },
    {
      "cell_type": "markdown",
      "metadata": {
        "id": "hBUWlN2ovhZa"
      },
      "source": [
        "***Drugi deo***"
      ]
    },
    {
      "cell_type": "code",
      "metadata": {
        "id": "0tEjfzlKyZDn"
      },
      "source": [
        "M1 = np.array([460, 280, 250, 1])\r\n",
        "M2 = np.array([50, 380, 350, 1])\r\n",
        "M3 = np.array([470, 500, 100, 1])\r\n",
        "M4 = np.array([380, 630, 50*n, 1])\r\n",
        "M5 = np.array([30*n, 290, 0, 1])\r\n",
        "M6 = np.array([580, 0, 130, 1])"
      ],
      "execution_count": 6,
      "outputs": []
    },
    {
      "cell_type": "code",
      "metadata": {
        "id": "nvpHhW0BysAA"
      },
      "source": [
        "M1p = np.array([288, 251, 1])\r\n",
        "M2p = np.array([79, 510, 1])\r\n",
        "M3p = np.array([470, 440, 1])\r\n",
        "M4p = np.array([520, 590, 1])\r\n",
        "M5p = np.array([365, 388, 1])\r\n",
        "M6p = np.array([365, 20, 1])"
      ],
      "execution_count": 7,
      "outputs": []
    },
    {
      "cell_type": "code",
      "metadata": {
        "id": "a5Weo52ly8z_"
      },
      "source": [
        "originali = np.array([M1, M2, M3, M4, M5, M6])\r\n",
        "projekcije = np.array([M1p, M2p, M3p, M4p, M5p, M6p])"
      ],
      "execution_count": 8,
      "outputs": []
    },
    {
      "cell_type": "code",
      "metadata": {
        "id": "GFYqw7Gcvjz9"
      },
      "source": [
        "def CameraDLP(originali, projekcije):\r\n",
        "    x = originali[0][0]\r\n",
        "    y = originali[0][1]\r\n",
        "    z = originali[0][2]\r\n",
        "    t = originali[0][3]\r\n",
        "\r\n",
        "    u = projekcije[0][0]\r\n",
        "    v = projekcije[0][1]\r\n",
        "    w = projekcije[0][2]\r\n",
        "\r\n",
        "    A = np.array([\r\n",
        "        [0, 0, 0, 0, -w*x, -w*y, -w*z, -w*t, v*x, v*y, v*z, v*t],\r\n",
        "        [w*x, w*y, w*z, w*t, 0, 0, 0, 0, -u*x, -u*y, -u*z, -u*t]\r\n",
        "    ])\r\n",
        "\r\n",
        "    for i in range(1, len(originali)):\r\n",
        "        x = originali[i][0]\r\n",
        "        y = originali[i][1]\r\n",
        "        z = originali[i][2]\r\n",
        "        t = originali[i][3]\r\n",
        "\r\n",
        "        u = projekcije[i][0]\r\n",
        "        v = projekcije[i][1]\r\n",
        "        w = projekcije[i][2]\r\n",
        "\r\n",
        "        row1 = np.array([0, 0, 0, 0, -w*x, -w*y, -w*z, -w*t, v*x, v*y, v*z, v*t])\r\n",
        "        row2 = np.array([w*x, w*y, w*z, w*t, 0, 0, 0, 0, -u*x, -u*y, -u*z, -u*t])\r\n",
        "\r\n",
        "        A = np.vstack((A, row1))\r\n",
        "        A = np.vstack((A, row2))\r\n",
        "\r\n",
        "    # SVD dekompozicija\r\n",
        "    U, S, V = np.linalg.svd(A)\r\n",
        "\r\n",
        "    T = V[-1].reshape(3, 4)\r\n",
        "    \r\n",
        "    return T"
      ],
      "execution_count": 9,
      "outputs": []
    },
    {
      "cell_type": "code",
      "metadata": {
        "colab": {
          "base_uri": "https://localhost:8080/"
        },
        "id": "yYzIYcmtz_Wc",
        "outputId": "3d67cadb-ff52-42af-fb09-872e69874b28"
      },
      "source": [
        "T = CameraDLP(originali, projekcije)\r\n",
        "T = T / T[0][0]\r\n",
        "print(\"T:\\n\", T)"
      ],
      "execution_count": 10,
      "outputs": [
        {
          "output_type": "stream",
          "text": [
            "T:\n",
            " [[ 1.00000000e+00  7.44887603e-02 -5.06787057e+00  2.01818651e+03]\n",
            " [-1.96113036e+00  3.04808672e+00 -9.94850183e-01  1.37344176e+03]\n",
            " [-1.08348240e-03 -2.55445225e-03 -3.78543549e-03  6.43992929e+00]]\n"
          ],
          "name": "stdout"
        }
      ]
    }
  ]
}